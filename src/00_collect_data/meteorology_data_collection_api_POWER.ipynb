{
 "cells": [
  {
   "cell_type": "markdown",
   "metadata": {},
   "source": [
    "# Meteorological Data Collection\n",
    "To collect meteorological data for starting points of wildfires, we used [NASA POWER APIs](https://power.larc.nasa.gov/docs/services/api/). \n",
    "POWER stands for Prediction Of Worldwide Energy Resources and the goal of the project is to provide solar & meterorological data from NASA research for support of renewable energy, building energy efficiency, & agricultural needs."
   ]
  },
  {
   "cell_type": "markdown",
   "metadata": {},
   "source": [
    "Terms of Use:\n",
    "> These data were obtained from the NASA Langley Research Center POWER Project funded through the NASA Earth Science Directorate Applied Science Program."
   ]
  },
  {
   "cell_type": "markdown",
   "metadata": {},
   "source": [
    "The meteorological data/parameters in POWER are **space-based** and come from two models: \n",
    "* [(GMAO MERRA-2)](https://gmao.gsfc.nasa.gov/reanalysis/MERRA-2/) that stands for the Goddard’s Global Modeling and Assimilation Office Modern Era Retrospective-Analysis for Research and Applications\n",
    "* [GEOS 5.12.4](https://gmao.gsfc.nasa.gov/news/geos_system_news/2016/FP-IT_NRT_G5.12.4.php): GMAO Forward Processing – Instrument Teams (FP-IT) Near Real Time (NRT) products. \n",
    "The difference between two models is that MERRA-2 is better postprocessed, but not available for the last 1-2 months. Wildfires data covers a range from from July 2020 to January 2023, so probably s couple of the most recent observations came from GEOS FP-IT model because the meteorological data was queried on 01-02-2023.\n",
    "\n",
    "POWER data has global coverage and organized as a grid:\n",
    "* For the meteorological datasets spatial resolutions (grid cell size) are ½° latitude by ⅝° longitude (~50 km)\n",
    "* Precipitation resolution is 0.1° x 0.1 (10 km)\n",
    "\n",
    "More details on data are available on NASA POWER documentation [page](https://power.larc.nasa.gov/docs/methodology/meteorology/)."
   ]
  },
  {
   "cell_type": "code",
   "execution_count": 1,
   "metadata": {},
   "outputs": [],
   "source": [
    "# Import\n",
    "import pandas as pd\n",
    "import numpy as np\n",
    "\n",
    "import requests\n",
    "import re\n",
    "import io\n",
    "\n",
    "from datetime import timedelta\n",
    "\n",
    "# importing sys\n",
    "import sys\n",
    " \n",
    "# adding Config file\n",
    "sys.path.insert(0, '../config/')\n",
    "\n",
    "from config import Config"
   ]
  },
  {
   "cell_type": "code",
   "execution_count": 2,
   "metadata": {},
   "outputs": [],
   "source": [
    "# Load Wildfire Dataset\n",
    "df = pd.read_csv('../../data/processed/wildfire.csv')\n",
    "\n",
    "# Convert dates into pandas datetime\n",
    "df['FireDiscoveryDateTime'] = pd.to_datetime(df['FireDiscoveryDateTime'], infer_datetime_format=True, errors = 'coerce')\n",
    "df['ControlDateTime'] = pd.to_datetime(df['ControlDateTime'], infer_datetime_format=True, errors = 'coerce')"
   ]
  },
  {
   "cell_type": "code",
   "execution_count": 3,
   "metadata": {},
   "outputs": [
    {
     "data": {
      "text/plain": [
       "(21541, 20)"
      ]
     },
     "execution_count": 3,
     "metadata": {},
     "output_type": "execute_result"
    }
   ],
   "source": [
    "# Checking dimensions\n",
    "df.shape"
   ]
  },
  {
   "cell_type": "markdown",
   "metadata": {},
   "source": [
    "During the meteorological data collection we gathered the following datasets:\n",
    "* Basic meteorological metrics for wildfire date range, including temperature, wind, relative air humidity\n",
    "* Historical precipitation for preceding 6 months of the fire start date\n",
    "* Extended meteorological data like UV index and soil humidity.\n",
    "\n",
    "### Basic Meteorology data"
   ]
  },
  {
   "cell_type": "code",
   "execution_count": 33,
   "metadata": {},
   "outputs": [],
   "source": [
    "def build_request_param(id, lat, long, start_date, end_date, result_df, base_uri, date_filter='%Y%m%d'):\n",
    "    \"\"\"Generate api request and process results to store in pandas dataframe form\n",
    "\n",
    "    Args:\n",
    "        id (int): Wildfire id\n",
    "        lat (float): Latitude of fire\n",
    "        long (float): Longitude of fire\n",
    "        start_date (Datetime): Fire start date\n",
    "        end_date (Datetime): Fire end date\n",
    "        result_df (DataFrame): Result dataframe\n",
    "        base_uri (string): Base api uri\n",
    "\n",
    "    \n",
    "        date_filter (str, optional): _description_. Defaults to '%Y%m%d'.\n",
    "\n",
    "    Returns:\n",
    "        DataFrame: result dataframe\n",
    "    \"\"\"\n",
    "    # Parameters\n",
    "    params = f\"latitude={lat}&longitude={long}&start={start_date.strftime(date_filter)}&end={end_date.strftime(date_filter)}\"\n",
    "\n",
    "    # Attach params to base uri\n",
    "    base_uri += params\n",
    "\n",
    "    try:\n",
    "        # Call NASA endpoint\n",
    "        res = requests.get(base_uri)\n",
    "\n",
    "        # Extract table from csv format\n",
    "        split_text = res.text.split(\"-END HEADER-\")\n",
    "\n",
    "        # Check if response has result for the fire\n",
    "        if len(split_text) >= 2:\n",
    "            # Convert text to dataframe\n",
    "            response_df = pd.read_csv(io.StringIO(split_text[1]))\n",
    "\n",
    "            # Add necessary columns\n",
    "            response_df[\"LAT\"] = lat\n",
    "            response_df[\"LONG\"] = long\n",
    "            response_df[\"PID\"] = id\n",
    "\n",
    "            # Concat to result dataframe\n",
    "            result_df = pd.concat([result_df, response_df])\n",
    "\n",
    "            return result_df\n",
    "            \n",
    "        # if endpoint has no result than just return result dataframe\n",
    "        return result_df\n",
    "    except ConnectionError:\n",
    "        print('Error: Connection error during api call. Please check!')"
   ]
  },
  {
   "cell_type": "code",
   "execution_count": 28,
   "metadata": {},
   "outputs": [],
   "source": [
    "# Create nasa dataframe to hold results from endpoint calls\n",
    "nasa_df = pd.DataFrame()\n",
    "\n",
    "# Define weather parameters needs to be pulled\n",
    "parameters = \"parameters=T2M,T2M_MAX,QV2M,PRECTOTCORR,WS2M,WS2M_MAX,WS10M,WS10M_MAX,GWETTOP,GWETPROF\"\n",
    "\n",
    "# Adjust base uri to include weather parameters\n",
    "base_uri = f\"https://power.larc.nasa.gov/api/temporal/daily/point?time-standard=lst&header=true&format=csv&community=sb&{parameters}&\"\n",
    "\n",
    "# Call endpoint by passing each wildfire\n",
    "for i in df.index:\n",
    "    nasa_df = build_request_param(\n",
    "        i,\n",
    "        df.loc[i, \"InitialLatitude\"],\n",
    "        df.loc[i, \"InitialLongitude\"],\n",
    "        df.loc[i, \"FireDiscoveryDateTime\"],\n",
    "        df.loc[i, \"ControlDateTime\"],\n",
    "        nasa_df,\n",
    "        base_uri,\n",
    "    )"
   ]
  },
  {
   "cell_type": "code",
   "execution_count": 30,
   "metadata": {},
   "outputs": [],
   "source": [
    "# Store weather data to folder\n",
    "nasa_df.to_csv(Config().get_raw_meteorology_path(\"nasa_weather\"), index=False)"
   ]
  },
  {
   "cell_type": "markdown",
   "metadata": {},
   "source": [
    "### Extra meteorology measurements\n",
    "For this one and historical precipitation, we used locations of fires that lasted longer than 1 day and affected more than one acre."
   ]
  },
  {
   "cell_type": "code",
   "execution_count": 24,
   "metadata": {},
   "outputs": [
    {
     "data": {
      "text/plain": [
       "(2863, 20)"
      ]
     },
     "execution_count": 24,
     "metadata": {},
     "output_type": "execute_result"
    }
   ],
   "source": [
    "# Filter wildfire to big fires lasting more than 1 day\n",
    "filtered_df = (df[df['DailyAcres'] > 1]) \n",
    "filtered_df = filtered_df[((filtered_df['ControlDateTime'] - filtered_df['FireDiscoveryDateTime']) > timedelta(days=1))]\n",
    "filtered_df.shape"
   ]
  },
  {
   "cell_type": "code",
   "execution_count": 54,
   "metadata": {},
   "outputs": [
    {
     "data": {
      "text/html": [
       "<div>\n",
       "<style scoped>\n",
       "    .dataframe tbody tr th:only-of-type {\n",
       "        vertical-align: middle;\n",
       "    }\n",
       "\n",
       "    .dataframe tbody tr th {\n",
       "        vertical-align: top;\n",
       "    }\n",
       "\n",
       "    .dataframe thead th {\n",
       "        text-align: right;\n",
       "    }\n",
       "</style>\n",
       "<table border=\"1\" class=\"dataframe\">\n",
       "  <thead>\n",
       "    <tr style=\"text-align: right;\">\n",
       "      <th></th>\n",
       "      <th>X</th>\n",
       "      <th>Y</th>\n",
       "      <th>ContainmentDateTime</th>\n",
       "      <th>ControlDateTime</th>\n",
       "      <th>DailyAcres</th>\n",
       "      <th>DiscoveryAcres</th>\n",
       "      <th>FireCause</th>\n",
       "      <th>FireDiscoveryDateTime</th>\n",
       "      <th>IncidentTypeCategory</th>\n",
       "      <th>IncidentTypeKind</th>\n",
       "      <th>InitialLatitude</th>\n",
       "      <th>InitialLongitude</th>\n",
       "      <th>IrwinID</th>\n",
       "      <th>LocalIncidentIdentifier</th>\n",
       "      <th>POOCounty</th>\n",
       "      <th>POODispatchCenterID</th>\n",
       "      <th>POOFips</th>\n",
       "      <th>POOState</th>\n",
       "      <th>UniqueFireIdentifier</th>\n",
       "      <th>id</th>\n",
       "    </tr>\n",
       "  </thead>\n",
       "  <tbody>\n",
       "    <tr>\n",
       "      <th>1</th>\n",
       "      <td>-115.748812</td>\n",
       "      <td>40.617506</td>\n",
       "      <td>2020-08-03 23:00:00+00:00</td>\n",
       "      <td>2020-09-02 15:00:00+00:00</td>\n",
       "      <td>5985.9</td>\n",
       "      <td>5.0</td>\n",
       "      <td>Natural</td>\n",
       "      <td>2020-07-19 23:00:00+00:00</td>\n",
       "      <td>WF</td>\n",
       "      <td>FI</td>\n",
       "      <td>40.602563</td>\n",
       "      <td>-115.719777</td>\n",
       "      <td>{91E0CBAB-A24E-4590-B6C6-2B4A46907E8A}</td>\n",
       "      <td>10145</td>\n",
       "      <td>Elko</td>\n",
       "      <td>NVEIC</td>\n",
       "      <td>32007</td>\n",
       "      <td>US-NV</td>\n",
       "      <td>2020-NVECFX-010145</td>\n",
       "      <td>1</td>\n",
       "    </tr>\n",
       "  </tbody>\n",
       "</table>\n",
       "</div>"
      ],
      "text/plain": [
       "            X          Y        ContainmentDateTime           ControlDateTime  \\\n",
       "1 -115.748812  40.617506  2020-08-03 23:00:00+00:00 2020-09-02 15:00:00+00:00   \n",
       "\n",
       "   DailyAcres  DiscoveryAcres FireCause     FireDiscoveryDateTime  \\\n",
       "1      5985.9             5.0   Natural 2020-07-19 23:00:00+00:00   \n",
       "\n",
       "  IncidentTypeCategory IncidentTypeKind  InitialLatitude  InitialLongitude  \\\n",
       "1                   WF               FI        40.602563       -115.719777   \n",
       "\n",
       "                                  IrwinID  LocalIncidentIdentifier POOCounty  \\\n",
       "1  {91E0CBAB-A24E-4590-B6C6-2B4A46907E8A}                    10145      Elko   \n",
       "\n",
       "  POODispatchCenterID  POOFips POOState UniqueFireIdentifier  id  \n",
       "1               NVEIC    32007    US-NV   2020-NVECFX-010145   1  "
      ]
     },
     "execution_count": 54,
     "metadata": {},
     "output_type": "execute_result"
    }
   ],
   "source": [
    "filtered_df.head(1)"
   ]
  },
  {
   "cell_type": "code",
   "execution_count": 34,
   "metadata": {},
   "outputs": [],
   "source": [
    "# Define result df for big fires\n",
    "nasa_big_fire_df = pd.DataFrame()\n",
    "\n",
    "# Define weather parameters for big fires\n",
    "parameters = \"parameters=T2MDEW,T2MWET,RH2M,CLRSKY_SFC_PAR_TOT,ALLSKY_SFC_PAR_TOT,ALLSKY_SFC_UV_INDEX\"\n",
    "\n",
    "# Attach parameters to base uri\n",
    "base_uri = f\"https://power.larc.nasa.gov/api/temporal/daily/point?time-standard=lst&header=true&format=csv&community=sb&{parameters}&\"\n",
    "\n",
    "# Call endpoint for each fire\n",
    "for i in filtered_df.index:\n",
    "    nasa_big_fire_df = build_request_param(\n",
    "        filtered_df.loc[i, 'id'],\n",
    "        filtered_df.loc[i, \"InitialLatitude\"],\n",
    "        filtered_df.loc[i, \"InitialLongitude\"],\n",
    "        filtered_df.loc[i, \"FireDiscoveryDateTime\"],\n",
    "        filtered_df.loc[i, \"ControlDateTime\"],\n",
    "        nasa_big_fire_df,\n",
    "        base_uri,\n",
    "    )"
   ]
  },
  {
   "cell_type": "code",
   "execution_count": 35,
   "metadata": {},
   "outputs": [
    {
     "data": {
      "text/html": [
       "<div>\n",
       "<style scoped>\n",
       "    .dataframe tbody tr th:only-of-type {\n",
       "        vertical-align: middle;\n",
       "    }\n",
       "\n",
       "    .dataframe tbody tr th {\n",
       "        vertical-align: top;\n",
       "    }\n",
       "\n",
       "    .dataframe thead th {\n",
       "        text-align: right;\n",
       "    }\n",
       "</style>\n",
       "<table border=\"1\" class=\"dataframe\">\n",
       "  <thead>\n",
       "    <tr style=\"text-align: right;\">\n",
       "      <th></th>\n",
       "      <th>YEAR</th>\n",
       "      <th>MO</th>\n",
       "      <th>DY</th>\n",
       "      <th>T2MDEW</th>\n",
       "      <th>T2MWET</th>\n",
       "      <th>RH2M</th>\n",
       "      <th>CLRSKY_SFC_PAR_TOT</th>\n",
       "      <th>ALLSKY_SFC_PAR_TOT</th>\n",
       "      <th>ALLSKY_SFC_UV_INDEX</th>\n",
       "      <th>LAT</th>\n",
       "      <th>LONG</th>\n",
       "      <th>ID</th>\n",
       "    </tr>\n",
       "  </thead>\n",
       "  <tbody>\n",
       "    <tr>\n",
       "      <th>0</th>\n",
       "      <td>2020</td>\n",
       "      <td>7</td>\n",
       "      <td>19</td>\n",
       "      <td>3.02</td>\n",
       "      <td>13.91</td>\n",
       "      <td>27.31</td>\n",
       "      <td>155.74</td>\n",
       "      <td>135.5</td>\n",
       "      <td>2.55</td>\n",
       "      <td>40.602563</td>\n",
       "      <td>-115.719777</td>\n",
       "      <td>1</td>\n",
       "    </tr>\n",
       "  </tbody>\n",
       "</table>\n",
       "</div>"
      ],
      "text/plain": [
       "   YEAR  MO  DY  T2MDEW  T2MWET   RH2M  CLRSKY_SFC_PAR_TOT  \\\n",
       "0  2020   7  19    3.02   13.91  27.31              155.74   \n",
       "\n",
       "   ALLSKY_SFC_PAR_TOT  ALLSKY_SFC_UV_INDEX        LAT        LONG  ID  \n",
       "0               135.5                 2.55  40.602563 -115.719777   1  "
      ]
     },
     "execution_count": 35,
     "metadata": {},
     "output_type": "execute_result"
    }
   ],
   "source": [
    "nasa_big_fire_df.head(1)"
   ]
  },
  {
   "cell_type": "code",
   "execution_count": 36,
   "metadata": {},
   "outputs": [],
   "source": [
    "# Store weather for big fire\n",
    "nasa_big_fire_df.to_csv(Config().get_raw_meteorology_path(\"nasa_weather_extra\"), index=False)"
   ]
  },
  {
   "cell_type": "markdown",
   "metadata": {},
   "source": [
    "### Historical precipitation for 6 months preceding to the fire start date"
   ]
  },
  {
   "cell_type": "code",
   "execution_count": null,
   "metadata": {},
   "outputs": [],
   "source": [
    "# Define dataframe to store 6 months rain and snow in the past\n",
    "nasa_last_180_prec_df = pd.DataFrame()\n",
    "\n",
    "# Define parameters\n",
    "parameters = \"parameters=PRECTOTCORR_SUM,PRECSNO\"\n",
    "\n",
    "# Attach params to base uri\n",
    "base_uri = f\"https://power.larc.nasa.gov/api/temporal/monthly/point?header=true&format=csv&community=sb&{parameters}&\"\n",
    "\n",
    "# Call api \n",
    "for i in filtered_df.index:\n",
    "    nasa_last_180_prec_df = build_request_param(\n",
    "        filtered_df.loc[i, 'id'],\n",
    "        filtered_df.loc[i, \"InitialLatitude\"],\n",
    "        filtered_df.loc[i, \"InitialLongitude\"],\n",
    "        filtered_df.loc[i, \"FireDiscoveryDateTime\"] - pd.tseries.offsets.DateOffset(months=6),  # Substract 6 months from fire discovery day\n",
    "        filtered_df.loc[i, \"FireDiscoveryDateTime\"],\n",
    "        nasa_last_180_prec_df,\n",
    "        base_uri,\n",
    "        date_filter='%Y'\n",
    "    )"
   ]
  },
  {
   "cell_type": "code",
   "execution_count": 82,
   "metadata": {},
   "outputs": [],
   "source": [
    "# Store result into data folder\n",
    "nasa_last_180_prec_df.to_csv(\n",
    "    Config().get_raw_meteorology_path(\"nasa_weather_last_180days\"), index=False\n",
    ")"
   ]
  }
 ],
 "metadata": {
  "kernelspec": {
   "display_name": "Python 3 (ipykernel)",
   "language": "python",
   "name": "python3"
  },
  "language_info": {
   "codemirror_mode": {
    "name": "ipython",
    "version": 3
   },
   "file_extension": ".py",
   "mimetype": "text/x-python",
   "name": "python",
   "nbconvert_exporter": "python",
   "pygments_lexer": "ipython3",
   "version": "3.9.13"
  },
  "vscode": {
   "interpreter": {
    "hash": "7af3ebbd7de8183e54c3a867989fd0d9f9e8343647e0895fccfd06c308b7a095"
   }
  }
 },
 "nbformat": 4,
 "nbformat_minor": 4
}
