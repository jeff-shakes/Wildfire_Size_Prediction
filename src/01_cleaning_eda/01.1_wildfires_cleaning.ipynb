{
 "cells": [
  {
   "cell_type": "markdown",
   "id": "6b97809a-7383-42a2-a2fa-af0e5e517242",
   "metadata": {},
   "source": [
    "# Wildfires dataset cleaning"
   ]
  },
  {
   "cell_type": "code",
   "execution_count": 4,
   "id": "ded3191f-dfe8-4803-9823-d81371c3f879",
   "metadata": {},
   "outputs": [],
   "source": [
    "# Libraries import\n",
    "import pandas as pd\n",
    "import numpy as np\n",
    "import matplotlib.pyplot as plt\n",
    "import missingno as msno\n",
    "from datetime import timedelta"
   ]
  },
  {
   "cell_type": "markdown",
   "id": "ce792ed8-9938-4b6b-8efb-dba9273fac78",
   "metadata": {},
   "source": [
    "### Reading data"
   ]
  },
  {
   "cell_type": "code",
   "execution_count": 11,
   "id": "f11a2a64-3c7b-41a4-91c5-edda0735152a",
   "metadata": {},
   "outputs": [],
   "source": [
    "# Reading the source data \n",
    "df = pd.read_csv('../../data/raw/initial_wildfire.csv', low_memory = False)"
   ]
  },
  {
   "cell_type": "code",
   "execution_count": 12,
   "id": "0f827bb7-8376-4001-ab60-3ff64b35bde6",
   "metadata": {},
   "outputs": [
    {
     "data": {
      "text/html": [
       "<div>\n",
       "<style scoped>\n",
       "    .dataframe tbody tr th:only-of-type {\n",
       "        vertical-align: middle;\n",
       "    }\n",
       "\n",
       "    .dataframe tbody tr th {\n",
       "        vertical-align: top;\n",
       "    }\n",
       "\n",
       "    .dataframe thead th {\n",
       "        text-align: right;\n",
       "    }\n",
       "</style>\n",
       "<table border=\"1\" class=\"dataframe\">\n",
       "  <thead>\n",
       "    <tr style=\"text-align: right;\">\n",
       "      <th></th>\n",
       "      <th>X</th>\n",
       "      <th>Y</th>\n",
       "      <th>OBJECTID</th>\n",
       "      <th>ABCDMisc</th>\n",
       "      <th>ADSPermissionState</th>\n",
       "      <th>CalculatedAcres</th>\n",
       "      <th>ContainmentDateTime</th>\n",
       "      <th>ControlDateTime</th>\n",
       "      <th>DailyAcres</th>\n",
       "      <th>DiscoveryAcres</th>\n",
       "      <th>...</th>\n",
       "      <th>POOCounty</th>\n",
       "      <th>POODispatchCenterID</th>\n",
       "      <th>POOState</th>\n",
       "      <th>PredominantFuelGroup</th>\n",
       "      <th>PredominantFuelModel</th>\n",
       "      <th>PrimaryFuelModel</th>\n",
       "      <th>SecondaryFuelModel</th>\n",
       "      <th>TotalIncidentPersonnel</th>\n",
       "      <th>UniqueFireIdentifier</th>\n",
       "      <th>id</th>\n",
       "    </tr>\n",
       "  </thead>\n",
       "  <tbody>\n",
       "    <tr>\n",
       "      <th>0</th>\n",
       "      <td>-111.414812</td>\n",
       "      <td>40.072836</td>\n",
       "      <td>7</td>\n",
       "      <td>NaN</td>\n",
       "      <td>DEFAULT</td>\n",
       "      <td>NaN</td>\n",
       "      <td>2019/10/31 16:30:00+00</td>\n",
       "      <td>2019/11/05 18:30:00+00</td>\n",
       "      <td>170.0</td>\n",
       "      <td>0.1</td>\n",
       "      <td>...</td>\n",
       "      <td>Utah</td>\n",
       "      <td>UTNUC</td>\n",
       "      <td>US-UT</td>\n",
       "      <td>NaN</td>\n",
       "      <td>NaN</td>\n",
       "      <td>NaN</td>\n",
       "      <td>NaN</td>\n",
       "      <td>NaN</td>\n",
       "      <td>2019-UTUWF-000883</td>\n",
       "      <td>0</td>\n",
       "    </tr>\n",
       "    <tr>\n",
       "      <th>1</th>\n",
       "      <td>-112.439311</td>\n",
       "      <td>34.403275</td>\n",
       "      <td>13</td>\n",
       "      <td>NaN</td>\n",
       "      <td>DEFAULT</td>\n",
       "      <td>NaN</td>\n",
       "      <td>2019/09/09 17:00:00+00</td>\n",
       "      <td>2019/09/09 17:00:00+00</td>\n",
       "      <td>0.1</td>\n",
       "      <td>0.5</td>\n",
       "      <td>...</td>\n",
       "      <td>Yavapai</td>\n",
       "      <td>AZPDC</td>\n",
       "      <td>US-AZ</td>\n",
       "      <td>NaN</td>\n",
       "      <td>NaN</td>\n",
       "      <td>NaN</td>\n",
       "      <td>NaN</td>\n",
       "      <td>NaN</td>\n",
       "      <td>2019-AZA5S-001664</td>\n",
       "      <td>1</td>\n",
       "    </tr>\n",
       "    <tr>\n",
       "      <th>2</th>\n",
       "      <td>-108.895411</td>\n",
       "      <td>40.239896</td>\n",
       "      <td>31</td>\n",
       "      <td>NaN</td>\n",
       "      <td>DEFAULT</td>\n",
       "      <td>NaN</td>\n",
       "      <td>2019/07/30 18:00:00+00</td>\n",
       "      <td>2019/08/03 14:00:00+00</td>\n",
       "      <td>90.0</td>\n",
       "      <td>1.0</td>\n",
       "      <td>...</td>\n",
       "      <td>Moffat</td>\n",
       "      <td>COCRC</td>\n",
       "      <td>US-CO</td>\n",
       "      <td>NaN</td>\n",
       "      <td>NaN</td>\n",
       "      <td>NaN</td>\n",
       "      <td>NaN</td>\n",
       "      <td>NaN</td>\n",
       "      <td>2019-COMFX-000187</td>\n",
       "      <td>2</td>\n",
       "    </tr>\n",
       "  </tbody>\n",
       "</table>\n",
       "<p>3 rows × 52 columns</p>\n",
       "</div>"
      ],
      "text/plain": [
       "            X          Y  OBJECTID ABCDMisc ADSPermissionState  \\\n",
       "0 -111.414812  40.072836         7      NaN            DEFAULT   \n",
       "1 -112.439311  34.403275        13      NaN            DEFAULT   \n",
       "2 -108.895411  40.239896        31      NaN            DEFAULT   \n",
       "\n",
       "   CalculatedAcres     ContainmentDateTime         ControlDateTime  \\\n",
       "0              NaN  2019/10/31 16:30:00+00  2019/11/05 18:30:00+00   \n",
       "1              NaN  2019/09/09 17:00:00+00  2019/09/09 17:00:00+00   \n",
       "2              NaN  2019/07/30 18:00:00+00  2019/08/03 14:00:00+00   \n",
       "\n",
       "   DailyAcres  DiscoveryAcres  ... POOCounty  POODispatchCenterID  POOState  \\\n",
       "0       170.0             0.1  ...      Utah                UTNUC     US-UT   \n",
       "1         0.1             0.5  ...   Yavapai                AZPDC     US-AZ   \n",
       "2        90.0             1.0  ...    Moffat                COCRC     US-CO   \n",
       "\n",
       "   PredominantFuelGroup PredominantFuelModel PrimaryFuelModel  \\\n",
       "0                   NaN                  NaN              NaN   \n",
       "1                   NaN                  NaN              NaN   \n",
       "2                   NaN                  NaN              NaN   \n",
       "\n",
       "  SecondaryFuelModel TotalIncidentPersonnel UniqueFireIdentifier id  \n",
       "0                NaN                    NaN    2019-UTUWF-000883  0  \n",
       "1                NaN                    NaN    2019-AZA5S-001664  1  \n",
       "2                NaN                    NaN    2019-COMFX-000187  2  \n",
       "\n",
       "[3 rows x 52 columns]"
      ]
     },
     "execution_count": 12,
     "metadata": {},
     "output_type": "execute_result"
    }
   ],
   "source": [
    "# Checking table\n",
    "df.head(3)"
   ]
  },
  {
   "cell_type": "markdown",
   "id": "917cd275-1ca9-4a29-bf1c-88dd70a33292",
   "metadata": {},
   "source": [
    "### Datatime conversion"
   ]
  },
  {
   "cell_type": "code",
   "execution_count": 13,
   "id": "8a9920cd-7a29-4ec4-8970-85d8ae857fd5",
   "metadata": {},
   "outputs": [],
   "source": [
    "# Converting datetime columns to a proper datetime format\n",
    "df['FireDiscoveryDateTime'] = pd.to_datetime(df['FireDiscoveryDateTime'])\n",
    "df['ContainmentDateTime'] = pd.to_datetime(df['ContainmentDateTime'])\n",
    "df['ControlDateTime'] = pd.to_datetime(df['ControlDateTime'])"
   ]
  },
  {
   "cell_type": "code",
   "execution_count": 14,
   "id": "3d90412b-5ede-4d15-bcfc-9f3d6b7da5e5",
   "metadata": {},
   "outputs": [],
   "source": [
    "# We've decided to focus on only wildfires (marked as WF in the source table) which happened in 2020 or later\n",
    "df = df[df['FireDiscoveryDateTime']>='2020-01-01']\n",
    "df = df[df['IncidentTypeCategory'] == 'WF']"
   ]
  },
  {
   "cell_type": "code",
   "execution_count": 15,
   "id": "9b4c00ea-c842-4640-98c5-297c08666468",
   "metadata": {},
   "outputs": [
    {
     "data": {
      "text/plain": [
       "(22799, 52)"
      ]
     },
     "execution_count": 15,
     "metadata": {},
     "output_type": "execute_result"
    }
   ],
   "source": [
    "# Checking dimensions\n",
    "df.shape"
   ]
  },
  {
   "cell_type": "code",
   "execution_count": 16,
   "id": "0b557cee-f03e-4f4b-aef8-fb80a3546778",
   "metadata": {},
   "outputs": [],
   "source": [
    "# Sorting fires by the start date for the future convenience\n",
    "df.sort_values('FireDiscoveryDateTime')\n",
    "df.reset_index(drop = True, inplace = True)"
   ]
  },
  {
   "cell_type": "markdown",
   "id": "c5751604-b431-4597-a3a0-83baedde1e42",
   "metadata": {},
   "source": [
    "### Removing missing values"
   ]
  },
  {
   "cell_type": "code",
   "execution_count": 17,
   "id": "595c04e7-4a6a-47b4-9701-a21317190415",
   "metadata": {},
   "outputs": [
    {
     "data": {
      "text/plain": [
       "X                                     0\n",
       "Y                                     0\n",
       "OBJECTID                              0\n",
       "ABCDMisc                          19795\n",
       "ADSPermissionState                    0\n",
       "CalculatedAcres                   22016\n",
       "ContainmentDateTime                 325\n",
       "ControlDateTime                       0\n",
       "DailyAcres                          223\n",
       "DiscoveryAcres                      220\n",
       "DispatchCenterID                      0\n",
       "EstimatedCostToDate               22173\n",
       "FinalFireReportApprovedByTitle    22799\n",
       "FinalFireReportApprovedByUnit     22799\n",
       "FinalFireReportApprovedDate       11938\n",
       "FireCause                            18\n",
       "FireCauseGeneral                  10361\n",
       "FireCauseSpecific                 20262\n",
       "FireCode                           6997\n",
       "FireDiscoveryDateTime                 0\n",
       "FireMgmtComplexity                22177\n",
       "FireOutDateTime                    3989\n",
       "IncidentName                          0\n",
       "IncidentShortDescription          22177\n",
       "IncidentTypeCategory                  0\n",
       "IncidentTypeKind                      0\n",
       "InitialLatitude                     735\n",
       "InitialLongitude                    735\n",
       "InitialResponseAcres               9665\n",
       "InitialResponseDateTime           12338\n",
       "IrwinID                               0\n",
       "IsFireCauseInvestigated           20590\n",
       "IsFireCodeRequested                   0\n",
       "IsFSAssisted                       1427\n",
       "IsMultiJurisdictional              1906\n",
       "IsReimbursable                     1906\n",
       "IsTrespass                         1886\n",
       "IsUnifiedCommand                  22146\n",
       "LocalIncidentIdentifier               0\n",
       "PercentContained                  22162\n",
       "PercentPerimeterToBeContained     22161\n",
       "POOCity                           22476\n",
       "POOCounty                             0\n",
       "POODispatchCenterID                   0\n",
       "POOState                              0\n",
       "PredominantFuelGroup              11707\n",
       "PredominantFuelModel              11740\n",
       "PrimaryFuelModel                  22177\n",
       "SecondaryFuelModel                22255\n",
       "TotalIncidentPersonnel            22204\n",
       "UniqueFireIdentifier                  0\n",
       "id                                    0\n",
       "dtype: int64"
      ]
     },
     "execution_count": 17,
     "metadata": {},
     "output_type": "execute_result"
    }
   ],
   "source": [
    "# Checking missing values\n",
    "df.isnull().sum()"
   ]
  },
  {
   "cell_type": "code",
   "execution_count": 18,
   "id": "3f8db66d-984c-41b6-a240-5823c2954e4b",
   "metadata": {},
   "outputs": [
    {
     "data": {
      "text/plain": [
       "325"
      ]
     },
     "execution_count": 18,
     "metadata": {},
     "output_type": "execute_result"
    }
   ],
   "source": [
    "df['ContainmentDateTime'].isnull().sum()"
   ]
  },
  {
   "cell_type": "code",
   "execution_count": 19,
   "id": "5f8aff66-50dc-4e97-bfde-4b6c7f0ff8aa",
   "metadata": {},
   "outputs": [
    {
     "data": {
      "text/plain": [
       "223"
      ]
     },
     "execution_count": 19,
     "metadata": {},
     "output_type": "execute_result"
    }
   ],
   "source": [
    "df['DailyAcres'].isnull().sum()"
   ]
  },
  {
   "cell_type": "code",
   "execution_count": 20,
   "id": "61662220-bd00-4c88-a084-27b0386f77a4",
   "metadata": {},
   "outputs": [],
   "source": [
    "# Removing fires for which there's no acreage and containment date\n",
    "df = df[df['DailyAcres'].isnull() == False]\n",
    "df = df[df['ContainmentDateTime'].isnull() == False]"
   ]
  },
  {
   "cell_type": "code",
   "execution_count": 21,
   "id": "4e8dabe6-6b44-4fb8-9eaf-2e16cc21eb36",
   "metadata": {},
   "outputs": [
    {
     "data": {
      "text/plain": [
       "(22251, 52)"
      ]
     },
     "execution_count": 21,
     "metadata": {},
     "output_type": "execute_result"
    }
   ],
   "source": [
    "# Checking dimensions\n",
    "df.shape"
   ]
  },
  {
   "cell_type": "code",
   "execution_count": 24,
   "id": "501fecdb-e173-40c6-84fa-d4bd6dcfad65",
   "metadata": {},
   "outputs": [],
   "source": [
    "# Removing columns we're not going to use\n",
    "    # Note, we used Control and Containment instead of Out time simply for how long a fire can contintue to burn while being contained\n",
    "df = df[['X', 'Y', 'ContainmentDateTime', 'ControlDateTime', 'DailyAcres',\n",
    "       'DiscoveryAcres', 'FireCause', 'FireDiscoveryDateTime',\n",
    "       'IncidentTypeCategory', 'IncidentTypeKind', 'InitialLatitude',\n",
    "       'InitialLongitude', 'IrwinID', 'LocalIncidentIdentifier', 'POOCounty',\n",
    "       'POODispatchCenterID', 'POOState', 'UniqueFireIdentifier']].copy()"
   ]
  },
  {
   "cell_type": "code",
   "execution_count": 25,
   "id": "d033c678-8e9b-4ce1-b991-0124c76dc098",
   "metadata": {},
   "outputs": [
    {
     "data": {
      "image/png": "[encoded data removed]",
      "text/plain": [
       "<Figure size 2500x1000 with 2 Axes>"
      ]
     },
     "metadata": {},
     "output_type": "display_data"
    }
   ],
   "source": [
    "# Visualising missing values with missingno library\n",
    "msno.matrix(df);"
   ]
  },
  {
   "cell_type": "code",
   "execution_count": 26,
   "id": "fbdc3d72-674c-499f-a468-03806f34f930",
   "metadata": {},
   "outputs": [
    {
     "data": {
      "text/plain": [
       "X                            0\n",
       "Y                            0\n",
       "ContainmentDateTime          0\n",
       "ControlDateTime              0\n",
       "DailyAcres                   0\n",
       "DiscoveryAcres             196\n",
       "FireCause                   12\n",
       "FireDiscoveryDateTime        0\n",
       "IncidentTypeCategory         0\n",
       "IncidentTypeKind             0\n",
       "InitialLatitude            709\n",
       "InitialLongitude           709\n",
       "IrwinID                      0\n",
       "LocalIncidentIdentifier      0\n",
       "POOCounty                    0\n",
       "POODispatchCenterID          0\n",
       "POOState                     0\n",
       "UniqueFireIdentifier         0\n",
       "dtype: int64"
      ]
     },
     "execution_count": 26,
     "metadata": {},
     "output_type": "execute_result"
    }
   ],
   "source": [
    "df.isnull().sum()"
   ]
  },
  {
   "cell_type": "code",
   "execution_count": 27,
   "id": "7738a345-72b8-4c6d-aa03-575f419252ff",
   "metadata": {},
   "outputs": [],
   "source": [
    "# Another iteration of dropping missing values\n",
    "df = df.dropna()"
   ]
  },
  {
   "cell_type": "code",
   "execution_count": 28,
   "id": "aa434166-04ba-49c4-bb63-219d256fb720",
   "metadata": {},
   "outputs": [
    {
     "data": {
      "text/plain": [
       "(21541, 18)"
      ]
     },
     "execution_count": 28,
     "metadata": {},
     "output_type": "execute_result"
    }
   ],
   "source": [
    "# Checking dimensions\n",
    "df.shape"
   ]
  },
  {
   "cell_type": "code",
   "execution_count": 29,
   "id": "8771a057-a31a-4372-bf64-7383492f354e",
   "metadata": {},
   "outputs": [
    {
     "data": {
      "text/plain": [
       "X                                      float64\n",
       "Y                                      float64\n",
       "ContainmentDateTime        datetime64[ns, UTC]\n",
       "ControlDateTime            datetime64[ns, UTC]\n",
       "DailyAcres                             float64\n",
       "DiscoveryAcres                         float64\n",
       "FireCause                               object\n",
       "FireDiscoveryDateTime      datetime64[ns, UTC]\n",
       "IncidentTypeCategory                    object\n",
       "IncidentTypeKind                        object\n",
       "InitialLatitude                        float64\n",
       "InitialLongitude                       float64\n",
       "IrwinID                                 object\n",
       "LocalIncidentIdentifier                 object\n",
       "POOCounty                               object\n",
       "POODispatchCenterID                     object\n",
       "POOState                                object\n",
       "UniqueFireIdentifier                    object\n",
       "dtype: object"
      ]
     },
     "execution_count": 29,
     "metadata": {},
     "output_type": "execute_result"
    }
   ],
   "source": [
    "# Checking data types\n",
    "df.dtypes"
   ]
  },
  {
   "cell_type": "markdown",
   "id": "23110010-d51e-4e9c-8e74-f2048db8d4e5",
   "metadata": {},
   "source": [
    "### Calculating total acreage burned"
   ]
  },
  {
   "cell_type": "code",
   "execution_count": 30,
   "id": "8e5b300f-60db-4da4-be7f-a872a8f25acd",
   "metadata": {},
   "outputs": [],
   "source": [
    "# Creating a total acreage column which is a sum of DiscoveryAcres and DailyAcres\n",
    "df['total_acres'] = df['DiscoveryAcres'] + df['DailyAcres']"
   ]
  },
  {
   "cell_type": "markdown",
   "id": "69a5da0a-e508-4d13-9833-940f01bfd142",
   "metadata": {},
   "source": [
    "### Removing observations with incorrect coordinates"
   ]
  },
  {
   "cell_type": "markdown",
   "id": "c0269102-1438-4ea4-96f8-47861fb1d4de",
   "metadata": {},
   "source": [
    "Some of the fire start locations were typed in incorrectly, so we had to get rid of them."
   ]
  },
  {
   "cell_type": "code",
   "execution_count": 31,
   "id": "da2224b5-b552-4a2c-8ba9-851a14e7c5bc",
   "metadata": {},
   "outputs": [
    {
     "data": {
      "image/png": "[encoded data removed]",
      "text/plain": [
       "<Figure size 640x480 with 1 Axes>"
      ]
     },
     "metadata": {},
     "output_type": "display_data"
    }
   ],
   "source": [
    "# Latitude outliers\n",
    "df.InitialLatitude.plot(kind = 'box');"
   ]
  },
  {
   "cell_type": "code",
   "execution_count": 32,
   "id": "0b937302-4f1e-4cf4-b568-7cf5d199cf38",
   "metadata": {},
   "outputs": [
    {
     "data": {
      "text/plain": [
       "count    21541.000000\n",
       "mean        37.460073\n",
       "std          2.991221\n",
       "min          0.000000\n",
       "25%         35.014580\n",
       "50%         37.474110\n",
       "75%         39.729390\n",
       "max        123.550107\n",
       "Name: InitialLatitude, dtype: float64"
      ]
     },
     "execution_count": 32,
     "metadata": {},
     "output_type": "execute_result"
    }
   ],
   "source": [
    "df.InitialLatitude.describe()"
   ]
  },
  {
   "cell_type": "code",
   "execution_count": 33,
   "id": "cf25192b-854c-46eb-99d9-3884d11b6251",
   "metadata": {},
   "outputs": [
    {
     "data": {
      "image/png": "[encoded data removed]",
      "text/plain": [
       "<Figure size 640x480 with 1 Axes>"
      ]
     },
     "metadata": {},
     "output_type": "display_data"
    }
   ],
   "source": [
    "# Longitude outliers\n",
    "df.InitialLongitude.plot(kind = 'box');"
   ]
  },
  {
   "cell_type": "code",
   "execution_count": 34,
   "id": "21b9f1c5-f12a-4f7c-b715-5090ac69d99c",
   "metadata": {},
   "outputs": [
    {
     "data": {
      "text/plain": [
       "count    21541.000000\n",
       "mean      -113.820538\n",
       "std          5.952522\n",
       "min       -180.540000\n",
       "25%       -119.634700\n",
       "50%       -112.385000\n",
       "75%       -109.709900\n",
       "max          0.000000\n",
       "Name: InitialLongitude, dtype: float64"
      ]
     },
     "execution_count": 34,
     "metadata": {},
     "output_type": "execute_result"
    }
   ],
   "source": [
    "df.InitialLongitude.describe()"
   ]
  },
  {
   "cell_type": "code",
   "execution_count": 35,
   "id": "f436d608-0666-4920-8b00-6da06a3aab22",
   "metadata": {},
   "outputs": [
    {
     "data": {
      "text/plain": [
       "(24, 19)"
      ]
     },
     "execution_count": 35,
     "metadata": {},
     "output_type": "execute_result"
    }
   ],
   "source": [
    "# Checking how many observations have incorrect coordinates\n",
    "df[(df['InitialLongitude'] > -100) | (df['InitialLongitude'] < -125) | (df['InitialLatitude'] > 45) | (df['InitialLatitude'] < 30)].shape"
   ]
  },
  {
   "cell_type": "code",
   "execution_count": 36,
   "id": "ba6fbe77-8949-4aeb-b846-7c0981336169",
   "metadata": {},
   "outputs": [],
   "source": [
    "# Getting rid of observations with incorrect coordinates\n",
    "df = df[~((df['InitialLongitude'] > -100) | (df['InitialLongitude'] < -125) | (df['InitialLatitude'] > 45) | (df['InitialLatitude'] < 30))] # tilda inverses DataFrame filter"
   ]
  },
  {
   "cell_type": "code",
   "execution_count": 37,
   "id": "3d07b641-8caf-4ad8-bdef-c70916724fb6",
   "metadata": {},
   "outputs": [
    {
     "data": {
      "text/plain": [
       "(21517, 19)"
      ]
     },
     "execution_count": 37,
     "metadata": {},
     "output_type": "execute_result"
    }
   ],
   "source": [
    "# Checking dimensions\n",
    "df.shape"
   ]
  },
  {
   "cell_type": "markdown",
   "id": "fce87368-1734-41cb-a5dd-c7bc96ebccb0",
   "metadata": {},
   "source": [
    "### Creating fire id column"
   ]
  },
  {
   "cell_type": "code",
   "execution_count": 38,
   "id": "d7d5a5be-d691-42ad-a7c4-f25ec83be077",
   "metadata": {},
   "outputs": [],
   "source": [
    "# Creating fire_id column from index\n",
    "df['fire_id'] = df.index.copy()"
   ]
  },
  {
   "cell_type": "code",
   "execution_count": 39,
   "id": "0f3404aa-f7a0-4647-bc89-bdb14f480d0a",
   "metadata": {},
   "outputs": [
    {
     "data": {
      "text/html": [
       "<div>\n",
       "<style scoped>\n",
       "    .dataframe tbody tr th:only-of-type {\n",
       "        vertical-align: middle;\n",
       "    }\n",
       "\n",
       "    .dataframe tbody tr th {\n",
       "        vertical-align: top;\n",
       "    }\n",
       "\n",
       "    .dataframe thead th {\n",
       "        text-align: right;\n",
       "    }\n",
       "</style>\n",
       "<table border=\"1\" class=\"dataframe\">\n",
       "  <thead>\n",
       "    <tr style=\"text-align: right;\">\n",
       "      <th></th>\n",
       "      <th>X</th>\n",
       "      <th>Y</th>\n",
       "      <th>ContainmentDateTime</th>\n",
       "      <th>ControlDateTime</th>\n",
       "      <th>DailyAcres</th>\n",
       "      <th>DiscoveryAcres</th>\n",
       "      <th>FireCause</th>\n",
       "      <th>FireDiscoveryDateTime</th>\n",
       "      <th>IncidentTypeCategory</th>\n",
       "      <th>IncidentTypeKind</th>\n",
       "      <th>InitialLatitude</th>\n",
       "      <th>InitialLongitude</th>\n",
       "      <th>IrwinID</th>\n",
       "      <th>LocalIncidentIdentifier</th>\n",
       "      <th>POOCounty</th>\n",
       "      <th>POODispatchCenterID</th>\n",
       "      <th>POOState</th>\n",
       "      <th>UniqueFireIdentifier</th>\n",
       "      <th>total_acres</th>\n",
       "      <th>fire_id</th>\n",
       "    </tr>\n",
       "  </thead>\n",
       "  <tbody>\n",
       "    <tr>\n",
       "      <th>0</th>\n",
       "      <td>-111.348611</td>\n",
       "      <td>33.195755</td>\n",
       "      <td>2020-07-23 05:29:59+00:00</td>\n",
       "      <td>2020-07-23 05:29:59+00:00</td>\n",
       "      <td>8.0</td>\n",
       "      <td>2.5</td>\n",
       "      <td>Human</td>\n",
       "      <td>2020-07-22 21:51:00+00:00</td>\n",
       "      <td>WF</td>\n",
       "      <td>FI</td>\n",
       "      <td>33.195810</td>\n",
       "      <td>-111.348700</td>\n",
       "      <td>{951823FA-0B72-4295-87C8-E042D602324E}</td>\n",
       "      <td>001450</td>\n",
       "      <td>Pinal</td>\n",
       "      <td>AZTDC</td>\n",
       "      <td>US-AZ</td>\n",
       "      <td>2020-AZA3S-001450</td>\n",
       "      <td>10.5</td>\n",
       "      <td>0</td>\n",
       "    </tr>\n",
       "    <tr>\n",
       "      <th>1</th>\n",
       "      <td>-115.748812</td>\n",
       "      <td>40.617506</td>\n",
       "      <td>2020-08-03 23:00:00+00:00</td>\n",
       "      <td>2020-09-02 15:00:00+00:00</td>\n",
       "      <td>5985.9</td>\n",
       "      <td>5.0</td>\n",
       "      <td>Natural</td>\n",
       "      <td>2020-07-19 23:00:00+00:00</td>\n",
       "      <td>WF</td>\n",
       "      <td>FI</td>\n",
       "      <td>40.602563</td>\n",
       "      <td>-115.719777</td>\n",
       "      <td>{91E0CBAB-A24E-4590-B6C6-2B4A46907E8A}</td>\n",
       "      <td>010145</td>\n",
       "      <td>Elko</td>\n",
       "      <td>NVEIC</td>\n",
       "      <td>US-NV</td>\n",
       "      <td>2020-NVECFX-010145</td>\n",
       "      <td>5990.9</td>\n",
       "      <td>1</td>\n",
       "    </tr>\n",
       "    <tr>\n",
       "      <th>3</th>\n",
       "      <td>-108.193611</td>\n",
       "      <td>39.858486</td>\n",
       "      <td>2020-08-30 00:00:00+00:00</td>\n",
       "      <td>2020-09-10 14:00:00+00:00</td>\n",
       "      <td>0.1</td>\n",
       "      <td>1.0</td>\n",
       "      <td>Natural</td>\n",
       "      <td>2020-08-29 21:46:00+00:00</td>\n",
       "      <td>WF</td>\n",
       "      <td>FI</td>\n",
       "      <td>39.891710</td>\n",
       "      <td>-108.266500</td>\n",
       "      <td>{3568D344-E3FB-415C-8014-ED34ECEAAB25}</td>\n",
       "      <td>000323</td>\n",
       "      <td>Rio Blanco</td>\n",
       "      <td>COCRC</td>\n",
       "      <td>US-CO</td>\n",
       "      <td>2020-COWRD-000323</td>\n",
       "      <td>1.1</td>\n",
       "      <td>3</td>\n",
       "    </tr>\n",
       "  </tbody>\n",
       "</table>\n",
       "</div>"
      ],
      "text/plain": [
       "            X          Y       ContainmentDateTime           ControlDateTime  \\\n",
       "0 -111.348611  33.195755 2020-07-23 05:29:59+00:00 2020-07-23 05:29:59+00:00   \n",
       "1 -115.748812  40.617506 2020-08-03 23:00:00+00:00 2020-09-02 15:00:00+00:00   \n",
       "3 -108.193611  39.858486 2020-08-30 00:00:00+00:00 2020-09-10 14:00:00+00:00   \n",
       "\n",
       "   DailyAcres  DiscoveryAcres FireCause     FireDiscoveryDateTime  \\\n",
       "0         8.0             2.5     Human 2020-07-22 21:51:00+00:00   \n",
       "1      5985.9             5.0   Natural 2020-07-19 23:00:00+00:00   \n",
       "3         0.1             1.0   Natural 2020-08-29 21:46:00+00:00   \n",
       "\n",
       "  IncidentTypeCategory IncidentTypeKind  InitialLatitude  InitialLongitude  \\\n",
       "0                   WF               FI        33.195810       -111.348700   \n",
       "1                   WF               FI        40.602563       -115.719777   \n",
       "3                   WF               FI        39.891710       -108.266500   \n",
       "\n",
       "                                  IrwinID LocalIncidentIdentifier   POOCounty  \\\n",
       "0  {951823FA-0B72-4295-87C8-E042D602324E}                  001450       Pinal   \n",
       "1  {91E0CBAB-A24E-4590-B6C6-2B4A46907E8A}                  010145        Elko   \n",
       "3  {3568D344-E3FB-415C-8014-ED34ECEAAB25}                  000323  Rio Blanco   \n",
       "\n",
       "  POODispatchCenterID POOState UniqueFireIdentifier  total_acres  fire_id  \n",
       "0               AZTDC    US-AZ    2020-AZA3S-001450         10.5        0  \n",
       "1               NVEIC    US-NV   2020-NVECFX-010145       5990.9        1  \n",
       "3               COCRC    US-CO    2020-COWRD-000323          1.1        3  "
      ]
     },
     "execution_count": 39,
     "metadata": {},
     "output_type": "execute_result"
    }
   ],
   "source": [
    "# Looking at final table\n",
    "df.head(3)"
   ]
  },
  {
   "cell_type": "code",
   "execution_count": 40,
   "id": "9938b574-147e-4acb-bff0-3f9321d02a39",
   "metadata": {},
   "outputs": [
    {
     "data": {
      "text/plain": [
       "(21517, 20)"
      ]
     },
     "execution_count": 40,
     "metadata": {},
     "output_type": "execute_result"
    }
   ],
   "source": [
    "df.shape"
   ]
  },
  {
   "cell_type": "code",
   "execution_count": 32,
   "id": "69d17952-51af-48bf-9123-6c4500a61126",
   "metadata": {},
   "outputs": [],
   "source": [
    "# Saving all fires\n",
    "df.to_csv('../../data/cleaned/wildfires_all.csv', index = False)"
   ]
  },
  {
   "cell_type": "markdown",
   "id": "b0af084e-54d5-418d-bbf1-c83473b9915e",
   "metadata": {},
   "source": [
    "### Filtered fires dataset\n",
    "During modeling, we realized that it's quite hard to predict acreage for all files in this dataset, because there are a lot of small fires which were contained within the first day. We've decided to remove them and focus on only those fires that went beyond tiny incidents."
   ]
  },
  {
   "cell_type": "code",
   "execution_count": 33,
   "id": "1ba80eef-27bb-4a67-b09f-91e791d7e14c",
   "metadata": {},
   "outputs": [
    {
     "data": {
      "text/plain": [
       "(21517, 21)"
      ]
     },
     "execution_count": 33,
     "metadata": {},
     "output_type": "execute_result"
    }
   ],
   "source": [
    "df.shape"
   ]
  },
  {
   "cell_type": "code",
   "execution_count": 34,
   "id": "906227ac-395b-4dcb-af5a-cbc5f4afb2ce",
   "metadata": {},
   "outputs": [
    {
     "data": {
      "text/plain": [
       "(4281, 21)"
      ]
     },
     "execution_count": 34,
     "metadata": {},
     "output_type": "execute_result"
    }
   ],
   "source": [
    "# Querying only fires with acreage more than 1 acre and controlled later than within the day from fire discovery.\n",
    "# Acreage\n",
    "filtered_df = (df[df['DailyAcres'] > 1]) \n",
    "filtered_df.shape"
   ]
  },
  {
   "cell_type": "code",
   "execution_count": 37,
   "id": "02f4b57d-6ffb-4ae7-8fd0-479db685a3e7",
   "metadata": {},
   "outputs": [
    {
     "data": {
      "text/plain": [
       "(2854, 21)"
      ]
     },
     "execution_count": 37,
     "metadata": {},
     "output_type": "execute_result"
    }
   ],
   "source": [
    "# Control date\n",
    "filtered_df = filtered_df[((filtered_df['ControlDateTime'] - filtered_df['FireDiscoveryDateTime']) > timedelta(days=1))]\n",
    "filtered_df.shape"
   ]
  },
  {
   "cell_type": "code",
   "execution_count": 38,
   "id": "898e22f0-d68a-4e62-b94c-a1411589bc03",
   "metadata": {},
   "outputs": [],
   "source": [
    "# Saving result to another table\n",
    "filtered_df.to_csv('../../data/cleaned/wildfires_filtered.csv', index = False)"
   ]
  }
 ],
 "metadata": {
  "kernelspec": {
   "display_name": "Python 3 (ipykernel)",
   "language": "python",
   "name": "python3"
  },
  "language_info": {
   "codemirror_mode": {
    "name": "ipython",
    "version": 3
   },
   "file_extension": ".py",
   "mimetype": "text/x-python",
   "name": "python",
   "nbconvert_exporter": "python",
   "pygments_lexer": "ipython3",
   "version": "3.10.9"
  }
 },
 "nbformat": 4,
 "nbformat_minor": 5
}
