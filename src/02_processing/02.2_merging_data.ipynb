{
 "cells": [
  {
   "cell_type": "markdown",
   "id": "07dab743-26b3-4599-9bb4-e500cd2da908",
   "metadata": {},
   "source": [
    "# Merging wildfires, land cover and meteorology data together\n",
    "This is a final step of data preprocessing before data to be fed into machine learning models."
   ]
  },
  {
   "cell_type": "code",
   "execution_count": 1,
   "id": "cdc4a422-769c-45d5-94cf-0348a1f7a659",
   "metadata": {},
   "outputs": [],
   "source": [
    "# Libraries imports\n",
    "import pandas as pd\n",
    "import numpy as np"
   ]
  },
  {
   "cell_type": "code",
   "execution_count": 12,
   "id": "84a7fae8-5922-4cc2-acb1-946ff80ce7c8",
   "metadata": {},
   "outputs": [],
   "source": [
    "# Data imports\n",
    "wildfires = pd.read_csv('../../data/cleaned/wildfires_all.csv')\n",
    "landcover = pd.read_csv('../../data/cleaned/landcover.csv')\n",
    "historical_precip = pd.read_csv('../../data/processed/meteorology_historical_rain_snow_sum_6mo.csv')\n",
    "weather = pd.read_csv('../../data/processed/wildfire_weather.csv')"
   ]
  },
  {
   "cell_type": "code",
   "execution_count": 13,
   "id": "3b365101-aec3-48d4-af80-375dc07cb0f0",
   "metadata": {},
   "outputs": [
    {
     "data": {
      "text/plain": [
       "(21517, 21)"
      ]
     },
     "execution_count": 13,
     "metadata": {},
     "output_type": "execute_result"
    }
   ],
   "source": [
    "wildfires.shape"
   ]
  },
  {
   "cell_type": "code",
   "execution_count": 14,
   "id": "24c4f9e1-6056-4037-b48d-2b8b1f1a6b3e",
   "metadata": {},
   "outputs": [
    {
     "data": {
      "text/plain": [
       "(21519, 2)"
      ]
     },
     "execution_count": 14,
     "metadata": {},
     "output_type": "execute_result"
    }
   ],
   "source": [
    "landcover.shape"
   ]
  },
  {
   "cell_type": "code",
   "execution_count": 15,
   "id": "bbabe27a-a22f-4f61-a5b7-216f6a49db43",
   "metadata": {},
   "outputs": [
    {
     "data": {
      "text/plain": [
       "(2128, 4)"
      ]
     },
     "execution_count": 15,
     "metadata": {},
     "output_type": "execute_result"
    }
   ],
   "source": [
    "historical_precip.shape"
   ]
  },
  {
   "cell_type": "code",
   "execution_count": 16,
   "id": "1261b8e6-c254-43a1-98af-850276591aed",
   "metadata": {},
   "outputs": [
    {
     "data": {
      "text/plain": [
       "(21518, 37)"
      ]
     },
     "execution_count": 16,
     "metadata": {},
     "output_type": "execute_result"
    }
   ],
   "source": [
    "weather.shape"
   ]
  },
  {
   "cell_type": "markdown",
   "id": "15bfa7bd-abda-4d6c-8d06-fe282fbe062e",
   "metadata": {},
   "source": [
    "Master Dataset for Filtered Data (Fires > 1 Acre and lasting longer than 24 hours)"
   ]
  },
  {
   "cell_type": "code",
   "execution_count": 25,
   "id": "1707fa96-0acd-4a0f-9587-fd30ef8b640b",
   "metadata": {},
   "outputs": [],
   "source": [
    "# Merging wildfires with historical precipitation\n",
    "data = historical_precip.merge(wildfires, on='UniqueFireIdentifier')"
   ]
  },
  {
   "cell_type": "code",
   "execution_count": 26,
   "id": "278203b1-a4b3-4438-bf7b-8eb1825367e4",
   "metadata": {},
   "outputs": [],
   "source": [
    "# Merging data with first day of the fire meteorological conditions\n",
    "data1 = data.merge(weather, left_on = 'id', right_on = 'id')"
   ]
  },
  {
   "cell_type": "code",
   "execution_count": 27,
   "id": "58319157-5d7e-42c7-af1e-a937d453c608",
   "metadata": {},
   "outputs": [],
   "source": [
    "# Merging data with vegetation types\n",
    "data2 = data1.merge(landcover, left_on = 'id', right_on = 'fire_id')"
   ]
  },
  {
   "cell_type": "code",
   "execution_count": 38,
   "id": "8b228fce-133c-4c8a-bb7e-a79275de665c",
   "metadata": {},
   "outputs": [],
   "source": [
    "# Filtering out columns not participating in fire acreage prediction\n",
    "cols = ['UniqueFireIdentifier', 'X', 'Y', 'ContainmentDateTime', 'ControlDateTime', 'DailyAcres', 'FireCause', 'FireDiscoveryDateTime',\n",
    "                      'IncidentTypeCategory', 'IncidentTypeKind', 'InitialLatitude', 'InitialLongitude','IrwinID','LocalIncidentIdentifier','POOCounty',\n",
    "                      'POODispatchCenterID','POOFips','POOState','fire_id_x','x','y','firecause','firediscoverydatetime','incidenttypecategory','containmentdatetime',\n",
    "                      'controldatetime','dailyacres','discoveryacres','incidenttypekind','initiallatitude','initiallongitude','rain_sum', 'fire_id_y',\n",
    "                     'irwinid','localincidentidentifier','poocounty','poodispatchcenterid','poofips','poostate','uniquefireidentifier','wind_speed_2m_mean',\t\n",
    "                      'wind_speed_2m_max_mean','wind_speed_10m_mean','wind_speed_10m_max_mean','humidity_mean','temp_2m_mean']\n",
    "\n",
    "master_dataset = data2.drop(columns = cols)"
   ]
  },
  {
   "cell_type": "code",
   "execution_count": 11,
   "id": "31d0f069-ff6c-4894-b657-532ffac9983c",
   "metadata": {},
   "outputs": [],
   "source": [
    "# Setting id as index\n",
    "master_dataset.set_index('id', inplace = True)"
   ]
  },
  {
   "cell_type": "code",
   "execution_count": 12,
   "id": "bf0ca440-29a6-435b-9756-3d396339c833",
   "metadata": {},
   "outputs": [],
   "source": [
    "# Export of the final, filtered dataset to be used in modeling\n",
    "master_dataset.to_csv('../../data/processed/master_dataset.csv', index = False)"
   ]
  },
  {
   "cell_type": "markdown",
   "id": "8e6259a4-9800-427e-9ab0-61ece2da5cb7",
   "metadata": {},
   "source": [
    "Repeating the same sequence for All Fires"
   ]
  },
  {
   "cell_type": "code",
   "execution_count": 28,
   "id": "e4a99a5a-cc02-4af5-aec8-30983c5aa782",
   "metadata": {},
   "outputs": [],
   "source": [
    "data_1 = wildfires.merge(weather, left_on = 'fire_id', right_on = 'id')"
   ]
  },
  {
   "cell_type": "code",
   "execution_count": 35,
   "id": "43fb1031-f412-4560-bee9-92d10604d644",
   "metadata": {},
   "outputs": [],
   "source": [
    "data_2 = data_1.merge(landcover, left_on = 'id', right_on = 'fire_id')"
   ]
  },
  {
   "cell_type": "code",
   "execution_count": 36,
   "id": "c29cc3ae-a0a1-4f71-9565-f6769019223f",
   "metadata": {},
   "outputs": [
    {
     "data": {
      "text/plain": [
       "(20276, 60)"
      ]
     },
     "execution_count": 36,
     "metadata": {},
     "output_type": "execute_result"
    }
   ],
   "source": [
    "data_2.shape"
   ]
  },
  {
   "cell_type": "code",
   "execution_count": 39,
   "id": "02da439b-5a1d-4903-8209-25914758860a",
   "metadata": {},
   "outputs": [],
   "source": [
    "# Filtering out columns not participating in fire acreage prediction\n",
    "master_dataset_allfires = data_2.drop(columns = cols)"
   ]
  },
  {
   "cell_type": "code",
   "execution_count": 40,
   "id": "05a06f84-9ca6-4d83-b44a-6fb3a4045247",
   "metadata": {},
   "outputs": [],
   "source": [
    "# Setting id as index\n",
    "master_dataset_allfires.set_index('id', inplace = True)"
   ]
  },
  {
   "cell_type": "code",
   "execution_count": 42,
   "id": "964a4c07-31b4-4d21-9e6a-faa0ba4f5212",
   "metadata": {},
   "outputs": [],
   "source": [
    "# Export of the final dataset for all fires to be used in modeling\n",
    "master_dataset_allfires.to_csv('../../data/processed/master_dataset_allfires.csv', index=False)"
   ]
  }
 ],
 "metadata": {
  "kernelspec": {
   "display_name": "Python 3 (ipykernel)",
   "language": "python",
   "name": "python3"
  },
  "language_info": {
   "codemirror_mode": {
    "name": "ipython",
    "version": 3
   },
   "file_extension": ".py",
   "mimetype": "text/x-python",
   "name": "python",
   "nbconvert_exporter": "python",
   "pygments_lexer": "ipython3",
   "version": "3.10.9"
  }
 },
 "nbformat": 4,
 "nbformat_minor": 5
}
