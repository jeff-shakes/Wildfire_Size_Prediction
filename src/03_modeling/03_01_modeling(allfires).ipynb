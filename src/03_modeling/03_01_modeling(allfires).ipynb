{
 "cells": [
  {
   "cell_type": "markdown",
   "id": "ad04f99f-ee30-4525-ba22-2ead3ab17406",
   "metadata": {},
   "source": [
    "# Modeling All the Fire Data\n",
    "\n",
    "### This notebook focus on all the data we've collected for all fires reported. The models below are investigatory and NOT our best predictions. Done to see if any model could give a decent prediction over all of our data."
   ]
  },
  {
   "cell_type": "code",
   "execution_count": 1,
   "id": "fb8fad32-9541-4cec-8c21-0584e8bf6bc9",
   "metadata": {},
   "outputs": [],
   "source": [
    "import pandas as pd\n",
    "import numpy as np\n",
    "import seaborn as sns\n",
    "import matplotlib.pyplot as plt\n",
    "\n",
    "from sklearn.preprocessing import StandardScaler\n",
    "from sklearn.tree import DecisionTreeRegressor\n",
    "from sklearn.ensemble import StackingRegressor, VotingRegressor, RandomForestRegressor, AdaBoostRegressor\n",
    "from sklearn.pipeline import Pipeline\n",
    "from sklearn.model_selection import cross_val_score, train_test_split, GridSearchCV\n",
    "from sklearn.linear_model import LinearRegression, ridge_regression, Lasso\n",
    "from sklearn.neighbors import KNeighborsRegressor\n",
    "from sklearn.decomposition import PCA\n",
    "from sklearn.metrics import mean_squared_error"
   ]
  },
  {
   "cell_type": "code",
   "execution_count": 2,
   "id": "5100cfd2-2493-499b-afd3-c0d90a1074db",
   "metadata": {},
   "outputs": [],
   "source": [
    "df = pd.read_csv('../../data/processed/master_dataset_allfires.csv')\n",
    "np.random.seed(42)"
   ]
  },
  {
   "cell_type": "code",
   "execution_count": 4,
   "id": "9c521583-b088-471f-b0c1-d7d5c8a92cc4",
   "metadata": {},
   "outputs": [
    {
     "data": {
      "text/html": [
       "<div>\n",
       "<style scoped>\n",
       "    .dataframe tbody tr th:only-of-type {\n",
       "        vertical-align: middle;\n",
       "    }\n",
       "\n",
       "    .dataframe tbody tr th {\n",
       "        vertical-align: top;\n",
       "    }\n",
       "\n",
       "    .dataframe thead th {\n",
       "        text-align: right;\n",
       "    }\n",
       "</style>\n",
       "<table border=\"1\" class=\"dataframe\">\n",
       "  <thead>\n",
       "    <tr style=\"text-align: right;\">\n",
       "      <th></th>\n",
       "      <th>DiscoveryAcres</th>\n",
       "      <th>total_acres</th>\n",
       "      <th>temp_2m</th>\n",
       "      <th>temp_2m_max</th>\n",
       "      <th>humidity</th>\n",
       "      <th>rain</th>\n",
       "      <th>wind_speed_2m</th>\n",
       "      <th>wind_speed_2m_max</th>\n",
       "      <th>wind_speed_10m</th>\n",
       "      <th>wind_speed_10m_max</th>\n",
       "      <th>surface_soil_wetness_5cm_below</th>\n",
       "      <th>surface_soil_wetness_to_bedrock</th>\n",
       "      <th>landcover_class</th>\n",
       "    </tr>\n",
       "  </thead>\n",
       "  <tbody>\n",
       "    <tr>\n",
       "      <th>count</th>\n",
       "      <td>20276.000000</td>\n",
       "      <td>20276.000000</td>\n",
       "      <td>20276.000000</td>\n",
       "      <td>20276.000000</td>\n",
       "      <td>20276.000000</td>\n",
       "      <td>20276.000000</td>\n",
       "      <td>20276.000000</td>\n",
       "      <td>20276.000000</td>\n",
       "      <td>20276.000000</td>\n",
       "      <td>20276.000000</td>\n",
       "      <td>20276.000000</td>\n",
       "      <td>20276.000000</td>\n",
       "      <td>20276.000000</td>\n",
       "    </tr>\n",
       "    <tr>\n",
       "      <th>mean</th>\n",
       "      <td>5.770087</td>\n",
       "      <td>332.427169</td>\n",
       "      <td>18.936656</td>\n",
       "      <td>26.893344</td>\n",
       "      <td>5.224731</td>\n",
       "      <td>0.090735</td>\n",
       "      <td>0.695156</td>\n",
       "      <td>2.180344</td>\n",
       "      <td>1.997514</td>\n",
       "      <td>4.072110</td>\n",
       "      <td>-373.422565</td>\n",
       "      <td>-373.353949</td>\n",
       "      <td>330.965476</td>\n",
       "    </tr>\n",
       "    <tr>\n",
       "      <th>std</th>\n",
       "      <td>278.267600</td>\n",
       "      <td>6967.385542</td>\n",
       "      <td>35.814040</td>\n",
       "      <td>36.191712</td>\n",
       "      <td>34.693252</td>\n",
       "      <td>34.757608</td>\n",
       "      <td>34.433346</td>\n",
       "      <td>34.516668</td>\n",
       "      <td>34.486971</td>\n",
       "      <td>34.598067</td>\n",
       "      <td>483.537525</td>\n",
       "      <td>483.590553</td>\n",
       "      <td>182.605131</td>\n",
       "    </tr>\n",
       "    <tr>\n",
       "      <th>min</th>\n",
       "      <td>0.010000</td>\n",
       "      <td>0.020000</td>\n",
       "      <td>-999.000000</td>\n",
       "      <td>-999.000000</td>\n",
       "      <td>-999.000000</td>\n",
       "      <td>-999.000000</td>\n",
       "      <td>-999.000000</td>\n",
       "      <td>-999.000000</td>\n",
       "      <td>-999.000000</td>\n",
       "      <td>-999.000000</td>\n",
       "      <td>-999.000000</td>\n",
       "      <td>-999.000000</td>\n",
       "      <td>0.000000</td>\n",
       "    </tr>\n",
       "    <tr>\n",
       "      <th>25%</th>\n",
       "      <td>0.100000</td>\n",
       "      <td>0.200000</td>\n",
       "      <td>15.900000</td>\n",
       "      <td>23.600000</td>\n",
       "      <td>4.090000</td>\n",
       "      <td>0.000000</td>\n",
       "      <td>1.100000</td>\n",
       "      <td>1.910000</td>\n",
       "      <td>2.230000</td>\n",
       "      <td>3.690000</td>\n",
       "      <td>-999.000000</td>\n",
       "      <td>-999.000000</td>\n",
       "      <td>162.000000</td>\n",
       "    </tr>\n",
       "    <tr>\n",
       "      <th>50%</th>\n",
       "      <td>0.100000</td>\n",
       "      <td>0.300000</td>\n",
       "      <td>21.300000</td>\n",
       "      <td>29.230000</td>\n",
       "      <td>6.040000</td>\n",
       "      <td>0.010000</td>\n",
       "      <td>1.740000</td>\n",
       "      <td>3.220000</td>\n",
       "      <td>2.890000</td>\n",
       "      <td>4.840000</td>\n",
       "      <td>0.180000</td>\n",
       "      <td>0.360000</td>\n",
       "      <td>304.000000</td>\n",
       "    </tr>\n",
       "    <tr>\n",
       "      <th>75%</th>\n",
       "      <td>1.000000</td>\n",
       "      <td>1.250000</td>\n",
       "      <td>25.150000</td>\n",
       "      <td>33.510000</td>\n",
       "      <td>8.360000</td>\n",
       "      <td>0.510000</td>\n",
       "      <td>2.470000</td>\n",
       "      <td>4.520000</td>\n",
       "      <td>3.820000</td>\n",
       "      <td>6.440000</td>\n",
       "      <td>0.340000</td>\n",
       "      <td>0.420000</td>\n",
       "      <td>489.000000</td>\n",
       "    </tr>\n",
       "    <tr>\n",
       "      <th>max</th>\n",
       "      <td>33763.000000</td>\n",
       "      <td>413718.000000</td>\n",
       "      <td>39.350000</td>\n",
       "      <td>48.010000</td>\n",
       "      <td>17.520000</td>\n",
       "      <td>136.130000</td>\n",
       "      <td>9.020000</td>\n",
       "      <td>13.510000</td>\n",
       "      <td>12.950000</td>\n",
       "      <td>18.170000</td>\n",
       "      <td>0.910000</td>\n",
       "      <td>0.920000</td>\n",
       "      <td>584.000000</td>\n",
       "    </tr>\n",
       "  </tbody>\n",
       "</table>\n",
       "</div>"
      ],
      "text/plain": [
       "       DiscoveryAcres    total_acres       temp_2m   temp_2m_max  \\\n",
       "count    20276.000000   20276.000000  20276.000000  20276.000000   \n",
       "mean         5.770087     332.427169     18.936656     26.893344   \n",
       "std        278.267600    6967.385542     35.814040     36.191712   \n",
       "min          0.010000       0.020000   -999.000000   -999.000000   \n",
       "25%          0.100000       0.200000     15.900000     23.600000   \n",
       "50%          0.100000       0.300000     21.300000     29.230000   \n",
       "75%          1.000000       1.250000     25.150000     33.510000   \n",
       "max      33763.000000  413718.000000     39.350000     48.010000   \n",
       "\n",
       "           humidity          rain  wind_speed_2m  wind_speed_2m_max  \\\n",
       "count  20276.000000  20276.000000   20276.000000       20276.000000   \n",
       "mean       5.224731      0.090735       0.695156           2.180344   \n",
       "std       34.693252     34.757608      34.433346          34.516668   \n",
       "min     -999.000000   -999.000000    -999.000000        -999.000000   \n",
       "25%        4.090000      0.000000       1.100000           1.910000   \n",
       "50%        6.040000      0.010000       1.740000           3.220000   \n",
       "75%        8.360000      0.510000       2.470000           4.520000   \n",
       "max       17.520000    136.130000       9.020000          13.510000   \n",
       "\n",
       "       wind_speed_10m  wind_speed_10m_max  surface_soil_wetness_5cm_below  \\\n",
       "count    20276.000000        20276.000000                    20276.000000   \n",
       "mean         1.997514            4.072110                     -373.422565   \n",
       "std         34.486971           34.598067                      483.537525   \n",
       "min       -999.000000         -999.000000                     -999.000000   \n",
       "25%          2.230000            3.690000                     -999.000000   \n",
       "50%          2.890000            4.840000                        0.180000   \n",
       "75%          3.820000            6.440000                        0.340000   \n",
       "max         12.950000           18.170000                        0.910000   \n",
       "\n",
       "       surface_soil_wetness_to_bedrock  landcover_class  \n",
       "count                     20276.000000     20276.000000  \n",
       "mean                       -373.353949       330.965476  \n",
       "std                         483.590553       182.605131  \n",
       "min                        -999.000000         0.000000  \n",
       "25%                        -999.000000       162.000000  \n",
       "50%                           0.360000       304.000000  \n",
       "75%                           0.420000       489.000000  \n",
       "max                           0.920000       584.000000  "
      ]
     },
     "execution_count": 4,
     "metadata": {},
     "output_type": "execute_result"
    }
   ],
   "source": [
    "df.describe()"
   ]
  },
  {
   "cell_type": "markdown",
   "id": "526889da-a60a-43ff-9bcf-710ceb5d1db0",
   "metadata": {},
   "source": [
    "---\n",
    "######\n",
    "### Investigating Correlation Between the Features and Target (DailyAcres) \n",
    "######\n",
    "___"
   ]
  },
  {
   "cell_type": "code",
   "execution_count": 34,
   "id": "7fa5d062-9009-435f-88bb-04ece4d8da07",
   "metadata": {},
   "outputs": [
    {
     "data": {
      "image/png": "[encoded data removed]",
      "text/plain": [
       "<Figure size 600x1200 with 2 Axes>"
      ]
     },
     "metadata": {},
     "output_type": "display_data"
    }
   ],
   "source": [
    "plt.figure(figsize = (6, 12))\n",
    "sns.heatmap(df[heatmap_cols].corr()[['total_acres']].sort_values(by = 'total_acres', ascending=False),\n",
    "            vmin = -1,\n",
    "            vmax = 1, \n",
    "            cmap = 'coolwarm',\n",
    "            annot = True);"
   ]
  },
  {
   "cell_type": "markdown",
   "id": "8cc95356-f575-4c22-baef-2529a23da2d0",
   "metadata": {},
   "source": [
    "---\n",
    "######\n",
    "### Feature Selection, Train/Test Splitting Data, and Standard Scaling\n",
    "######\n",
    "___"
   ]
  },
  {
   "cell_type": "code",
   "execution_count": 35,
   "id": "32658916-ab88-4be9-a83a-37279504b72d",
   "metadata": {},
   "outputs": [],
   "source": [
    "X_train, X_test, y_train, y_test = train_test_split(df.drop(columns = 'total_acres'), df['total_acres'], random_state= 42)"
   ]
  },
  {
   "cell_type": "code",
   "execution_count": 36,
   "id": "1b167691-24fb-47ca-869e-924bc2d431cf",
   "metadata": {},
   "outputs": [],
   "source": [
    "ss = StandardScaler()\n",
    "X_train = ss.fit_transform(X_train)\n",
    "X_test = ss.transform(X_test)"
   ]
  },
  {
   "cell_type": "markdown",
   "id": "a7471dd0-269f-4f71-980e-3d9fc6584734",
   "metadata": {},
   "source": [
    "---\n",
    "######\n",
    "### Using PCA For Feature Elimination\n",
    "######\n",
    "___"
   ]
  },
  {
   "cell_type": "code",
   "execution_count": 37,
   "id": "fd82c3b0-46e2-4136-b8fa-01b17e7e6773",
   "metadata": {},
   "outputs": [],
   "source": [
    "pca = PCA(random_state = 42)\n",
    "\n",
    "Z_train = pca.fit_transform(X_train)\n",
    "Z_test = pca.transform(X_test)"
   ]
  },
  {
   "cell_type": "code",
   "execution_count": 38,
   "id": "c7382fc2-6aac-4c9c-8b6c-fcc359b18e9a",
   "metadata": {},
   "outputs": [
    {
     "data": {
      "text/plain": [
       "array([0.659, 0.826, 0.91 , 0.992, 0.998, 0.999, 1.   , 1.   , 1.   ,\n",
       "       1.   , 1.   , 1.   ])"
      ]
     },
     "execution_count": 38,
     "metadata": {},
     "output_type": "execute_result"
    }
   ],
   "source": [
    "explained = pca.explained_variance_ratio_\n",
    "cumulative = np.cumsum(explained)\n",
    "np.round(cumulative[:20], 3)"
   ]
  },
  {
   "cell_type": "code",
   "execution_count": 39,
   "id": "44fb8881-3751-409b-b7ab-e1324f6c4a99",
   "metadata": {},
   "outputs": [],
   "source": [
    "Z_train = Z_train[:,:7]\n",
    "Z_test = Z_test[:,:7]"
   ]
  },
  {
   "cell_type": "markdown",
   "id": "643be516-f755-45b8-a373-135fa5e737ef",
   "metadata": {},
   "source": [
    "---\n",
    "######\n",
    "### Dummying Landcover_Class and re-train/test splitting\n",
    "######\n",
    "___"
   ]
  },
  {
   "cell_type": "code",
   "execution_count": 40,
   "id": "5cc0f536-9bf5-420d-a3ce-0e63bc385fb6",
   "metadata": {},
   "outputs": [],
   "source": [
    "df = pd.get_dummies(data = df, columns = ['landcover_class'], drop_first= True)\n",
    "X_train, X_test, y_train, y_test = train_test_split(df.drop(columns = 'total_acres'), df['total_acres'], random_state= 42)\n",
    "ss = StandardScaler()\n",
    "X_train = ss.fit_transform(X_train)\n",
    "X_test = ss.transform(X_test)"
   ]
  },
  {
   "cell_type": "code",
   "execution_count": 31,
   "id": "22f87b3a-da6c-4081-9da3-cfdc22451e52",
   "metadata": {},
   "outputs": [],
   "source": [
    "#Saving the PCA data for investigations in Neural Nets\n",
    "#np.savetxt('../../data/processed/Neural_Net_Data/X_train_allfires.csv', X_train, delimiter=',')\n",
    "#np.savetxt('../../data/processed/Neural_Net_Data/X_test_allfires.csv', X_test, delimiter=',')\n",
    "#np.savetxt('../../data/processed/Neural_Net_Data/Z_train_allfires.csv', Z_train, delimiter=',')\n",
    "#np.savetxt('../../data/processed/Neural_Net_Data/Z_test_allfires.csv', Z_test, delimiter=',')\n",
    "#np.savetxt('../../data/processed/Neural_Net_Data/y_train.csv', y_train, delimiter=',')\n",
    "#np.savetxt('../../data/processed/Neural_Net_Data/y_test.csv', y_test, delimiter=',')"
   ]
  },
  {
   "cell_type": "markdown",
   "id": "a56bc06b-1b97-4390-9168-465ad7a6707b",
   "metadata": {},
   "source": [
    "---\n",
    "######\n",
    "### Modeling / Simple Models\n",
    "######\n",
    "---"
   ]
  },
  {
   "cell_type": "markdown",
   "id": "7e9c59b4-b2a4-4e23-8c4c-0d16644b696c",
   "metadata": {},
   "source": [
    "#### Linear Regression (Baseline) with DF"
   ]
  },
  {
   "cell_type": "code",
   "execution_count": 41,
   "id": "82e0d232-ff13-4963-ae9f-2793a14d914b",
   "metadata": {},
   "outputs": [
    {
     "name": "stdout",
     "output_type": "stream",
     "text": [
      "Training R-Squared: 0.025105848724866875\n",
      "Testing R-Squared: -5.997249191851322e+18\n",
      "==================================================\n",
      "RMSE: 15025204695069.312\n"
     ]
    }
   ],
   "source": [
    "#Linear Regression - Baseline\n",
    "# With X data\n",
    "lr = LinearRegression()\n",
    "\n",
    "lr.fit(X_train, y_train)\n",
    "print(f'Training R-Squared: {lr.score(X_train, y_train)}')\n",
    "print(f'Testing R-Squared: {lr.score(X_test, y_test)}')\n",
    "print('='*50)\n",
    "print(f'RMSE: {mean_squared_error(y_test, lr.predict(X_test), squared = False)}')"
   ]
  },
  {
   "cell_type": "markdown",
   "id": "473fccc5-6158-4d80-8ede-98f82d617e5a",
   "metadata": {},
   "source": [
    "#### Linear Regression (Baseline) with PCA"
   ]
  },
  {
   "cell_type": "code",
   "execution_count": 42,
   "id": "43c3e0f2-ffd7-426e-9ca4-db68c06c7cd9",
   "metadata": {},
   "outputs": [
    {
     "name": "stdout",
     "output_type": "stream",
     "text": [
      "Training R-Squared: 0.014319057979142902\n",
      "Testing R-Squared: 0.01401542634412789\n",
      "==================================================\n",
      "RMSE: 6092.273755954754\n"
     ]
    }
   ],
   "source": [
    "#Linear Regression - Baseline\n",
    "# With PCA Data\n",
    "lr = LinearRegression()\n",
    "\n",
    "lr.fit(Z_train, y_train)\n",
    "print(f'Training R-Squared: {lr.score(Z_train, y_train)}')\n",
    "print(f'Testing R-Squared: {lr.score(Z_test, y_test)}')\n",
    "print('='*50)\n",
    "print(f'RMSE: {mean_squared_error(y_test, lr.predict(Z_test), squared = False)}')"
   ]
  },
  {
   "cell_type": "code",
   "execution_count": 43,
   "id": "3b15c720-05e0-4c5a-a85c-e0c5567b5276",
   "metadata": {},
   "outputs": [],
   "source": [
    "def model_eval(model, param_dict, training_data):\n",
    "    '''\n",
    "    This function gridsearches a model (arg: model, instantiated before function call) over the given parameters (param_dict) \n",
    "    and evalutated on the given training data (either X from DF or Z from PCA'd components)\n",
    "    '''\n",
    "    \n",
    "    gs_model = GridSearchCV(model,\n",
    "                            param_grid = param_dict,\n",
    "                            n_jobs = -1)\n",
    "    if training_data == 'X_train':\n",
    "        gs_model.fit(X_train, y_train)\n",
    "        print(f'Best Score: {gs_model.best_score_}')\n",
    "        print(f'Best Params: {gs_model.best_params_}')\n",
    "        print('='*50)\n",
    "        print(f'RMSE: {mean_squared_error(y_test, gs_model.predict(X_test), squared = False)}')\n",
    "        print('='*50)\n",
    "        print(f'Training R-Squared: {gs_model.score(X_train, y_train)}')\n",
    "        print(f'Testing R-Squared: {gs_model.score(X_test, y_test)}')\n",
    "        \n",
    "    elif training_data == 'Z_train':\n",
    "        gs_model.fit(Z_train, y_train)\n",
    "        print(f'Best Score: {gs_model.best_score_}')\n",
    "        print(f'Best Params: {gs_model.best_params_}')\n",
    "        print('='*50)\n",
    "        print(f'RMSE: {mean_squared_error(y_test, gs_model.predict(Z_test), squared = False)}')\n",
    "        print('='*50)\n",
    "        print(f'Training R-Squared: {gs_model.score(Z_train, y_train)}')\n",
    "        print(f'Testing R-Squared: {gs_model.score(Z_test, y_test)}')\n",
    "    else:\n",
    "        return 'Try Again'"
   ]
  },
  {
   "cell_type": "markdown",
   "id": "e39808b7-347c-4582-ae20-150656d85c08",
   "metadata": {},
   "source": [
    "#### KNN Regression with DF"
   ]
  },
  {
   "cell_type": "code",
   "execution_count": 44,
   "id": "8ad4cdb7-7491-4c82-938e-3c839299206f",
   "metadata": {},
   "outputs": [
    {
     "name": "stdout",
     "output_type": "stream",
     "text": [
      "Best Score: 0.00021933825379818472\n",
      "Best Params: {'n_neighbors': 1700, 'weights': 'uniform'}\n",
      "==================================================\n",
      "RMSE: 6134.238413704696\n",
      "==================================================\n",
      "Training R-Squared: 0.001383982700420061\n",
      "Testing R-Squared: 0.00038537254762760487\n"
     ]
    }
   ],
   "source": [
    "#KNN Regressor with X Data\n",
    "    #Using high n_neighbors trying to combat high variance\n",
    "\n",
    "knn_model = KNeighborsRegressor(n_jobs=-1)\n",
    "\n",
    "knn_params = {\n",
    "    'n_neighbors': range(1000, 2001, 100),\n",
    "    'weights': ['uniform', 'distance']\n",
    "}\n",
    "\n",
    "model_eval(model = knn_model,\n",
    "           param_dict = knn_params,\n",
    "           training_data = 'X_train')"
   ]
  },
  {
   "cell_type": "markdown",
   "id": "ce8089ea-2a6c-4485-b23f-6e2a99f361f2",
   "metadata": {},
   "source": [
    "#### KNN Regression with PCA Data"
   ]
  },
  {
   "cell_type": "code",
   "execution_count": 45,
   "id": "5e69d66e-20a9-4f00-bbb8-c53f85d37d48",
   "metadata": {},
   "outputs": [
    {
     "name": "stdout",
     "output_type": "stream",
     "text": [
      "Best Score: 0.000125956597733623\n",
      "Best Params: {'n_neighbors': 2000, 'weights': 'uniform'}\n",
      "==================================================\n",
      "RMSE: 6133.536279317222\n",
      "==================================================\n",
      "Training R-Squared: 0.001500868697780211\n",
      "Testing R-Squared: 0.0006141943144444273\n"
     ]
    }
   ],
   "source": [
    "#KNN Regressor with PCA Data\n",
    "    #Using high n_neighbors trying to combat high variance\n",
    "\n",
    "knn_model = KNeighborsRegressor(n_jobs=-1)\n",
    "\n",
    "knn_params = {\n",
    "    'n_neighbors': range(1000, 2001, 100),\n",
    "    'weights': ['uniform', 'distance']\n",
    "}\n",
    "\n",
    "model_eval(model = knn_model,\n",
    "           param_dict = knn_params,\n",
    "           training_data = 'Z_train')"
   ]
  },
  {
   "cell_type": "markdown",
   "id": "e067b313-408b-44bf-9388-1f1d5f55f211",
   "metadata": {},
   "source": [
    "#### Lasso Regression with DF"
   ]
  },
  {
   "cell_type": "code",
   "execution_count": 46,
   "id": "ef184bcc-6786-400d-b2de-5614b88b6e44",
   "metadata": {},
   "outputs": [
    {
     "name": "stdout",
     "output_type": "stream",
     "text": [
      "Best Score: -0.00714604637438061\n",
      "Best Params: {'alpha': 9}\n",
      "==================================================\n",
      "RMSE: 6166.51584267946\n",
      "==================================================\n",
      "Training R-Squared: 0.02484841596594556\n",
      "Testing R-Squared: -0.010161943905328874\n"
     ]
    }
   ],
   "source": [
    "# Lasso Regression with X Data\n",
    "\n",
    "lasso = Lasso()\n",
    "lasso_params = {\n",
    "    'alpha': range(1, 10)\n",
    "}\n",
    "\n",
    "model_eval(model = lasso,\n",
    "           param_dict = lasso_params,\n",
    "           training_data = 'X_train')"
   ]
  },
  {
   "cell_type": "markdown",
   "id": "0f3bcff3-f1d8-4f9e-8df8-b3b41c7631ef",
   "metadata": {},
   "source": [
    "#### Lasso Regression with PCA"
   ]
  },
  {
   "cell_type": "code",
   "execution_count": 47,
   "id": "f5bb0b0a-933d-44b6-9592-93355e1b02ad",
   "metadata": {},
   "outputs": [
    {
     "name": "stdout",
     "output_type": "stream",
     "text": [
      "Best Score: 0.015348479279944937\n",
      "Best Params: {'alpha': 90}\n",
      "==================================================\n",
      "RMSE: 6098.286145623219\n",
      "==================================================\n",
      "Training R-Squared: 0.013927120687144079\n",
      "Testing R-Squared: 0.01206835406950979\n"
     ]
    }
   ],
   "source": [
    "# Lasso Regression with PCA Data\n",
    "\n",
    "lasso = Lasso()\n",
    "lasso_params = {\n",
    "    'alpha': range(90, 200, 2)\n",
    "}\n",
    "\n",
    "model_eval(model = lasso,\n",
    "           param_dict = lasso_params,\n",
    "           training_data = 'Z_train')"
   ]
  },
  {
   "cell_type": "markdown",
   "id": "51afb486-8b6a-4b54-a052-614076848a81",
   "metadata": {},
   "source": [
    "#### Adaboost Regression with DF"
   ]
  },
  {
   "cell_type": "code",
   "execution_count": 48,
   "id": "1e2d2b7d-fc0e-4548-b44e-bcbd0ac0cf9b",
   "metadata": {},
   "outputs": [
    {
     "name": "stdout",
     "output_type": "stream",
     "text": [
      "Best Score: -0.0007568749559327071\n",
      "Best Params: {'learning_rate': 0.01, 'n_estimators': 60}\n",
      "==================================================\n",
      "RMSE: 6136.442446489638\n",
      "==================================================\n",
      "Training R-Squared: 0.21796130495081933\n",
      "Testing R-Squared: -0.0003330798712923855\n"
     ]
    }
   ],
   "source": [
    "# Adaboost with X Data\n",
    "\n",
    "ada = AdaBoostRegressor()\n",
    "ada_params = {\n",
    "    'n_estimators': range(40, 81, 10),\n",
    "    'learning_rate': np.linspace(0.01, .25, 10) \n",
    "}\n",
    "\n",
    "model_eval(model = ada,\n",
    "           param_dict = ada_params,\n",
    "           training_data = 'X_train')"
   ]
  },
  {
   "cell_type": "markdown",
   "id": "2e1cd76a-402b-4751-b1a4-ad8b9d4a4515",
   "metadata": {},
   "source": [
    "#### Adaboost Regression with PCA"
   ]
  },
  {
   "cell_type": "code",
   "execution_count": 49,
   "id": "8cb35fcb-f898-414c-84d5-1e421283e166",
   "metadata": {},
   "outputs": [
    {
     "name": "stdout",
     "output_type": "stream",
     "text": [
      "Best Score: -0.02166393307434311\n",
      "Best Params: {'learning_rate': 0.2, 'n_estimators': 10}\n",
      "==================================================\n",
      "RMSE: 6127.712726183758\n",
      "==================================================\n",
      "Training R-Squared: 0.22266578361078193\n",
      "Testing R-Squared: 0.0025110489689922355\n"
     ]
    }
   ],
   "source": [
    "# Adaboost with PCA Data\n",
    "\n",
    "ada = AdaBoostRegressor()\n",
    "ada_params = {\n",
    "    'n_estimators': range(10, 101, 10),\n",
    "    'learning_rate': np.linspace(0.2, .75, 10) \n",
    "}\n",
    "\n",
    "model_eval(model = ada,\n",
    "           param_dict = ada_params,\n",
    "           training_data = 'Z_train')"
   ]
  },
  {
   "cell_type": "markdown",
   "id": "28d2900f-7605-403b-8dcd-7a5fb5acd34c",
   "metadata": {},
   "source": [
    "---\n",
    "######\n",
    "### Modeling / Ensemble Models\n",
    "######\n",
    "---"
   ]
  },
  {
   "cell_type": "markdown",
   "id": "31cdfde2-5de9-495b-95d0-7244405a124a",
   "metadata": {},
   "source": [
    "#### Stacking Regression with DF and with DecisionTreeRegressor Final Estimator"
   ]
  },
  {
   "cell_type": "code",
   "execution_count": 50,
   "id": "50e00118-1024-483f-994a-4e95c0a4b4a5",
   "metadata": {},
   "outputs": [
    {
     "name": "stdout",
     "output_type": "stream",
     "text": [
      "Training R-Squared: -0.9178076714034054\n",
      "Testing R-Squared: -2.441666239644778\n",
      "==================================================\n",
      "RMSE: 11382.265872904358\n"
     ]
    }
   ],
   "source": [
    "# Stacking Regressor with X_train\n",
    "\n",
    "lvl1_est = ([\n",
    "    ('rf', RandomForestRegressor(n_jobs=-1)),\n",
    "    ('ada', AdaBoostRegressor()),\n",
    "    ('lasso', Lasso())\n",
    "])\n",
    "\n",
    "stack = StackingRegressor(estimators=lvl1_est, \n",
    "                          final_estimator=DecisionTreeRegressor(),\n",
    "                         n_jobs=-1)\n",
    "\n",
    "stack.fit(X_train, y_train)\n",
    "\n",
    "print(f'Training R-Squared: {stack.score(X_train, y_train)}')\n",
    "print(f'Testing R-Squared: {stack.score(X_test, y_test)}')\n",
    "print('='*50)\n",
    "print(f'RMSE: {mean_squared_error(y_test, stack.predict(X_test), squared = False)}')"
   ]
  },
  {
   "cell_type": "markdown",
   "id": "b774d8cf-b331-41f6-93bc-f6b889bca99c",
   "metadata": {},
   "source": [
    "#### Stacking Regression with PCA and with DecisionTreeRegressor Final Estimator"
   ]
  },
  {
   "cell_type": "code",
   "execution_count": 51,
   "id": "3009254b-0e37-4f30-be03-58039d6b0348",
   "metadata": {},
   "outputs": [
    {
     "name": "stdout",
     "output_type": "stream",
     "text": [
      "Training R-Squared: -0.1904949226045234\n",
      "Testing R-Squared: 0.0031659860922609306\n",
      "==================================================\n",
      "RMSE: 6125.70071115301\n"
     ]
    }
   ],
   "source": [
    "# Stacking Regressor with Z_train\n",
    "\n",
    "lvl1_est = ([\n",
    "    ('rf', RandomForestRegressor(n_jobs=-1)),\n",
    "    ('ada', AdaBoostRegressor()),\n",
    "    ('lasso', Lasso())\n",
    "])\n",
    "\n",
    "stack = StackingRegressor(estimators=lvl1_est, \n",
    "                          final_estimator=DecisionTreeRegressor(),\n",
    "                         n_jobs=-1)\n",
    "\n",
    "stack.fit(Z_train, y_train)\n",
    "\n",
    "print(f'Training R-Squared: {stack.score(Z_train, y_train)}')\n",
    "print(f'Testing R-Squared: {stack.score(Z_test, y_test)}')\n",
    "print('='*50)\n",
    "print(f'RMSE: {mean_squared_error(y_test, stack.predict(Z_test), squared = False)}')"
   ]
  },
  {
   "cell_type": "markdown",
   "id": "e447d577-52c8-43bb-8498-f19667dd9f2e",
   "metadata": {},
   "source": [
    "#### Stacking Regression with DF and with LinearRegression Final Estimator"
   ]
  },
  {
   "cell_type": "code",
   "execution_count": 52,
   "id": "984b103b-9c0e-4409-bc10-4056a751dae0",
   "metadata": {},
   "outputs": [
    {
     "name": "stdout",
     "output_type": "stream",
     "text": [
      "Training R-Squared: -0.02104737651863786\n",
      "Testing R-Squared: -0.0020193756088338066\n",
      "==================================================\n",
      "RMSE: 6141.612474196908\n"
     ]
    }
   ],
   "source": [
    "# Stacking Regressor\n",
    "\n",
    "lvl1_est = ([\n",
    "    ('rf', RandomForestRegressor(n_jobs=-1)),\n",
    "    ('ada', AdaBoostRegressor()),\n",
    "    ('lasso', Lasso())\n",
    "])\n",
    "\n",
    "stack = StackingRegressor(estimators=lvl1_est, \n",
    "                          final_estimator=LinearRegression(),\n",
    "                         n_jobs=-1)\n",
    "\n",
    "stack.fit(X_train, y_train)\n",
    "\n",
    "print(f'Training R-Squared: {stack.score(X_train, y_train)}')\n",
    "print(f'Testing R-Squared: {stack.score(X_test, y_test)}')\n",
    "print('='*50)\n",
    "print(f'RMSE: {mean_squared_error(y_test, stack.predict(X_test), squared = False)}')"
   ]
  },
  {
   "cell_type": "markdown",
   "id": "1d3ad4ae-6c03-408c-be21-196d32817f2a",
   "metadata": {},
   "source": [
    "#### Stacking Regression with PCA and with LinearRegression Final Estimator"
   ]
  },
  {
   "cell_type": "code",
   "execution_count": 53,
   "id": "3140c54f-70db-45f3-b270-257e6b904644",
   "metadata": {},
   "outputs": [
    {
     "name": "stdout",
     "output_type": "stream",
     "text": [
      "Training R-Squared: 0.007126796159197757\n",
      "Testing R-Squared: 0.014875501540960623\n",
      "==================================================\n",
      "RMSE: 6089.616028409128\n"
     ]
    }
   ],
   "source": [
    "# Stacking Regressor\n",
    "\n",
    "lvl1_est = ([\n",
    "    ('rf', RandomForestRegressor(n_jobs=-1)),\n",
    "    ('ada', AdaBoostRegressor()),\n",
    "    ('lasso', Lasso())\n",
    "])\n",
    "\n",
    "stack = StackingRegressor(estimators=lvl1_est, \n",
    "                          final_estimator=LinearRegression(),\n",
    "                         n_jobs=-1)\n",
    "\n",
    "stack.fit(Z_train, y_train)\n",
    "\n",
    "print(f'Training R-Squared: {stack.score(Z_train, y_train)}')\n",
    "print(f'Testing R-Squared: {stack.score(Z_test, y_test)}')\n",
    "print('='*50)\n",
    "print(f'RMSE: {mean_squared_error(y_test, stack.predict(Z_test), squared = False)}')"
   ]
  },
  {
   "cell_type": "markdown",
   "id": "a4c28af5-4605-480f-bd8e-85da30b1b13e",
   "metadata": {},
   "source": [
    "#### Stacking Regression with PCA and with Lasso Final Estimator"
   ]
  },
  {
   "cell_type": "code",
   "execution_count": 54,
   "id": "c0ee9cc4-909b-4959-ba3d-c12da5b0e80b",
   "metadata": {},
   "outputs": [
    {
     "name": "stdout",
     "output_type": "stream",
     "text": [
      "Training R-Squared: 0.006975590229424289\n",
      "Testing R-Squared: 0.014927436043311149\n",
      "==================================================\n",
      "RMSE: 6089.455507913107\n"
     ]
    }
   ],
   "source": [
    "# Stacking Regressor\n",
    "\n",
    "lvl1_est = ([\n",
    "    ('rf', RandomForestRegressor(n_jobs=-1)),\n",
    "    ('ada', AdaBoostRegressor()),\n",
    "    ('lasso', Lasso())\n",
    "])\n",
    "\n",
    "stack = StackingRegressor(estimators=lvl1_est, \n",
    "                          final_estimator=Lasso(),\n",
    "                         n_jobs=-1)\n",
    "\n",
    "stack.fit(Z_train, y_train)\n",
    "\n",
    "print(f'Training R-Squared: {stack.score(Z_train, y_train)}')\n",
    "print(f'Testing R-Squared: {stack.score(Z_test, y_test)}')\n",
    "print('='*50)\n",
    "print(f'RMSE: {mean_squared_error(y_test, stack.predict(Z_test), squared = False)}')"
   ]
  },
  {
   "cell_type": "markdown",
   "id": "0c400215-ffcd-4523-bc6a-c7e5d8242d89",
   "metadata": {},
   "source": [
    "#### Stacking Regression (different base estimators) with PCA and with LinearRegression Final Estimator"
   ]
  },
  {
   "cell_type": "code",
   "execution_count": 55,
   "id": "3b17bbb5-0520-4cee-b373-335bb8590e74",
   "metadata": {},
   "outputs": [
    {
     "name": "stdout",
     "output_type": "stream",
     "text": [
      "Training R-Squared: 0.007165129966354877\n",
      "Testing R-Squared: 0.014994443475620733\n",
      "==================================================\n",
      "RMSE: 6089.248393365456\n"
     ]
    }
   ],
   "source": [
    "# Stacking Regressor\n",
    "\n",
    "lvl1_est = ([\n",
    "    ('ada', AdaBoostRegressor()),\n",
    "    ('lasso', Lasso())\n",
    "])\n",
    "\n",
    "stack = StackingRegressor(estimators=lvl1_est, \n",
    "                          final_estimator=Lasso(),\n",
    "                         n_jobs=-1)\n",
    "\n",
    "stack.fit(Z_train, y_train)\n",
    "\n",
    "print(f'Training R-Squared: {stack.score(Z_train, y_train)}')\n",
    "print(f'Testing R-Squared: {stack.score(Z_test, y_test)}')\n",
    "print('='*50)\n",
    "print(f'RMSE: {mean_squared_error(y_test, stack.predict(Z_test), squared = False)}')"
   ]
  },
  {
   "cell_type": "markdown",
   "id": "9a6b2331-b35b-4059-b5f0-c7668a66d171",
   "metadata": {},
   "source": [
    "#### Voting Regression with PCA"
   ]
  },
  {
   "cell_type": "code",
   "execution_count": 56,
   "id": "a1fae710-f36b-48d4-bb47-24392289fad0",
   "metadata": {},
   "outputs": [
    {
     "name": "stdout",
     "output_type": "stream",
     "text": [
      "Training R-Squared: -4.323905114991718\n",
      "Testing R-Squared: -6.864025234632602\n",
      "==================================================\n",
      "RMSE: 17205.480241840625\n"
     ]
    }
   ],
   "source": [
    "#Voting Regression\n",
    "\n",
    "lvl1_est = ([\n",
    "    ('rf', RandomForestRegressor(n_jobs=-1)),\n",
    "    ('ada', AdaBoostRegressor()),\n",
    "    ('lasso', Lasso())\n",
    "])\n",
    "\n",
    "vote = VotingRegressor(estimators = lvl1_est, n_jobs = -1)\n",
    "\n",
    "vote.fit(Z_train, y_train)\n",
    "print(f'Training R-Squared: {vote.score(Z_train, y_train)}')\n",
    "print(f'Testing R-Squared: {vote.score(Z_test, y_test)}')\n",
    "print('='*50)\n",
    "print(f'RMSE: {mean_squared_error(y_test, vote.predict(Z_test), squared = False)}')"
   ]
  }
 ],
 "metadata": {
  "kernelspec": {
   "display_name": "Python 3 (ipykernel)",
   "language": "python",
   "name": "python3"
  },
  "language_info": {
   "codemirror_mode": {
    "name": "ipython",
    "version": 3
   },
   "file_extension": ".py",
   "mimetype": "text/x-python",
   "name": "python",
   "nbconvert_exporter": "python",
   "pygments_lexer": "ipython3",
   "version": "3.9.13"
  }
 },
 "nbformat": 4,
 "nbformat_minor": 5
}
