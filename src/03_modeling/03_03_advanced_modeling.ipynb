{
 "cells": [
  {
   "cell_type": "markdown",
   "id": "932a06dc-07d2-4a38-b6da-6a8624a8ca0b",
   "metadata": {},
   "source": [
    "# Modeling the Fire Data for Fires Over 1 Acre and Lasting Longer than 24 Hours But With Outliers Removed"
   ]
  },
  {
   "cell_type": "markdown",
   "id": "893efcdf-7ea8-41a4-94b3-c51eb6fb5d93",
   "metadata": {},
   "source": [
    "## The Methodology for this notebook:\n",
    "1. Read in data\n",
    "2. Filter out outliers\n",
    "3. Examine correlation\n",
    "4. Investigate clustering with DBSCAN (if successful, cluster labels will be an added feature)\n",
    "5. Create the train/test dataset without the categorical feature\n",
    "6. Create the train/test dataset with the categorical feature dummied\n",
    "7. Create the train/test dataset with the categorical feature dummied but transformed by PCA\n",
    "8. Create the train/test dataset without the categorical feature but transformed by Polynomial Features and then transformed by PCA\n",
    "9. Export these 4 train/test sets for use in Neural Net investigation\n",
    "10. Investigate the baseline Linear Regression Models for each of the 4 train/test sets\n",
    "11. Define the helper function used to gridsearch through different models and return RMSE and R-Squared for the training and test sets\n",
    "12. Use the helper function for a variety of simple models (KNN Regressor, Lasso, etc.)\n",
    "13. Run a few ensemble models to see if they would be worth gridsearching through\n",
    "14. Gridsearch through the best ensemble model\n",
    "15. Find the best model\n",
    "16. Generate predictions and compare to true values for Post-Model Analysis"
   ]
  },
  {
   "cell_type": "code",
   "execution_count": 1,
   "id": "fb8fad32-9541-4cec-8c21-0584e8bf6bc9",
   "metadata": {},
   "outputs": [],
   "source": [
    "import pandas as pd\n",
    "import numpy as np\n",
    "import seaborn as sns\n",
    "import matplotlib.pyplot as plt\n",
    "\n",
    "from sklearn.preprocessing import StandardScaler, PolynomialFeatures\n",
    "from sklearn.tree import DecisionTreeRegressor\n",
    "from sklearn.ensemble import StackingRegressor, VotingRegressor, RandomForestRegressor, AdaBoostRegressor\n",
    "from sklearn.pipeline import Pipeline\n",
    "from sklearn.model_selection import cross_val_score, train_test_split, GridSearchCV\n",
    "from sklearn.linear_model import LinearRegression, ridge_regression, Lasso\n",
    "from sklearn.neighbors import KNeighborsRegressor\n",
    "from sklearn.decomposition import PCA\n",
    "from sklearn.metrics import mean_squared_error, silhouette_score\n",
    "from sklearn.cluster import DBSCAN"
   ]
  },
  {
   "cell_type": "code",
   "execution_count": 2,
   "id": "5100cfd2-2493-499b-afd3-c0d90a1074db",
   "metadata": {},
   "outputs": [
    {
     "data": {
      "text/html": [
       "<div>\n",
       "<style scoped>\n",
       "    .dataframe tbody tr th:only-of-type {\n",
       "        vertical-align: middle;\n",
       "    }\n",
       "\n",
       "    .dataframe tbody tr th {\n",
       "        vertical-align: top;\n",
       "    }\n",
       "\n",
       "    .dataframe thead th {\n",
       "        text-align: right;\n",
       "    }\n",
       "</style>\n",
       "<table border=\"1\" class=\"dataframe\">\n",
       "  <thead>\n",
       "    <tr style=\"text-align: right;\">\n",
       "      <th></th>\n",
       "      <th>sum_rain</th>\n",
       "      <th>sum_snow</th>\n",
       "      <th>DiscoveryAcres</th>\n",
       "      <th>total_acres</th>\n",
       "      <th>temp_2m</th>\n",
       "      <th>temp_2m_max</th>\n",
       "      <th>humidity</th>\n",
       "      <th>rain</th>\n",
       "      <th>wind_speed_2m</th>\n",
       "      <th>wind_speed_2m_max</th>\n",
       "      <th>wind_speed_10m</th>\n",
       "      <th>wind_speed_10m_max</th>\n",
       "      <th>surface_soil_wetness_5cm_below</th>\n",
       "      <th>surface_soil_wetness_to_bedrock</th>\n",
       "      <th>landcover_class</th>\n",
       "    </tr>\n",
       "  </thead>\n",
       "  <tbody>\n",
       "    <tr>\n",
       "      <th>0</th>\n",
       "      <td>158.20</td>\n",
       "      <td>2.64</td>\n",
       "      <td>5.0</td>\n",
       "      <td>5990.90</td>\n",
       "      <td>24.80</td>\n",
       "      <td>33.19</td>\n",
       "      <td>5.92</td>\n",
       "      <td>0.00</td>\n",
       "      <td>1.76</td>\n",
       "      <td>3.42</td>\n",
       "      <td>2.61</td>\n",
       "      <td>4.52</td>\n",
       "      <td>0.31</td>\n",
       "      <td>0.37</td>\n",
       "      <td>489</td>\n",
       "    </tr>\n",
       "    <tr>\n",
       "      <th>1</th>\n",
       "      <td>10.54</td>\n",
       "      <td>0.00</td>\n",
       "      <td>1.0</td>\n",
       "      <td>136.00</td>\n",
       "      <td>22.72</td>\n",
       "      <td>31.95</td>\n",
       "      <td>2.69</td>\n",
       "      <td>0.00</td>\n",
       "      <td>2.65</td>\n",
       "      <td>4.88</td>\n",
       "      <td>3.88</td>\n",
       "      <td>6.57</td>\n",
       "      <td>0.12</td>\n",
       "      <td>0.42</td>\n",
       "      <td>470</td>\n",
       "    </tr>\n",
       "    <tr>\n",
       "      <th>2</th>\n",
       "      <td>152.93</td>\n",
       "      <td>2.64</td>\n",
       "      <td>15.0</td>\n",
       "      <td>147.00</td>\n",
       "      <td>26.21</td>\n",
       "      <td>35.48</td>\n",
       "      <td>7.57</td>\n",
       "      <td>0.01</td>\n",
       "      <td>1.62</td>\n",
       "      <td>4.30</td>\n",
       "      <td>2.66</td>\n",
       "      <td>6.88</td>\n",
       "      <td>0.29</td>\n",
       "      <td>0.38</td>\n",
       "      <td>183</td>\n",
       "    </tr>\n",
       "    <tr>\n",
       "      <th>3</th>\n",
       "      <td>284.77</td>\n",
       "      <td>7.83</td>\n",
       "      <td>1.0</td>\n",
       "      <td>2.88</td>\n",
       "      <td>-0.55</td>\n",
       "      <td>3.97</td>\n",
       "      <td>2.14</td>\n",
       "      <td>0.00</td>\n",
       "      <td>0.06</td>\n",
       "      <td>0.10</td>\n",
       "      <td>5.79</td>\n",
       "      <td>7.85</td>\n",
       "      <td>0.63</td>\n",
       "      <td>0.62</td>\n",
       "      <td>163</td>\n",
       "    </tr>\n",
       "    <tr>\n",
       "      <th>4</th>\n",
       "      <td>395.50</td>\n",
       "      <td>4.62</td>\n",
       "      <td>0.1</td>\n",
       "      <td>13.10</td>\n",
       "      <td>22.30</td>\n",
       "      <td>32.40</td>\n",
       "      <td>8.00</td>\n",
       "      <td>0.00</td>\n",
       "      <td>0.16</td>\n",
       "      <td>0.45</td>\n",
       "      <td>1.83</td>\n",
       "      <td>3.48</td>\n",
       "      <td>0.40</td>\n",
       "      <td>0.48</td>\n",
       "      <td>301</td>\n",
       "    </tr>\n",
       "  </tbody>\n",
       "</table>\n",
       "</div>"
      ],
      "text/plain": [
       "   sum_rain  sum_snow  DiscoveryAcres  total_acres  temp_2m  temp_2m_max  \\\n",
       "0    158.20      2.64             5.0      5990.90    24.80        33.19   \n",
       "1     10.54      0.00             1.0       136.00    22.72        31.95   \n",
       "2    152.93      2.64            15.0       147.00    26.21        35.48   \n",
       "3    284.77      7.83             1.0         2.88    -0.55         3.97   \n",
       "4    395.50      4.62             0.1        13.10    22.30        32.40   \n",
       "\n",
       "   humidity  rain  wind_speed_2m  wind_speed_2m_max  wind_speed_10m  \\\n",
       "0      5.92  0.00           1.76               3.42            2.61   \n",
       "1      2.69  0.00           2.65               4.88            3.88   \n",
       "2      7.57  0.01           1.62               4.30            2.66   \n",
       "3      2.14  0.00           0.06               0.10            5.79   \n",
       "4      8.00  0.00           0.16               0.45            1.83   \n",
       "\n",
       "   wind_speed_10m_max  surface_soil_wetness_5cm_below  \\\n",
       "0                4.52                            0.31   \n",
       "1                6.57                            0.12   \n",
       "2                6.88                            0.29   \n",
       "3                7.85                            0.63   \n",
       "4                3.48                            0.40   \n",
       "\n",
       "   surface_soil_wetness_to_bedrock  landcover_class  \n",
       "0                             0.37              489  \n",
       "1                             0.42              470  \n",
       "2                             0.38              183  \n",
       "3                             0.62              163  \n",
       "4                             0.48              301  "
      ]
     },
     "execution_count": 2,
     "metadata": {},
     "output_type": "execute_result"
    }
   ],
   "source": [
    "np.random.seed(42)\n",
    "\n",
    "df = pd.read_csv('../../data/processed/master_dataset.csv')\n",
    "\n",
    "df.head()"
   ]
  },
  {
   "cell_type": "code",
   "execution_count": 3,
   "id": "83f8cb36-8136-4e76-9616-1ee9d4f8b169",
   "metadata": {},
   "outputs": [
    {
     "name": "stdout",
     "output_type": "stream",
     "text": [
      "sum_rain\n",
      "sum_snow\n",
      "DiscoveryAcres\n",
      "total_acres\n",
      "temp_2m\n",
      "temp_2m_max\n",
      "humidity\n",
      "rain\n",
      "wind_speed_2m\n",
      "wind_speed_2m_max\n",
      "wind_speed_10m\n",
      "wind_speed_10m_max\n",
      "surface_soil_wetness_5cm_below\n",
      "surface_soil_wetness_to_bedrock\n",
      "landcover_class\n"
     ]
    }
   ],
   "source": [
    "for i in df.columns:\n",
    "    print(i)"
   ]
  },
  {
   "cell_type": "code",
   "execution_count": 4,
   "id": "58b3b524-6a0f-4233-a010-e0cd0515b737",
   "metadata": {},
   "outputs": [
    {
     "data": {
      "text/plain": [
       "(2122, 15)"
      ]
     },
     "execution_count": 4,
     "metadata": {},
     "output_type": "execute_result"
    }
   ],
   "source": [
    "df.shape"
   ]
  },
  {
   "cell_type": "code",
   "execution_count": 5,
   "id": "076c1840-361c-4259-a328-3629810bf4a3",
   "metadata": {},
   "outputs": [
    {
     "data": {
      "text/plain": [
       "count      2122.000000\n",
       "mean       2999.687916\n",
       "std       21287.395283\n",
       "min           1.170000\n",
       "25%           4.600000\n",
       "50%          19.100000\n",
       "75%         158.950000\n",
       "max      413718.000000\n",
       "Name: total_acres, dtype: float64"
      ]
     },
     "execution_count": 5,
     "metadata": {},
     "output_type": "execute_result"
    }
   ],
   "source": [
    "df['total_acres'].describe()"
   ]
  },
  {
   "cell_type": "code",
   "execution_count": 6,
   "id": "56ff6f49-c5bb-42e6-bf57-6f7ac5580a71",
   "metadata": {},
   "outputs": [],
   "source": [
    "iqr = 158.95-4.6\n",
    "upper_range = 1.5*iqr + 158.95\n",
    "df = df[df['total_acres'] <= upper_range]"
   ]
  },
  {
   "cell_type": "code",
   "execution_count": 7,
   "id": "65e35ebd-f4ba-4b38-8b30-4cf1b2e10f04",
   "metadata": {},
   "outputs": [
    {
     "data": {
      "text/plain": [
       "(1724, 15)"
      ]
     },
     "execution_count": 7,
     "metadata": {},
     "output_type": "execute_result"
    }
   ],
   "source": [
    "df.shape"
   ]
  },
  {
   "cell_type": "markdown",
   "id": "f4a24cc2-d37f-4e61-b73c-67c6d77f80df",
   "metadata": {
    "tags": []
   },
   "source": [
    "---\n",
    "######\n",
    "### Investigating Clustering:\n",
    "######\n",
    "##### Using DBSCAN and Potentially Adding Cluster Results as Feature\n",
    "######\n",
    "___"
   ]
  },
  {
   "cell_type": "code",
   "execution_count": 8,
   "id": "95c3e266-6f59-4e1e-8fde-9e5eca244e3a",
   "metadata": {},
   "outputs": [],
   "source": [
    "X_train, X_test, y_train, y_test = train_test_split(df.drop(columns = 'total_acres'), df['total_acres'], random_state= 42)\n",
    "ss = StandardScaler()\n",
    "X_train = ss.fit_transform(X_train)\n",
    "X_test = ss.transform(X_test)"
   ]
  },
  {
   "cell_type": "code",
   "execution_count": 9,
   "id": "206b2261-157a-41d1-a21c-9a8d95e1557c",
   "metadata": {},
   "outputs": [
    {
     "data": {
      "text/plain": [
       "[[-0.3602412959172937, 1.0],\n",
       " [-0.27127586688691074, 1.4736842105263157],\n",
       " [0.25630971921938606, 1.9473684210526314],\n",
       " [0.38298188987525206, 2.4210526315789473],\n",
       " [0.49147603827925496, 2.894736842105263],\n",
       " [0.5008692311004035, 3.3684210526315788],\n",
       " [0.5456956757682443, 3.8421052631578947],\n",
       " [0.5795107952760772, 4.315789473684211],\n",
       " [0.679444527582705, 4.789473684210526],\n",
       " [0.7300696979411784, 5.263157894736842],\n",
       " [0.7300696979411784, 5.7368421052631575],\n",
       " [0.7300696979411784, 6.2105263157894735],\n",
       " [0.8004412350233295, 6.684210526315789],\n",
       " [0.8004412350233295, 7.157894736842105],\n",
       " [0.8004412350233295, 7.63157894736842],\n",
       " [0.8004412350233295, 8.105263157894736],\n",
       " [0.8004412350233295, 8.578947368421051],\n",
       " [0.8004412350233295, 9.052631578947368],\n",
       " [0.8004412350233295, 9.526315789473683],\n",
       " [0.8004412350233295, 10.0]]"
      ]
     },
     "execution_count": 9,
     "metadata": {},
     "output_type": "execute_result"
    }
   ],
   "source": [
    "# Checking to see which value of epsilon is best\n",
    "\n",
    "silhouette_score_list = []\n",
    "epsilons = np.linspace(1, 10, 20)\n",
    "\n",
    "for i in epsilons:\n",
    "    try:\n",
    "        dbscan = DBSCAN(eps=i)\n",
    "        dbscan.fit(X_train)\n",
    "        silhouette_score_list.append([silhouette_score(X_train, dbscan.labels_), i])\n",
    "    except:\n",
    "        pass\n",
    "silhouette_score_list"
   ]
  },
  {
   "cell_type": "code",
   "execution_count": 10,
   "id": "6f491b89-b9e4-4894-a698-7d801456f656",
   "metadata": {},
   "outputs": [
    {
     "data": {
      "text/plain": [
       "[[0.8004412350233295, 1],\n",
       " [0.8004412350233295, 2],\n",
       " [0.8004412350233295, 3],\n",
       " [0.8004412350233295, 4],\n",
       " [0.8004412350233295, 5],\n",
       " [0.8004412350233295, 6],\n",
       " [0.8004412350233295, 7],\n",
       " [0.8004412350233295, 8],\n",
       " [0.8004412350233295, 9],\n",
       " [0.8004412350233295, 10],\n",
       " [0.8004412350233295, 11],\n",
       " [0.8004412350233295, 12],\n",
       " [0.7300696979411784, 13],\n",
       " [0.7300696979411784, 14],\n",
       " [0.7300696979411784, 15],\n",
       " [0.7300696979411784, 16],\n",
       " [0.7300696979411784, 17],\n",
       " [0.7300696979411784, 18],\n",
       " [0.7300696979411784, 19],\n",
       " [0.7300696979411784, 20]]"
      ]
     },
     "execution_count": 10,
     "metadata": {},
     "output_type": "execute_result"
    }
   ],
   "source": [
    "#checking to see \n",
    "silhouette_score_list = []\n",
    "min_samples = range(1, 21)\n",
    "\n",
    "for j in min_samples:\n",
    "    try:\n",
    "        dbscan = DBSCAN(eps= 6.47, min_samples = j)\n",
    "        dbscan.fit(X_train)\n",
    "        silhouette_score_list.append([silhouette_score(X_train, dbscan.labels_), j])\n",
    "    except:\n",
    "        pass\n",
    "silhouette_score_list"
   ]
  },
  {
   "cell_type": "code",
   "execution_count": 11,
   "id": "00163370-af2e-489a-8fd7-d262b5ae0a14",
   "metadata": {},
   "outputs": [
    {
     "data": {
      "text/plain": [
       "array([ 0, -1], dtype=int64)"
      ]
     },
     "execution_count": 11,
     "metadata": {},
     "output_type": "execute_result"
    }
   ],
   "source": [
    "db = DBSCAN(eps=6.68)\n",
    "db.fit(X_train)\n",
    "pd.Series(db.labels_).unique()"
   ]
  },
  {
   "cell_type": "code",
   "execution_count": 12,
   "id": "fedab2d3-f33c-4288-950a-cfbf03d9a9bd",
   "metadata": {},
   "outputs": [
    {
     "data": {
      "text/plain": [
       "1"
      ]
     },
     "execution_count": 12,
     "metadata": {},
     "output_type": "execute_result"
    }
   ],
   "source": [
    "(db.labels_ == -1).sum()"
   ]
  },
  {
   "cell_type": "markdown",
   "id": "427dfd08-9234-4bc7-a93d-8a516dab22c6",
   "metadata": {},
   "source": [
    "Decided to not use DBSCAN"
   ]
  },
  {
   "cell_type": "markdown",
   "id": "121d6674-5aae-47d7-89d8-80d283de8ad1",
   "metadata": {
    "tags": []
   },
   "source": [
    "---\n",
    "######\n",
    "### Investigating Correlation Between the Features and Target (DailyAcres)\n",
    "######\n",
    "___"
   ]
  },
  {
   "cell_type": "code",
   "execution_count": 13,
   "id": "59ac217f-5154-4949-9caa-49356f824845",
   "metadata": {},
   "outputs": [
    {
     "data": {
      "image/png": "[encoded data removed]",
      "text/plain": [
       "<Figure size 600x1200 with 2 Axes>"
      ]
     },
     "metadata": {},
     "output_type": "display_data"
    }
   ],
   "source": [
    "plt.figure(figsize = (6, 12))\n",
    "sns.heatmap(df.corr()[['total_acres']].sort_values(by = 'total_acres', ascending=False),\n",
    "            vmin = -1,\n",
    "            vmax = 1, \n",
    "            cmap = 'coolwarm',\n",
    "            annot = True);"
   ]
  },
  {
   "cell_type": "markdown",
   "id": "cb70a3d8-c1ea-45df-b929-77dae673143a",
   "metadata": {},
   "source": [
    "---\n",
    "######\n",
    "### Train/Test Splitting Data, Standard Scaling, Polynomial Features and PCA (not using landcover_class)\n",
    "######\n",
    "___"
   ]
  },
  {
   "cell_type": "code",
   "execution_count": 14,
   "id": "1b167691-24fb-47ca-869e-924bc2d431cf",
   "metadata": {},
   "outputs": [],
   "source": [
    "X_train, X_test, y_train, y_test = train_test_split(df.drop(columns = ['total_acres', 'landcover_class']), df['total_acres'], random_state= 42)\n",
    "ss = StandardScaler()\n",
    "X_train_sc = ss.fit_transform(X_train)\n",
    "X_test_sc = ss.transform(X_test)"
   ]
  },
  {
   "cell_type": "code",
   "execution_count": 15,
   "id": "386f0788-370a-4c36-875a-754084eb73aa",
   "metadata": {},
   "outputs": [],
   "source": [
    "poly = PolynomialFeatures()\n",
    "poly_X_train = poly.fit_transform(X_train_sc)\n",
    "poly_X_test = poly.transform(X_test_sc)"
   ]
  },
  {
   "cell_type": "code",
   "execution_count": 16,
   "id": "2419e064-18ae-42a2-9147-d59fb2b1d592",
   "metadata": {},
   "outputs": [
    {
     "data": {
      "text/plain": [
       "(1293, 105)"
      ]
     },
     "execution_count": 16,
     "metadata": {},
     "output_type": "execute_result"
    }
   ],
   "source": [
    "poly_X_train.shape"
   ]
  },
  {
   "cell_type": "code",
   "execution_count": 17,
   "id": "fd82c3b0-46e2-4136-b8fa-01b17e7e6773",
   "metadata": {},
   "outputs": [],
   "source": [
    "pca = PCA(random_state = 42)\n",
    "\n",
    "\n",
    "Z_train_poly = pca.fit_transform(poly_X_train)\n",
    "Z_test_poly = pca.transform(poly_X_test)"
   ]
  },
  {
   "cell_type": "code",
   "execution_count": 18,
   "id": "c7382fc2-6aac-4c9c-8b6c-fcc359b18e9a",
   "metadata": {},
   "outputs": [
    {
     "data": {
      "text/plain": [
       "array([0.553, 0.651, 0.745, 0.808, 0.837, 0.858, 0.876, 0.894, 0.906,\n",
       "       0.917, 0.925, 0.931, 0.937, 0.942, 0.947, 0.951, 0.955, 0.958,\n",
       "       0.961, 0.964, 0.967, 0.969, 0.971, 0.974, 0.976, 0.977, 0.979,\n",
       "       0.981, 0.982, 0.983, 0.985, 0.986, 0.987, 0.988, 0.989, 0.989,\n",
       "       0.99 , 0.991, 0.992, 0.992, 0.993, 0.993, 0.994, 0.994, 0.995,\n",
       "       0.995, 0.995, 0.996, 0.996, 0.996, 0.997, 0.997, 0.997, 0.997,\n",
       "       0.998, 0.998, 0.998, 0.998, 0.998, 0.998])"
      ]
     },
     "execution_count": 18,
     "metadata": {},
     "output_type": "execute_result"
    }
   ],
   "source": [
    "explained = pca.explained_variance_ratio_\n",
    "cumulative = np.cumsum(explained)\n",
    "np.round(cumulative[:60], 3)"
   ]
  },
  {
   "cell_type": "code",
   "execution_count": 19,
   "id": "44fb8881-3751-409b-b7ab-e1324f6c4a99",
   "metadata": {},
   "outputs": [],
   "source": [
    "Z_train_poly = Z_train_poly[:,:60]\n",
    "Z_test_poly = Z_test_poly[:,:60]"
   ]
  },
  {
   "cell_type": "code",
   "execution_count": 20,
   "id": "06c90a7d-f590-43f4-be43-07bbb522266b",
   "metadata": {},
   "outputs": [],
   "source": [
    "# PCA X_train without Polynomial Feature transformation\n",
    "pca = PCA(random_state = 42)\n",
    "\n",
    "\n",
    "Z_train = pca.fit_transform(X_train_sc)\n",
    "Z_test = pca.transform(X_test_sc)"
   ]
  },
  {
   "cell_type": "code",
   "execution_count": 21,
   "id": "9e7d8eee-c1fd-4b4d-a0ee-486cf3ea1dba",
   "metadata": {},
   "outputs": [
    {
     "data": {
      "text/plain": [
       "array([0.333, 0.557, 0.679, 0.769, 0.846, 0.906, 0.937, 0.964, 0.98 ,\n",
       "       0.991, 0.999, 1.   ])"
      ]
     },
     "execution_count": 21,
     "metadata": {},
     "output_type": "execute_result"
    }
   ],
   "source": [
    "explained = pca.explained_variance_ratio_\n",
    "cumulative = np.cumsum(explained)\n",
    "np.round(cumulative[:12], 3)"
   ]
  },
  {
   "cell_type": "code",
   "execution_count": 22,
   "id": "cb7bcd6f-56f6-468f-832e-93b06e0c685a",
   "metadata": {},
   "outputs": [],
   "source": [
    "Z_train = Z_train[:,:12]\n",
    "Z_test = Z_test[:,:12]"
   ]
  },
  {
   "cell_type": "markdown",
   "id": "b9a9d05f-9a57-4d1b-9598-94b38d3c4852",
   "metadata": {
    "tags": []
   },
   "source": [
    "---\n",
    "######\n",
    "### Dummying Landcover_Class and re-train/test splitting\n",
    "######\n",
    "___"
   ]
  },
  {
   "cell_type": "code",
   "execution_count": 23,
   "id": "551f2ba7-6d3b-460c-89a0-0355efd41526",
   "metadata": {},
   "outputs": [],
   "source": [
    "df1 = pd.get_dummies(data = df, columns = ['landcover_class'], drop_first= True)\n",
    "X_train_dum, X_test_dum, y_train, y_test = train_test_split(df1.drop(columns = ['total_acres']), df['total_acres'], random_state= 42)\n",
    "ss = StandardScaler()\n",
    "X_train_dum = ss.fit_transform(X_train_dum)\n",
    "X_test_dum = ss.transform(X_test_dum)"
   ]
  },
  {
   "cell_type": "code",
   "execution_count": 77,
   "id": "22f87b3a-da6c-4081-9da3-cfdc22451e52",
   "metadata": {},
   "outputs": [],
   "source": [
    "#np.savetxt('../../data/processed/Neural_Net_Data/X_train_without_outliers.csv', X_train, delimiter=',')\n",
    "#np.savetxt('../../data/processed/Neural_Net_Data/X_test_without_outliers.csv', X_test, delimiter=',')\n",
    "#np.savetxt('../../data/processed/Neural_Net_Data/Z_train_without_outliers.csv', Z_train, delimiter=',')\n",
    "#np.savetxt('../../data/processed/Neural_Net_Data/Z_test_without_outliers.csv', Z_test, delimiter=',')\n",
    "#np.savetxt('../../data/processed/Neural_Net_Data/Z_train_poly_without_outliers.csv', Z_train_poly, delimiter=',')\n",
    "#np.savetxt('../../data/processed/Neural_Net_Data/Z_test_poly_without_outliers.csv', Z_test_poly, delimiter=',')\n",
    "#np.savetxt('../../data/processed/Neural_Net_Data/X_train_dummied_without_outliers.csv', X_train_dum, delimiter=',')\n",
    "#np.savetxt('../../data/processed/Neural_Net_Data/X_test_dummied_without_outliers.csv', X_test_dum, delimiter=',')\n",
    "#np.savetxt('../../data/processed/Neural_Net_Data/y_train_without_outliers.csv', y_train, delimiter=',')\n",
    "#np.savetxt('../../data/processed/Neural_Net_Data/y_test_without_outliers.csv', y_test, delimiter=',')"
   ]
  },
  {
   "cell_type": "markdown",
   "id": "8fb86577-6df8-416a-80f2-a1c7060d886c",
   "metadata": {},
   "source": [
    "---\n",
    "######\n",
    "### Modeling / Simple Models\n",
    "######\n",
    "---"
   ]
  },
  {
   "cell_type": "markdown",
   "id": "26de7bc8-e5b3-4c83-b1bf-858d2603f751",
   "metadata": {},
   "source": [
    "#### Linear Regression (Baseline) with DF without Landcover_class Dummied Columns"
   ]
  },
  {
   "cell_type": "code",
   "execution_count": 136,
   "id": "c0055d49-ea08-4837-9ece-5029b9868f82",
   "metadata": {},
   "outputs": [
    {
     "name": "stdout",
     "output_type": "stream",
     "text": [
      "Training R-Squared: 0.11707479932695453\n",
      "Testing R-Squared: 0.18276676904241673\n",
      "==================================================\n",
      "RMSE: 62.933417201762055\n"
     ]
    }
   ],
   "source": [
    "lr = LinearRegression()\n",
    "\n",
    "lr.fit(X_train, y_train)\n",
    "print(f'Training R-Squared: {lr.score(X_train, y_train)}')\n",
    "print(f'Testing R-Squared: {lr.score(X_test, y_test)}')\n",
    "print('='*50)\n",
    "print(f'RMSE: {mean_squared_error(y_test, lr.predict(X_test), squared = False)}')"
   ]
  },
  {
   "cell_type": "code",
   "execution_count": 142,
   "id": "f8922bba-08f4-483e-abb6-36f182c721e9",
   "metadata": {},
   "outputs": [
    {
     "data": {
      "text/html": [
       "<div>\n",
       "<style scoped>\n",
       "    .dataframe tbody tr th:only-of-type {\n",
       "        vertical-align: middle;\n",
       "    }\n",
       "\n",
       "    .dataframe tbody tr th {\n",
       "        vertical-align: top;\n",
       "    }\n",
       "\n",
       "    .dataframe thead th {\n",
       "        text-align: right;\n",
       "    }\n",
       "</style>\n",
       "<table border=\"1\" class=\"dataframe\">\n",
       "  <thead>\n",
       "    <tr style=\"text-align: right;\">\n",
       "      <th></th>\n",
       "      <th>Coefficient</th>\n",
       "    </tr>\n",
       "  </thead>\n",
       "  <tbody>\n",
       "    <tr>\n",
       "      <th>sum_rain</th>\n",
       "      <td>-0.024284</td>\n",
       "    </tr>\n",
       "    <tr>\n",
       "      <th>sum_snow</th>\n",
       "      <td>0.509858</td>\n",
       "    </tr>\n",
       "    <tr>\n",
       "      <th>DiscoveryAcres</th>\n",
       "      <td>1.592272</td>\n",
       "    </tr>\n",
       "    <tr>\n",
       "      <th>temp_2m</th>\n",
       "      <td>2.367230</td>\n",
       "    </tr>\n",
       "    <tr>\n",
       "      <th>temp_2m_max</th>\n",
       "      <td>-1.318652</td>\n",
       "    </tr>\n",
       "    <tr>\n",
       "      <th>humidity</th>\n",
       "      <td>0.333696</td>\n",
       "    </tr>\n",
       "    <tr>\n",
       "      <th>rain</th>\n",
       "      <td>1.299634</td>\n",
       "    </tr>\n",
       "    <tr>\n",
       "      <th>wind_speed_2m</th>\n",
       "      <td>-41.718141</td>\n",
       "    </tr>\n",
       "    <tr>\n",
       "      <th>wind_speed_2m_max</th>\n",
       "      <td>25.131269</td>\n",
       "    </tr>\n",
       "    <tr>\n",
       "      <th>wind_speed_10m</th>\n",
       "      <td>23.760358</td>\n",
       "    </tr>\n",
       "    <tr>\n",
       "      <th>wind_speed_10m_max</th>\n",
       "      <td>-12.463318</td>\n",
       "    </tr>\n",
       "    <tr>\n",
       "      <th>surface_soil_wetness_5cm_below</th>\n",
       "      <td>-14.805358</td>\n",
       "    </tr>\n",
       "    <tr>\n",
       "      <th>surface_soil_wetness_to_bedrock</th>\n",
       "      <td>2.494384</td>\n",
       "    </tr>\n",
       "  </tbody>\n",
       "</table>\n",
       "</div>"
      ],
      "text/plain": [
       "                                 Coefficient\n",
       "sum_rain                           -0.024284\n",
       "sum_snow                            0.509858\n",
       "DiscoveryAcres                      1.592272\n",
       "temp_2m                             2.367230\n",
       "temp_2m_max                        -1.318652\n",
       "humidity                            0.333696\n",
       "rain                                1.299634\n",
       "wind_speed_2m                     -41.718141\n",
       "wind_speed_2m_max                  25.131269\n",
       "wind_speed_10m                     23.760358\n",
       "wind_speed_10m_max                -12.463318\n",
       "surface_soil_wetness_5cm_below    -14.805358\n",
       "surface_soil_wetness_to_bedrock     2.494384"
      ]
     },
     "execution_count": 142,
     "metadata": {},
     "output_type": "execute_result"
    }
   ],
   "source": [
    "# Looking at the coefficients of one of the best models we've found\n",
    "coefs = pd.DataFrame(index = X_train.columns, data = lr.coef_, columns= ['Coefficient'])\n",
    "coefs"
   ]
  },
  {
   "cell_type": "markdown",
   "id": "df905f5d-7f4f-405c-b766-bd2995e30245",
   "metadata": {
    "tags": []
   },
   "source": [
    "#### Linear Regression (Baseline) with DF including Landcover_class Dummied Columns"
   ]
  },
  {
   "cell_type": "code",
   "execution_count": 25,
   "id": "82e0d232-ff13-4963-ae9f-2793a14d914b",
   "metadata": {},
   "outputs": [
    {
     "name": "stdout",
     "output_type": "stream",
     "text": [
      "Training R-Squared: 0.19686113693084284\n",
      "Testing R-Squared: -1.2354481655103512e+22\n",
      "==================================================\n",
      "RMSE: 7737854684080.361\n"
     ]
    }
   ],
   "source": [
    "#Linear Regression - Baseline\n",
    "# With X data\n",
    "lr = LinearRegression()\n",
    "\n",
    "lr.fit(X_train_dum, y_train)\n",
    "print(f'Training R-Squared: {lr.score(X_train_dum, y_train)}')\n",
    "print(f'Testing R-Squared: {lr.score(X_test_dum, y_test)}')\n",
    "print('='*50)\n",
    "print(f'RMSE: {mean_squared_error(y_test, lr.predict(X_test_dum), squared = False)}')"
   ]
  },
  {
   "cell_type": "markdown",
   "id": "2d8147ab-369d-4b5b-b0f2-2743ac029cac",
   "metadata": {},
   "source": [
    "#### Linear Regression (Baseline) with Polynomial PCA"
   ]
  },
  {
   "cell_type": "code",
   "execution_count": 27,
   "id": "43c3e0f2-ffd7-426e-9ca4-db68c06c7cd9",
   "metadata": {},
   "outputs": [
    {
     "name": "stdout",
     "output_type": "stream",
     "text": [
      "Training R-Squared: 0.16205695441889467\n",
      "Testing R-Squared: 0.1953926007692225\n",
      "==================================================\n",
      "RMSE: 62.44538047448781\n"
     ]
    }
   ],
   "source": [
    "#Linear Regression - Baseline\n",
    "# With PCA Data\n",
    "lr = LinearRegression()\n",
    "\n",
    "lr.fit(Z_train_poly, y_train)\n",
    "print(f'Training R-Squared: {lr.score(Z_train_poly, y_train)}')\n",
    "print(f'Testing R-Squared: {lr.score(Z_test_poly, y_test)}')\n",
    "print('='*50)\n",
    "print(f'RMSE: {mean_squared_error(y_test, lr.predict(Z_test_poly), squared = False)}')"
   ]
  },
  {
   "cell_type": "markdown",
   "id": "a429558c-eeb4-4c4c-9622-4f31328c45ce",
   "metadata": {},
   "source": [
    "#### Linear Regression (Baseline) with PCA (w/o Polynomial Tranformation)"
   ]
  },
  {
   "cell_type": "code",
   "execution_count": 28,
   "id": "d81cf755-b0c0-4860-9955-1744b335c107",
   "metadata": {},
   "outputs": [
    {
     "name": "stdout",
     "output_type": "stream",
     "text": [
      "Training R-Squared: 0.11046452897439385\n",
      "Testing R-Squared: 0.19061004382028424\n",
      "==================================================\n",
      "RMSE: 62.63069203984553\n"
     ]
    }
   ],
   "source": [
    "#Linear Regression - Baseline\n",
    "# With PCA Data\n",
    "lr = LinearRegression()\n",
    "\n",
    "lr.fit(Z_train, y_train)\n",
    "print(f'Training R-Squared: {lr.score(Z_train, y_train)}')\n",
    "print(f'Testing R-Squared: {lr.score(Z_test, y_test)}')\n",
    "print('='*50)\n",
    "print(f'RMSE: {mean_squared_error(y_test, lr.predict(Z_test), squared = False)}')"
   ]
  },
  {
   "cell_type": "code",
   "execution_count": 32,
   "id": "3b15c720-05e0-4c5a-a85c-e0c5567b5276",
   "metadata": {},
   "outputs": [],
   "source": [
    "def model_eval(model, param_dict, training_data):\n",
    "    '''\n",
    "    This function gridsearches a model (arg: model, instantiated before function call) over the given parameters (param_dict) \n",
    "    and evalutated on the given training data (either X from DF, X_train/test_dum for dummied Landcover_class or \n",
    "    Z from PCA'd components without polynomial features and Z_train/test_poly for PCA'd components after Polynomial Features)\n",
    "    '''\n",
    "    \n",
    "    gs_model = GridSearchCV(model,\n",
    "                            param_grid = param_dict,\n",
    "                            n_jobs = -1)\n",
    "    if training_data == 'X_train':\n",
    "        training = X_train\n",
    "        testing = X_test\n",
    "    elif training_data == 'X_train_dum':\n",
    "        training = X_train_dum\n",
    "        testing = X_test_dum\n",
    "    elif training_data == 'Z_train':\n",
    "        training = Z_train\n",
    "        testing = Z_test\n",
    "    elif training_data == 'Z_train_poly':\n",
    "        training = Z_train_poly\n",
    "        testing = Z_test_poly\n",
    "    else:\n",
    "        return \"Mistaken Training Data Parameter\"\n",
    "    \n",
    "    gs_model.fit(training, y_train)\n",
    "    print(f'Best Score: {gs_model.best_score_}')\n",
    "    print(f'Best Params: {gs_model.best_params_}')\n",
    "    print('='*50)\n",
    "    print(f'RMSE: {mean_squared_error(y_test, gs_model.predict(testing), squared = False)}')\n",
    "    print('='*50)\n",
    "    print(f'Training R-Squared: {gs_model.score(training, y_train)}')\n",
    "    print(f'Testing R-Squared: {gs_model.score(testing, y_test)}')"
   ]
  },
  {
   "cell_type": "markdown",
   "id": "c7746ce1-a75c-4cd3-841f-f137aa87070f",
   "metadata": {},
   "source": [
    "---"
   ]
  },
  {
   "cell_type": "markdown",
   "id": "1e692294-7ae5-4cc4-abb4-0c04b2f5a7fc",
   "metadata": {},
   "source": [
    "#### KNN Regression with DF"
   ]
  },
  {
   "cell_type": "code",
   "execution_count": 34,
   "id": "a61d7fc6-f271-42b4-908b-0a64e0cb7cd8",
   "metadata": {},
   "outputs": [
    {
     "name": "stdout",
     "output_type": "stream",
     "text": [
      "Best Score: 0.031367700477482184\n",
      "Best Params: {'n_neighbors': 60, 'weights': 'distance'}\n",
      "==================================================\n",
      "RMSE: 66.06886360974818\n",
      "==================================================\n",
      "Training R-Squared: 0.9987297075671161\n",
      "Testing R-Squared: 0.09930642687869062\n"
     ]
    }
   ],
   "source": [
    "knn_model = KNeighborsRegressor(n_jobs=-1)\n",
    "\n",
    "knn_params = {\n",
    "    'n_neighbors': range(10, 201, 10),\n",
    "    'weights': ['uniform', 'distance']\n",
    "}\n",
    "\n",
    "model_eval(model = knn_model,\n",
    "           param_dict = knn_params,\n",
    "           training_data = 'X_train')"
   ]
  },
  {
   "cell_type": "markdown",
   "id": "258db30c-b6ec-4e7d-9318-92543aad09a0",
   "metadata": {},
   "source": [
    "#### KNN Regression with DF and Dummies"
   ]
  },
  {
   "cell_type": "code",
   "execution_count": 33,
   "id": "8ad4cdb7-7491-4c82-938e-3c839299206f",
   "metadata": {},
   "outputs": [
    {
     "name": "stdout",
     "output_type": "stream",
     "text": [
      "Best Score: 0.031710478428872424\n",
      "Best Params: {'n_neighbors': 70, 'weights': 'distance'}\n",
      "==================================================\n",
      "RMSE: 68.32487268533899\n",
      "==================================================\n",
      "Training R-Squared: 0.999987265415814\n",
      "Testing R-Squared: 0.03674548763030561\n"
     ]
    }
   ],
   "source": [
    "knn_model = KNeighborsRegressor(n_jobs=-1)\n",
    "\n",
    "knn_params = {\n",
    "    'n_neighbors': range(10, 201, 10),\n",
    "    'weights': ['uniform', 'distance']\n",
    "}\n",
    "\n",
    "model_eval(model = knn_model,\n",
    "           param_dict = knn_params,\n",
    "           training_data = 'X_train_dum')"
   ]
  },
  {
   "cell_type": "markdown",
   "id": "4743f8ef-58d0-4786-a940-799b72774937",
   "metadata": {},
   "source": [
    "#### KNN Regression with PCA Data"
   ]
  },
  {
   "cell_type": "code",
   "execution_count": 35,
   "id": "5e69d66e-20a9-4f00-bbb8-c53f85d37d48",
   "metadata": {},
   "outputs": [
    {
     "name": "stdout",
     "output_type": "stream",
     "text": [
      "Best Score: 0.04548860316972101\n",
      "Best Params: {'n_neighbors': 60, 'weights': 'distance'}\n",
      "==================================================\n",
      "RMSE: 65.52596644427524\n",
      "==================================================\n",
      "Training R-Squared: 0.9987297075671161\n",
      "Testing R-Squared: 0.1140478628902355\n"
     ]
    }
   ],
   "source": [
    "knn_model = KNeighborsRegressor(n_jobs=-1)\n",
    "\n",
    "knn_params = {\n",
    "    'n_neighbors': range(10, 201, 10),\n",
    "    'weights': ['uniform', 'distance']\n",
    "}\n",
    "\n",
    "model_eval(model = knn_model,\n",
    "           param_dict = knn_params,\n",
    "           training_data = 'Z_train')"
   ]
  },
  {
   "cell_type": "markdown",
   "id": "1f87c5a5-2296-4697-adae-d0b7a74a94eb",
   "metadata": {},
   "source": [
    "#### KNN Regression with PCA Data and Polyinomial Features"
   ]
  },
  {
   "cell_type": "code",
   "execution_count": 36,
   "id": "27f7572f-20b3-49ab-9dcc-b0667696e218",
   "metadata": {},
   "outputs": [
    {
     "name": "stdout",
     "output_type": "stream",
     "text": [
      "Best Score: 0.036062819203705174\n",
      "Best Params: {'n_neighbors': 80, 'weights': 'distance'}\n",
      "==================================================\n",
      "RMSE: 65.87368784043143\n",
      "==================================================\n",
      "Training R-Squared: 0.9987298175367992\n",
      "Testing R-Squared: 0.1046200918418454\n"
     ]
    }
   ],
   "source": [
    "knn_model = KNeighborsRegressor(n_jobs=-1)\n",
    "\n",
    "knn_params = {\n",
    "    'n_neighbors': range(10, 201, 10),\n",
    "    'weights': ['uniform', 'distance']\n",
    "}\n",
    "\n",
    "model_eval(model = knn_model,\n",
    "           param_dict = knn_params,\n",
    "           training_data = 'Z_train_poly')"
   ]
  },
  {
   "cell_type": "markdown",
   "id": "faf5afa6-423f-42a7-a593-bdab90dbfb27",
   "metadata": {},
   "source": [
    "---"
   ]
  },
  {
   "cell_type": "markdown",
   "id": "440fb78d-42da-4e5e-9506-cbb55db0e2ef",
   "metadata": {},
   "source": [
    "#### Lasso Regression with DF"
   ]
  },
  {
   "cell_type": "code",
   "execution_count": 37,
   "id": "ef184bcc-6786-400d-b2de-5614b88b6e44",
   "metadata": {},
   "outputs": [
    {
     "name": "stdout",
     "output_type": "stream",
     "text": [
      "Best Score: 0.09220712760783349\n",
      "Best Params: {'alpha': 3}\n",
      "==================================================\n",
      "RMSE: 62.45657575587876\n",
      "==================================================\n",
      "Training R-Squared: 0.10838290037630516\n",
      "Testing R-Squared: 0.19510407298253174\n"
     ]
    }
   ],
   "source": [
    "lasso = Lasso()\n",
    "lasso_params = {\n",
    "    'alpha': range(1, 101, 2)\n",
    "}\n",
    "\n",
    "model_eval(model = lasso,\n",
    "           param_dict = lasso_params,\n",
    "           training_data = 'X_train')"
   ]
  },
  {
   "cell_type": "markdown",
   "id": "4c32aa8b-aaef-41ac-aabf-268463bd0c87",
   "metadata": {},
   "source": [
    "#### Lasso Regression with DF and Dummies"
   ]
  },
  {
   "cell_type": "code",
   "execution_count": 38,
   "id": "926c5815-a5de-44d3-b16c-947013d3e5f0",
   "metadata": {},
   "outputs": [
    {
     "name": "stdout",
     "output_type": "stream",
     "text": [
      "Best Score: 0.08794250566148398\n",
      "Best Params: {'alpha': 3}\n",
      "==================================================\n",
      "RMSE: 63.128277369729574\n",
      "==================================================\n",
      "Training R-Squared: 0.14186227155029252\n",
      "Testing R-Squared: 0.1776981505553541\n"
     ]
    }
   ],
   "source": [
    "lasso = Lasso()\n",
    "lasso_params = {\n",
    "    'alpha': range(1, 101, 2)\n",
    "}\n",
    "\n",
    "model_eval(model = lasso,\n",
    "           param_dict = lasso_params,\n",
    "           training_data = 'X_train_dum')"
   ]
  },
  {
   "cell_type": "markdown",
   "id": "a240bbd0-3c73-4b2a-837b-5c19b783f225",
   "metadata": {},
   "source": [
    "#### Lasso Regression with PCA"
   ]
  },
  {
   "cell_type": "code",
   "execution_count": 40,
   "id": "f5bb0b0a-933d-44b6-9592-93355e1b02ad",
   "metadata": {},
   "outputs": [
    {
     "name": "stdout",
     "output_type": "stream",
     "text": [
      "Best Score: 0.08804479297528911\n",
      "Best Params: {'alpha': 1.0}\n",
      "==================================================\n",
      "RMSE: 62.585923899005145\n",
      "==================================================\n",
      "Training R-Squared: 0.10669146327868817\n",
      "Testing R-Squared: 0.1917667269769382\n"
     ]
    }
   ],
   "source": [
    "# Lasso Regression with PCA Data\n",
    "\n",
    "lasso = Lasso()\n",
    "lasso_params = {\n",
    "    'alpha': np.linspace(0.01, 1, 20)\n",
    "}\n",
    "\n",
    "model_eval(model = lasso,\n",
    "           param_dict = lasso_params,\n",
    "           training_data = 'Z_train')"
   ]
  },
  {
   "cell_type": "markdown",
   "id": "84424924-d8d2-4a30-9cc9-9afbac9a2be0",
   "metadata": {},
   "source": [
    "#### Lasso Regression with PCA and Polynomial Features"
   ]
  },
  {
   "cell_type": "code",
   "execution_count": 41,
   "id": "dafa9313-e41e-46e9-84e4-7bb741c2038f",
   "metadata": {},
   "outputs": [
    {
     "name": "stdout",
     "output_type": "stream",
     "text": [
      "Best Score: 0.06182526824591963\n",
      "Best Params: {'alpha': 0.6352631578947369}\n",
      "==================================================\n",
      "RMSE: 63.12066164402759\n",
      "==================================================\n",
      "Training R-Squared: 0.15216940766252918\n",
      "Testing R-Squared: 0.17789654176273295\n"
     ]
    }
   ],
   "source": [
    "lasso = Lasso()\n",
    "lasso_params = {\n",
    "    'alpha': np.linspace(0.01, 1, 20)\n",
    "}\n",
    "\n",
    "model_eval(model = lasso,\n",
    "           param_dict = lasso_params,\n",
    "           training_data = 'Z_train_poly')"
   ]
  },
  {
   "cell_type": "markdown",
   "id": "a2846f80-2ef2-479a-985e-610808b69aee",
   "metadata": {},
   "source": [
    "---"
   ]
  },
  {
   "cell_type": "markdown",
   "id": "7dc594f1-bb89-47bc-b797-78afe930b953",
   "metadata": {},
   "source": [
    "#### Adaboost Regression with DF"
   ]
  },
  {
   "cell_type": "code",
   "execution_count": 104,
   "id": "1e2d2b7d-fc0e-4548-b44e-bcbd0ac0cf9b",
   "metadata": {},
   "outputs": [
    {
     "name": "stdout",
     "output_type": "stream",
     "text": [
      "Best Score: 0.08312895003440937\n",
      "Best Params: {'learning_rate': 0.009, 'n_estimators': 60}\n",
      "==================================================\n",
      "RMSE: 62.9456797830305\n",
      "==================================================\n",
      "Training R-Squared: 0.14655222501284038\n",
      "Testing R-Squared: 0.18244826209683107\n"
     ]
    }
   ],
   "source": [
    "# Adaboost with X Data\n",
    "\n",
    "ada = AdaBoostRegressor()\n",
    "ada_params = {\n",
    "    'n_estimators': range(40, 101, 10),\n",
    "    'learning_rate': [0.008, 0.009, 0.01] \n",
    "}\n",
    "\n",
    "model_eval(model = ada,\n",
    "           param_dict = ada_params,\n",
    "           training_data = 'X_train')"
   ]
  },
  {
   "cell_type": "markdown",
   "id": "27bdd5db-adf7-4343-92ca-f4f0d33354a0",
   "metadata": {},
   "source": [
    "#### Adaboost Regression with DF and Dummies"
   ]
  },
  {
   "cell_type": "code",
   "execution_count": 100,
   "id": "cb3f52e7-cc8d-4613-b6fe-0fba987dfe7b",
   "metadata": {},
   "outputs": [
    {
     "name": "stdout",
     "output_type": "stream",
     "text": [
      "Best Score: 0.07596570078999627\n",
      "Best Params: {'learning_rate': 0.002, 'n_estimators': 70}\n",
      "==================================================\n",
      "RMSE: 62.86982964516168\n",
      "==================================================\n",
      "Training R-Squared: 0.12270274496109745\n",
      "Testing R-Squared: 0.18441739008401803\n"
     ]
    }
   ],
   "source": [
    "ada = AdaBoostRegressor()\n",
    "ada_params = {\n",
    "    'n_estimators': range(40, 101, 10),\n",
    "    'learning_rate': [0.001, 0.002, 0.003] \n",
    "}\n",
    "\n",
    "model_eval(model = ada,\n",
    "           param_dict = ada_params,\n",
    "           training_data = 'X_train_dum')"
   ]
  },
  {
   "cell_type": "markdown",
   "id": "e45ecae4-6055-4ea4-be7d-9c9696ecfab8",
   "metadata": {},
   "source": [
    "#### Adaboost Regression with PCA"
   ]
  },
  {
   "cell_type": "code",
   "execution_count": 105,
   "id": "8cb35fcb-f898-414c-84d5-1e421283e166",
   "metadata": {},
   "outputs": [
    {
     "name": "stdout",
     "output_type": "stream",
     "text": [
      "Best Score: 0.0765798398217901\n",
      "Best Params: {'learning_rate': 0.005, 'n_estimators': 80}\n",
      "==================================================\n",
      "RMSE: 62.957789982011995\n",
      "==================================================\n",
      "Training R-Squared: 0.14509467548991617\n",
      "Testing R-Squared: 0.1821336522089636\n"
     ]
    }
   ],
   "source": [
    "# Adaboost with PCA Data\n",
    "\n",
    "ada = AdaBoostRegressor()\n",
    "ada_params = {\n",
    "    'n_estimators': range(40, 101, 10),\n",
    "    'learning_rate': [0.003, 0.004, 0.005, 0.006, 0.007] \n",
    "}\n",
    "\n",
    "model_eval(model = ada,\n",
    "           param_dict = ada_params,\n",
    "           training_data = 'Z_train')"
   ]
  },
  {
   "cell_type": "markdown",
   "id": "bacbccfb-791a-46e6-be51-a96a8be85f44",
   "metadata": {},
   "source": [
    "#### Adaboost Regression with PCA and Polynomial Features\n"
   ]
  },
  {
   "cell_type": "code",
   "execution_count": 106,
   "id": "b0d6c26c-14df-4826-958e-18af4407f5cf",
   "metadata": {},
   "outputs": [
    {
     "name": "stdout",
     "output_type": "stream",
     "text": [
      "Best Score: 0.06566683711252745\n",
      "Best Params: {'learning_rate': 0.009, 'n_estimators': 60}\n",
      "==================================================\n",
      "RMSE: 63.00141396381983\n",
      "==================================================\n",
      "Training R-Squared: 0.16282690141197131\n",
      "Testing R-Squared: 0.18099984660099178\n"
     ]
    }
   ],
   "source": [
    "ada = AdaBoostRegressor()\n",
    "ada_params = {\n",
    "    'n_estimators': range(20, 61, 10),\n",
    "    'learning_rate': [0.008, 0.009, 0.01, 0.011] \n",
    "}\n",
    "\n",
    "model_eval(model = ada,\n",
    "           param_dict = ada_params,\n",
    "           training_data = 'Z_train_poly')"
   ]
  },
  {
   "cell_type": "markdown",
   "id": "32637eca-4245-486a-a061-95e9a982334d",
   "metadata": {},
   "source": [
    "---"
   ]
  },
  {
   "cell_type": "markdown",
   "id": "3b442804-c19f-48be-ae7b-40df4ef3d459",
   "metadata": {
    "tags": []
   },
   "source": [
    "#### RandomForest Regression with DF"
   ]
  },
  {
   "cell_type": "code",
   "execution_count": 70,
   "id": "ce6db93c-4594-4007-a587-554e7c2a1396",
   "metadata": {},
   "outputs": [
    {
     "name": "stdout",
     "output_type": "stream",
     "text": [
      "Best Score: 0.08283086534517729\n",
      "Best Params: {'ccp_alpha': 0.01, 'max_depth': 2, 'min_samples_leaf': 4, 'min_samples_split': 3}\n",
      "==================================================\n",
      "RMSE: 62.85449534748932\n",
      "==================================================\n",
      "Training R-Squared: 0.12964380038056245\n",
      "Testing R-Squared: 0.18481519174497885\n"
     ]
    }
   ],
   "source": [
    "rf = RandomForestRegressor(n_jobs = -1)\n",
    "\n",
    "rf_params = {\n",
    "    'max_depth': range(1, 10),\n",
    "    'min_samples_split': [2, 3],\n",
    "    'min_samples_leaf': [3, 4, 5],\n",
    "    'ccp_alpha': [0.01, 0.02, 0.03]\n",
    "}\n",
    "\n",
    "model_eval(model = rf,\n",
    "           param_dict = rf_params,\n",
    "           training_data = 'X_train')"
   ]
  },
  {
   "cell_type": "markdown",
   "id": "0983e059-be06-4e3e-9535-3f01c570b8b3",
   "metadata": {},
   "source": [
    "#### RandomForest Regression with DF and Dummies"
   ]
  },
  {
   "cell_type": "code",
   "execution_count": 75,
   "id": "01d5c86f-dc0d-4148-9746-5858a30463e8",
   "metadata": {},
   "outputs": [
    {
     "name": "stdout",
     "output_type": "stream",
     "text": [
      "Best Score: 0.06470967770001232\n",
      "Best Params: {'ccp_alpha': 0.03, 'max_depth': 100, 'min_samples_leaf': 4, 'min_samples_split': 7}\n",
      "==================================================\n",
      "RMSE: 62.758666448907846\n",
      "==================================================\n",
      "Training R-Squared: 0.5846354045133209\n",
      "Testing R-Squared: 0.18729898265767342\n"
     ]
    }
   ],
   "source": [
    "rf = RandomForestRegressor(n_jobs = -1)\n",
    "\n",
    "rf_params = {\n",
    "    'max_depth': range(90, 116, 5),\n",
    "    'min_samples_split': [6, 7, 8],\n",
    "    'min_samples_leaf': [4, 5, 6],\n",
    "    'ccp_alpha': [0.03, 0.04, 0.05, 0.06, 0.07]\n",
    "}\n",
    "\n",
    "model_eval(model = rf,\n",
    "           param_dict = rf_params,\n",
    "           training_data = 'X_train_dum')"
   ]
  },
  {
   "cell_type": "markdown",
   "id": "bd843e96-a095-4cf5-9d09-20440eb0ba15",
   "metadata": {},
   "source": [
    "#### RandomForest Regression with PCA"
   ]
  },
  {
   "cell_type": "code",
   "execution_count": 76,
   "id": "1093d744-c7bb-4e9f-bfcb-53db4481a02b",
   "metadata": {},
   "outputs": [
    {
     "name": "stdout",
     "output_type": "stream",
     "text": [
      "Best Score: 0.07991738834655386\n",
      "Best Params: {'ccp_alpha': 1.1, 'max_depth': 65, 'min_samples_leaf': 17, 'min_samples_split': 2}\n",
      "==================================================\n",
      "RMSE: 62.555838979790195\n",
      "==================================================\n",
      "Training R-Squared: 0.28937236414699075\n",
      "Testing R-Squared: 0.19254357221545348\n"
     ]
    }
   ],
   "source": [
    "rf = RandomForestRegressor(n_jobs = -1)\n",
    "\n",
    "rf_params = {\n",
    "    'max_depth': range(55, 96, 5),\n",
    "    'min_samples_split': [2, 3, 4],\n",
    "    'min_samples_leaf': [15, 16, 17],\n",
    "    'ccp_alpha': [0.9, 1.0, 1.1, 1.2]\n",
    "}\n",
    "\n",
    "model_eval(model = rf,\n",
    "           param_dict = rf_params,\n",
    "           training_data = 'Z_train')"
   ]
  },
  {
   "cell_type": "markdown",
   "id": "beeff967-66ea-4c94-8cad-53835e12b2f3",
   "metadata": {},
   "source": [
    "#### RandomForest Regression with PCA and Polynomial Features"
   ]
  },
  {
   "cell_type": "code",
   "execution_count": 74,
   "id": "1d77268e-6afb-4bac-970d-a22b4adaa816",
   "metadata": {},
   "outputs": [
    {
     "name": "stdout",
     "output_type": "stream",
     "text": [
      "Best Score: 0.07950666188626951\n",
      "Best Params: {'ccp_alpha': 0.5, 'max_depth': 70, 'min_samples_leaf': 18, 'min_samples_split': 5}\n",
      "==================================================\n",
      "RMSE: 62.81764067449911\n",
      "==================================================\n",
      "Training R-Squared: 0.33896399066157856\n",
      "Testing R-Squared: 0.1857708771392641\n"
     ]
    }
   ],
   "source": [
    "rf = RandomForestRegressor(n_jobs = -1)\n",
    "\n",
    "rf_params = {\n",
    "    'max_depth': range(55, 91, 5),\n",
    "    'min_samples_split': [4, 5, 6],\n",
    "    'min_samples_leaf': [16, 17, 18],\n",
    "    'ccp_alpha': [0.5, 0.6, 0.7]\n",
    "}\n",
    "\n",
    "model_eval(model = rf,\n",
    "           param_dict = rf_params,\n",
    "           training_data = 'Z_train_poly')"
   ]
  },
  {
   "cell_type": "markdown",
   "id": "d70753eb-a435-4359-879c-a4cd1ef6a9e4",
   "metadata": {},
   "source": [
    "---\n",
    "######\n",
    "### Modeling / Ensemble Models\n",
    "######\n",
    "---"
   ]
  },
  {
   "cell_type": "markdown",
   "id": "7241e411-f8dd-4b8c-a26e-8c795e4e44cd",
   "metadata": {},
   "source": [
    "#### Stacking Regression with DF and with DecisionTreeRegressor Final Estimator"
   ]
  },
  {
   "cell_type": "code",
   "execution_count": 193,
   "id": "d7cfcb0e-7c27-438c-8c91-359f1387a3e0",
   "metadata": {},
   "outputs": [
    {
     "name": "stdout",
     "output_type": "stream",
     "text": [
      "Training R-Squared: -1.4184027880954284\n",
      "Testing R-Squared: -1.5735150418438275\n",
      "==================================================\n",
      "RMSE: 111.67903703281885\n"
     ]
    }
   ],
   "source": [
    "# Stacking Regressor with X_train\n",
    "\n",
    "lvl1_est = ([\n",
    "    ('rf', RandomForestRegressor(n_jobs=-1)),\n",
    "    ('ada', AdaBoostRegressor()),\n",
    "    ('lasso', Lasso())\n",
    "])\n",
    "\n",
    "stack = StackingRegressor(estimators=lvl1_est, \n",
    "                          final_estimator=DecisionTreeRegressor(),\n",
    "                         n_jobs=-1)\n",
    "\n",
    "stack.fit(X_train, y_train)\n",
    "\n",
    "print(f'Training R-Squared: {stack.score(X_train, y_train)}')\n",
    "print(f'Testing R-Squared: {stack.score(X_test, y_test)}')\n",
    "print('='*50)\n",
    "print(f'RMSE: {mean_squared_error(y_test, stack.predict(X_test), squared = False)}')"
   ]
  },
  {
   "cell_type": "markdown",
   "id": "ba4a19a3-8d06-4a94-90be-952a758583f2",
   "metadata": {},
   "source": [
    "#### Stacking Regression with PCA and with DecisionTreeRegressor Final Estimator"
   ]
  },
  {
   "cell_type": "code",
   "execution_count": 194,
   "id": "3009254b-0e37-4f30-be03-58039d6b0348",
   "metadata": {},
   "outputs": [
    {
     "name": "stdout",
     "output_type": "stream",
     "text": [
      "Training R-Squared: -0.8380928393433082\n",
      "Testing R-Squared: -1.2700805059093656\n",
      "==================================================\n",
      "RMSE: 104.8887560079958\n"
     ]
    }
   ],
   "source": [
    "# Stacking Regressor with Z_train\n",
    "\n",
    "lvl1_est = ([\n",
    "    ('rf', RandomForestRegressor(n_jobs=-1)),\n",
    "    ('ada', AdaBoostRegressor()),\n",
    "    ('lasso', Lasso())\n",
    "])\n",
    "\n",
    "stack = StackingRegressor(estimators=lvl1_est, \n",
    "                          final_estimator=DecisionTreeRegressor(),\n",
    "                         n_jobs=-1)\n",
    "\n",
    "stack.fit(Z_train, y_train)\n",
    "\n",
    "print(f'Training R-Squared: {stack.score(Z_train, y_train)}')\n",
    "print(f'Testing R-Squared: {stack.score(Z_test, y_test)}')\n",
    "print('='*50)\n",
    "print(f'RMSE: {mean_squared_error(y_test, stack.predict(Z_test), squared = False)}')"
   ]
  },
  {
   "cell_type": "markdown",
   "id": "cb8c231e-83b7-4029-8cf4-f38424abcdbf",
   "metadata": {},
   "source": [
    "#### Stacking Regression with DF and with LinearRegression Final Estimator"
   ]
  },
  {
   "cell_type": "code",
   "execution_count": 195,
   "id": "a743ef53-83d9-4b3d-a794-bfd0158edfd8",
   "metadata": {},
   "outputs": [
    {
     "name": "stdout",
     "output_type": "stream",
     "text": [
      "Training R-Squared: 0.35317341766092314\n",
      "Testing R-Squared: 0.1685160144615857\n",
      "==================================================\n",
      "RMSE: 63.47975611894257\n"
     ]
    }
   ],
   "source": [
    "# Stacking Regressor with X_train\n",
    "\n",
    "lvl1_est = ([\n",
    "    ('rf', RandomForestRegressor(n_jobs=-1)),\n",
    "    ('ada', AdaBoostRegressor()),\n",
    "    ('lasso', Lasso())\n",
    "])\n",
    "\n",
    "stack = StackingRegressor(estimators=lvl1_est, \n",
    "                          final_estimator=LinearRegression(),\n",
    "                         n_jobs=-1)\n",
    "\n",
    "stack.fit(X_train, y_train)\n",
    "\n",
    "print(f'Training R-Squared: {stack.score(X_train, y_train)}')\n",
    "print(f'Testing R-Squared: {stack.score(X_test, y_test)}')\n",
    "print('='*50)\n",
    "print(f'RMSE: {mean_squared_error(y_test, stack.predict(X_test), squared = False)}')"
   ]
  },
  {
   "cell_type": "code",
   "execution_count": 78,
   "id": "cd039051-aec3-4942-ac53-88b5b3c1db97",
   "metadata": {},
   "outputs": [
    {
     "name": "stdout",
     "output_type": "stream",
     "text": [
      "Training R-Squared: 0.32166943127161307\n",
      "Testing R-Squared: 0.1620835893436693\n",
      "==================================================\n",
      "RMSE: 63.72482524171087\n"
     ]
    }
   ],
   "source": [
    "# Stacking Regressor with X_train_dum\n",
    "\n",
    "lvl1_est = ([\n",
    "    ('rf', RandomForestRegressor(n_jobs=-1)),\n",
    "    ('ada', AdaBoostRegressor()),\n",
    "    ('lasso', Lasso())\n",
    "])\n",
    "\n",
    "stack = StackingRegressor(estimators=lvl1_est, \n",
    "                          final_estimator=LinearRegression(),\n",
    "                         n_jobs=-1)\n",
    "\n",
    "stack.fit(X_train_dum, y_train)\n",
    "\n",
    "print(f'Training R-Squared: {stack.score(X_train_dum, y_train)}')\n",
    "print(f'Testing R-Squared: {stack.score(X_test_dum, y_test)}')\n",
    "print('='*50)\n",
    "print(f'RMSE: {mean_squared_error(y_test, stack.predict(X_test_dum), squared = False)}')"
   ]
  },
  {
   "cell_type": "markdown",
   "id": "29358f3a-5bbb-437e-807d-3bc766df4a9e",
   "metadata": {
    "tags": []
   },
   "source": [
    "#### Stacking Regression with PCA and with LinearRegression Final Estimator"
   ]
  },
  {
   "cell_type": "code",
   "execution_count": 196,
   "id": "3140c54f-70db-45f3-b270-257e6b904644",
   "metadata": {},
   "outputs": [
    {
     "name": "stdout",
     "output_type": "stream",
     "text": [
      "Training R-Squared: 0.36721870432456305\n",
      "Testing R-Squared: 0.15260315049160966\n",
      "==================================================\n",
      "RMSE: 64.08431220679155\n"
     ]
    }
   ],
   "source": [
    "# Stacking Regressor with PCA\n",
    "\n",
    "lvl1_est = ([\n",
    "    ('rf', RandomForestRegressor(n_jobs=-1)),\n",
    "    ('ada', AdaBoostRegressor()),\n",
    "    ('lasso', Lasso())\n",
    "])\n",
    "\n",
    "stack = StackingRegressor(estimators=lvl1_est, \n",
    "                          final_estimator=LinearRegression(),\n",
    "                         n_jobs=-1)\n",
    "\n",
    "stack.fit(Z_train, y_train)\n",
    "\n",
    "print(f'Training R-Squared: {stack.score(Z_train, y_train)}')\n",
    "print(f'Testing R-Squared: {stack.score(Z_test, y_test)}')\n",
    "print('='*50)\n",
    "print(f'RMSE: {mean_squared_error(y_test, stack.predict(Z_test), squared = False)}')"
   ]
  },
  {
   "cell_type": "code",
   "execution_count": 79,
   "id": "3ecfd41d-a642-4d3f-95bc-d30a53e26380",
   "metadata": {},
   "outputs": [
    {
     "name": "stdout",
     "output_type": "stream",
     "text": [
      "Training R-Squared: 0.39423410408209625\n",
      "Testing R-Squared: 0.15329341717481437\n",
      "==================================================\n",
      "RMSE: 64.05820621079727\n"
     ]
    }
   ],
   "source": [
    "# Stacking Regressor with PCA and Polynomial Transform\n",
    "\n",
    "lvl1_est = ([\n",
    "    ('rf', RandomForestRegressor(n_jobs=-1)),\n",
    "    ('ada', AdaBoostRegressor()),\n",
    "    ('lasso', Lasso())\n",
    "])\n",
    "\n",
    "stack = StackingRegressor(estimators=lvl1_est, \n",
    "                          final_estimator=LinearRegression(),\n",
    "                         n_jobs=-1)\n",
    "\n",
    "stack.fit(Z_train_poly, y_train)\n",
    "\n",
    "print(f'Training R-Squared: {stack.score(Z_train_poly, y_train)}')\n",
    "print(f'Testing R-Squared: {stack.score(Z_test_poly, y_test)}')\n",
    "print('='*50)\n",
    "print(f'RMSE: {mean_squared_error(y_test, stack.predict(Z_test_poly), squared = False)}')"
   ]
  },
  {
   "cell_type": "markdown",
   "id": "857cdb6d-ab02-4714-a9ee-0400a03ff837",
   "metadata": {},
   "source": [
    "#### Stacking Regression with DF and with Lasso Final Estimator"
   ]
  },
  {
   "cell_type": "code",
   "execution_count": 197,
   "id": "c1a142c5-b6f3-4e76-b0cf-ff2fa0b46369",
   "metadata": {},
   "outputs": [
    {
     "name": "stdout",
     "output_type": "stream",
     "text": [
      "Training R-Squared: 0.39146410560561584\n",
      "Testing R-Squared: 0.16778479473900154\n",
      "==================================================\n",
      "RMSE: 63.507662518737\n"
     ]
    }
   ],
   "source": [
    "# Stacking Regressor with X_train\n",
    "\n",
    "lvl1_est = ([\n",
    "    ('rf', RandomForestRegressor(n_jobs=-1)),\n",
    "    ('ada', AdaBoostRegressor()),\n",
    "    ('lasso', Lasso())\n",
    "])\n",
    "\n",
    "stack = StackingRegressor(estimators=lvl1_est, \n",
    "                          final_estimator=Lasso(),\n",
    "                         n_jobs=-1)\n",
    "\n",
    "stack.fit(X_train, y_train)\n",
    "\n",
    "print(f'Training R-Squared: {stack.score(X_train, y_train)}')\n",
    "print(f'Testing R-Squared: {stack.score(X_test, y_test)}')\n",
    "print('='*50)\n",
    "print(f'RMSE: {mean_squared_error(y_test, stack.predict(X_test), squared = False)}')"
   ]
  },
  {
   "cell_type": "markdown",
   "id": "75c0edbc-8a3c-4a87-a931-a733fc90c4ce",
   "metadata": {},
   "source": [
    "#### Stacking Regression with PCA and with Lasso Final Estimator"
   ]
  },
  {
   "cell_type": "code",
   "execution_count": 198,
   "id": "c0ee9cc4-909b-4959-ba3d-c12da5b0e80b",
   "metadata": {},
   "outputs": [
    {
     "name": "stdout",
     "output_type": "stream",
     "text": [
      "Training R-Squared: 0.3774795148457408\n",
      "Testing R-Squared: 0.15092702302086747\n",
      "==================================================\n",
      "RMSE: 64.14765939379238\n"
     ]
    }
   ],
   "source": [
    "# Stacking Regressor with PCA\n",
    "\n",
    "lvl1_est = ([\n",
    "    ('rf', RandomForestRegressor(n_jobs=-1)),\n",
    "    ('ada', AdaBoostRegressor()),\n",
    "    ('lasso', Lasso())\n",
    "])\n",
    "\n",
    "stack = StackingRegressor(estimators=lvl1_est, \n",
    "                          final_estimator=Lasso(),\n",
    "                         n_jobs=-1)\n",
    "\n",
    "stack.fit(Z_train, y_train)\n",
    "\n",
    "print(f'Training R-Squared: {stack.score(Z_train, y_train)}')\n",
    "print(f'Testing R-Squared: {stack.score(Z_test, y_test)}')\n",
    "print('='*50)\n",
    "print(f'RMSE: {mean_squared_error(y_test, stack.predict(Z_test), squared = False)}')"
   ]
  },
  {
   "cell_type": "markdown",
   "id": "939b2ea7-be53-47fa-b6a6-49ae83873e2e",
   "metadata": {},
   "source": [
    "#### Stacking Regression (different base estimators) with DF and with Lasso Final Estimator"
   ]
  },
  {
   "cell_type": "code",
   "execution_count": 199,
   "id": "b23db026-f34e-4c5d-9e6e-95c82690d8d5",
   "metadata": {},
   "outputs": [
    {
     "name": "stdout",
     "output_type": "stream",
     "text": [
      "Training R-Squared: 0.15643391122638106\n",
      "Testing R-Squared: 0.15881909802574934\n",
      "==================================================\n",
      "RMSE: 63.84883935062261\n"
     ]
    }
   ],
   "source": [
    "# Stacking Regressor with X_train\n",
    "\n",
    "lvl1_est = ([\n",
    "    ('ada', AdaBoostRegressor()),\n",
    "    ('lasso', Lasso())\n",
    "])\n",
    "\n",
    "stack = StackingRegressor(estimators=lvl1_est, \n",
    "                          final_estimator=Lasso(),\n",
    "                         n_jobs=-1)\n",
    "\n",
    "stack.fit(X_train, y_train)\n",
    "\n",
    "print(f'Training R-Squared: {stack.score(X_train, y_train)}')\n",
    "print(f'Testing R-Squared: {stack.score(X_test, y_test)}')\n",
    "print('='*50)\n",
    "print(f'RMSE: {mean_squared_error(y_test, stack.predict(X_test), squared = False)}')"
   ]
  },
  {
   "cell_type": "markdown",
   "id": "8623e4b8-73ad-4ae3-8441-9c7223aeb902",
   "metadata": {},
   "source": [
    "#### Stacking Regression (different base estimators) with PCA and with Lasso Final Estimator"
   ]
  },
  {
   "cell_type": "code",
   "execution_count": 200,
   "id": "3b17bbb5-0520-4cee-b373-335bb8590e74",
   "metadata": {},
   "outputs": [
    {
     "name": "stdout",
     "output_type": "stream",
     "text": [
      "Training R-Squared: 0.16276340132215728\n",
      "Testing R-Squared: 0.13456852641203\n",
      "==================================================\n",
      "RMSE: 64.76265544789085\n"
     ]
    }
   ],
   "source": [
    "# Stacking Regressor with PCA\n",
    "\n",
    "lvl1_est = ([\n",
    "    ('ada', AdaBoostRegressor()),\n",
    "    ('lasso', Lasso())\n",
    "])\n",
    "\n",
    "stack = StackingRegressor(estimators=lvl1_est, \n",
    "                          final_estimator=Lasso(),\n",
    "                         n_jobs=-1)\n",
    "\n",
    "stack.fit(Z_train, y_train)\n",
    "\n",
    "print(f'Training R-Squared: {stack.score(Z_train, y_train)}')\n",
    "print(f'Testing R-Squared: {stack.score(Z_test, y_test)}')\n",
    "print('='*50)\n",
    "print(f'RMSE: {mean_squared_error(y_test, stack.predict(Z_test), squared = False)}')"
   ]
  },
  {
   "cell_type": "markdown",
   "id": "17ac3c08-2f62-41cb-9ec9-0b31312ce633",
   "metadata": {},
   "source": [
    "#### Voting Regression with DF"
   ]
  },
  {
   "cell_type": "code",
   "execution_count": 201,
   "id": "57da3253-5722-4a9c-974f-25bbae326835",
   "metadata": {},
   "outputs": [
    {
     "name": "stdout",
     "output_type": "stream",
     "text": [
      "Training R-Squared: 0.2933529666480559\n",
      "Testing R-Squared: -0.058279572429008164\n",
      "==================================================\n",
      "RMSE: 71.61574458739382\n"
     ]
    }
   ],
   "source": [
    "#Voting Classifier with X_train\n",
    "\n",
    "lvl1_est = ([\n",
    "    ('rf', RandomForestRegressor(n_jobs=-1)),\n",
    "    ('ada', AdaBoostRegressor()),\n",
    "    ('lasso', Lasso())\n",
    "])\n",
    "\n",
    "vote = VotingRegressor(estimators = lvl1_est, n_jobs = -1)\n",
    "\n",
    "vote.fit(X_train, y_train)\n",
    "print(f'Training R-Squared: {vote.score(X_train, y_train)}')\n",
    "print(f'Testing R-Squared: {vote.score(X_test, y_test)}')\n",
    "print('='*50)\n",
    "print(f'RMSE: {mean_squared_error(y_test, vote.predict(X_test), squared = False)}')"
   ]
  },
  {
   "cell_type": "markdown",
   "id": "f18d94b6-5fd7-4c1e-8067-433fa8dc7688",
   "metadata": {},
   "source": [
    "#### Voting Regression with PCA"
   ]
  },
  {
   "cell_type": "code",
   "execution_count": 202,
   "id": "a1fae710-f36b-48d4-bb47-24392289fad0",
   "metadata": {},
   "outputs": [
    {
     "name": "stdout",
     "output_type": "stream",
     "text": [
      "Training R-Squared: 0.4248795769435958\n",
      "Testing R-Squared: 0.019913983612345643\n",
      "==================================================\n",
      "RMSE: 68.91922758976229\n"
     ]
    }
   ],
   "source": [
    "#Voting Classifier with PCA\n",
    "\n",
    "lvl1_est = ([\n",
    "    ('rf', RandomForestRegressor(n_jobs=-1)),\n",
    "    ('ada', AdaBoostRegressor()),\n",
    "    ('lasso', Lasso())\n",
    "])\n",
    "\n",
    "vote = VotingRegressor(estimators = lvl1_est, n_jobs = -1)\n",
    "\n",
    "vote.fit(Z_train, y_train)\n",
    "print(f'Training R-Squared: {vote.score(Z_train, y_train)}')\n",
    "print(f'Testing R-Squared: {vote.score(Z_test, y_test)}')\n",
    "print('='*50)\n",
    "print(f'RMSE: {mean_squared_error(y_test, vote.predict(Z_test), squared = False)}')"
   ]
  },
  {
   "cell_type": "markdown",
   "id": "a933034d-9c8d-4e80-a7fd-fc892cd52025",
   "metadata": {},
   "source": [
    "---\n",
    "#####\n",
    "## Best Ensemble Model Thus Far - Gridsearching\n",
    "#####\n",
    "---"
   ]
  },
  {
   "cell_type": "code",
   "execution_count": 110,
   "id": "dfce58d5-9afb-4608-9eab-6f8e87d54b91",
   "metadata": {},
   "outputs": [
    {
     "name": "stdout",
     "output_type": "stream",
     "text": [
      "Best Score: 0.09632186010289094\n",
      "Best Params: {'ada__learning_rate': 0.011, 'ada__n_estimators': 62, 'lasso__alpha': 3, 'rf__ccp_alpha': 0.04, 'rf__max_depth': 2, 'rf__min_samples_leaf': 3, 'rf__min_samples_split': 3}\n",
      "==================================================\n",
      "RMSE: 62.054024241902944\n",
      "==================================================\n",
      "Training R-Squared: 0.126111862182281\n",
      "Testing R-Squared: 0.2054462312650006\n"
     ]
    }
   ],
   "source": [
    "# To save time, each lvl1 estimator was gridsearched by itself to get best parameters for each estimator without compounding runtime\n",
    "# This investigation was run with Linear regression replacing each base level estimator to see if that best simple model helped -- It remained the same\n",
    "\n",
    "lvl1_est = ([\n",
    "    ('rf', RandomForestRegressor(n_jobs=-1)),\n",
    "    ('ada', AdaBoostRegressor()),\n",
    "    ('lasso', Lasso())\n",
    "])\n",
    "\n",
    "stack = StackingRegressor(estimators=lvl1_est, \n",
    "                          final_estimator=LinearRegression(),\n",
    "                         n_jobs=-1)\n",
    "\n",
    "stack_params = {\n",
    "    'rf__max_depth': [2],\n",
    "    'rf__min_samples_split': [3],\n",
    "    'rf__min_samples_leaf': [3],\n",
    "    'rf__ccp_alpha': [0.03, 0.04],\n",
    "    'ada__n_estimators': range(60, 67, 2),\n",
    "    'ada__learning_rate': [0.01, 0.011],\n",
    "    'lasso__alpha': [3]\n",
    "}\n",
    "\n",
    "model_eval(model = stack,\n",
    "           param_dict = stack_params,\n",
    "           training_data = 'X_train')"
   ]
  },
  {
   "cell_type": "markdown",
   "id": "b2cccb04-b108-40fc-b56b-bc30885853e4",
   "metadata": {},
   "source": [
    "---\n",
    "#####\n",
    "## Post Model Analysis\n",
    "#####\n",
    "---"
   ]
  },
  {
   "cell_type": "code",
   "execution_count": 121,
   "id": "2f1f4d27-b37e-45e6-bca8-ad7b97d8ac23",
   "metadata": {},
   "outputs": [
    {
     "name": "stdout",
     "output_type": "stream",
     "text": [
      "Training R-Squared: 0.13165384088997711\n",
      "Testing R-Squared: 0.2045388727751749\n",
      "==================================================\n",
      "RMSE: 62.089446124191575\n"
     ]
    }
   ],
   "source": [
    "# Running model with all gridsearched parameters\n",
    "lvl1_est = ([\n",
    "    ('rf', RandomForestRegressor(max_depth = 2,\n",
    "                                 min_samples_leaf= 3,\n",
    "                                 min_samples_split=3,\n",
    "                                 ccp_alpha=0.04,\n",
    "                                 n_jobs=-1)),\n",
    "    ('lr', LinearRegression()),\n",
    "    ('lasso', Lasso(alpha = 3))\n",
    "])\n",
    "\n",
    "stack1 = StackingRegressor(estimators=lvl1_est, \n",
    "                          final_estimator=LinearRegression(),\n",
    "                         n_jobs=-1)\n",
    "\n",
    "stack1.fit(X_train, y_train)\n",
    "\n",
    "print(f'Training R-Squared: {stack1.score(X_train, y_train)}')\n",
    "print(f'Testing R-Squared: {stack1.score(X_test, y_test)}')\n",
    "print('='*50)\n",
    "print(f'RMSE: {mean_squared_error(y_test, stack1.predict(X_test), squared = False)}')"
   ]
  },
  {
   "cell_type": "code",
   "execution_count": 125,
   "id": "254b7423-aa62-4d48-8801-843e852fde99",
   "metadata": {},
   "outputs": [],
   "source": [
    "#generating predicitons and creating a test-set dataframe\n",
    "preds = stack1.predict(X_test)\n",
    "test_df = X_test.copy()\n",
    "test_df['total_acres'] = y_test\n",
    "test_df['predicted'] = preds\n",
    "test_df['predicted_minus_true'] = test_df['predicted'] - test_df['total_acres']"
   ]
  },
  {
   "cell_type": "code",
   "execution_count": 126,
   "id": "9a000f68-9b9f-4e69-89f1-e86faf6c71e6",
   "metadata": {},
   "outputs": [
    {
     "data": {
      "text/html": [
       "<div>\n",
       "<style scoped>\n",
       "    .dataframe tbody tr th:only-of-type {\n",
       "        vertical-align: middle;\n",
       "    }\n",
       "\n",
       "    .dataframe tbody tr th {\n",
       "        vertical-align: top;\n",
       "    }\n",
       "\n",
       "    .dataframe thead th {\n",
       "        text-align: right;\n",
       "    }\n",
       "</style>\n",
       "<table border=\"1\" class=\"dataframe\">\n",
       "  <thead>\n",
       "    <tr style=\"text-align: right;\">\n",
       "      <th></th>\n",
       "      <th>sum_rain</th>\n",
       "      <th>sum_snow</th>\n",
       "      <th>DiscoveryAcres</th>\n",
       "      <th>temp_2m</th>\n",
       "      <th>temp_2m_max</th>\n",
       "      <th>humidity</th>\n",
       "      <th>rain</th>\n",
       "      <th>wind_speed_2m</th>\n",
       "      <th>wind_speed_2m_max</th>\n",
       "      <th>wind_speed_10m</th>\n",
       "      <th>wind_speed_10m_max</th>\n",
       "      <th>surface_soil_wetness_5cm_below</th>\n",
       "      <th>surface_soil_wetness_to_bedrock</th>\n",
       "      <th>total_acres</th>\n",
       "      <th>predicted</th>\n",
       "      <th>predicted_minus_true</th>\n",
       "    </tr>\n",
       "  </thead>\n",
       "  <tbody>\n",
       "    <tr>\n",
       "      <th>366</th>\n",
       "      <td>184.57</td>\n",
       "      <td>4.62</td>\n",
       "      <td>0.1</td>\n",
       "      <td>25.02</td>\n",
       "      <td>31.21</td>\n",
       "      <td>5.92</td>\n",
       "      <td>0.00</td>\n",
       "      <td>1.21</td>\n",
       "      <td>1.95</td>\n",
       "      <td>2.21</td>\n",
       "      <td>3.93</td>\n",
       "      <td>0.39</td>\n",
       "      <td>0.46</td>\n",
       "      <td>5.1</td>\n",
       "      <td>32.714156</td>\n",
       "      <td>27.614156</td>\n",
       "    </tr>\n",
       "    <tr>\n",
       "      <th>1332</th>\n",
       "      <td>427.15</td>\n",
       "      <td>8.32</td>\n",
       "      <td>15.0</td>\n",
       "      <td>5.42</td>\n",
       "      <td>13.22</td>\n",
       "      <td>4.46</td>\n",
       "      <td>0.39</td>\n",
       "      <td>0.81</td>\n",
       "      <td>1.39</td>\n",
       "      <td>3.92</td>\n",
       "      <td>6.30</td>\n",
       "      <td>0.55</td>\n",
       "      <td>0.54</td>\n",
       "      <td>67.8</td>\n",
       "      <td>42.938169</td>\n",
       "      <td>-24.861831</td>\n",
       "    </tr>\n",
       "    <tr>\n",
       "      <th>654</th>\n",
       "      <td>52.73</td>\n",
       "      <td>3.96</td>\n",
       "      <td>0.1</td>\n",
       "      <td>21.37</td>\n",
       "      <td>29.69</td>\n",
       "      <td>5.68</td>\n",
       "      <td>0.01</td>\n",
       "      <td>3.59</td>\n",
       "      <td>7.12</td>\n",
       "      <td>4.95</td>\n",
       "      <td>9.43</td>\n",
       "      <td>0.25</td>\n",
       "      <td>0.38</td>\n",
       "      <td>1.7</td>\n",
       "      <td>44.196623</td>\n",
       "      <td>42.496623</td>\n",
       "    </tr>\n",
       "    <tr>\n",
       "      <th>1628</th>\n",
       "      <td>14.87</td>\n",
       "      <td>0.15</td>\n",
       "      <td>1.0</td>\n",
       "      <td>36.62</td>\n",
       "      <td>44.65</td>\n",
       "      <td>5.19</td>\n",
       "      <td>0.00</td>\n",
       "      <td>2.57</td>\n",
       "      <td>4.78</td>\n",
       "      <td>3.69</td>\n",
       "      <td>5.89</td>\n",
       "      <td>0.08</td>\n",
       "      <td>0.38</td>\n",
       "      <td>6.0</td>\n",
       "      <td>59.756276</td>\n",
       "      <td>53.756276</td>\n",
       "    </tr>\n",
       "    <tr>\n",
       "      <th>686</th>\n",
       "      <td>305.86</td>\n",
       "      <td>10.56</td>\n",
       "      <td>1.0</td>\n",
       "      <td>19.23</td>\n",
       "      <td>28.55</td>\n",
       "      <td>6.96</td>\n",
       "      <td>1.33</td>\n",
       "      <td>1.25</td>\n",
       "      <td>2.06</td>\n",
       "      <td>2.39</td>\n",
       "      <td>4.10</td>\n",
       "      <td>0.48</td>\n",
       "      <td>0.50</td>\n",
       "      <td>7.3</td>\n",
       "      <td>27.462806</td>\n",
       "      <td>20.162806</td>\n",
       "    </tr>\n",
       "  </tbody>\n",
       "</table>\n",
       "</div>"
      ],
      "text/plain": [
       "      sum_rain  sum_snow  DiscoveryAcres  temp_2m  temp_2m_max  humidity  \\\n",
       "366     184.57      4.62             0.1    25.02        31.21      5.92   \n",
       "1332    427.15      8.32            15.0     5.42        13.22      4.46   \n",
       "654      52.73      3.96             0.1    21.37        29.69      5.68   \n",
       "1628     14.87      0.15             1.0    36.62        44.65      5.19   \n",
       "686     305.86     10.56             1.0    19.23        28.55      6.96   \n",
       "\n",
       "      rain  wind_speed_2m  wind_speed_2m_max  wind_speed_10m  \\\n",
       "366   0.00           1.21               1.95            2.21   \n",
       "1332  0.39           0.81               1.39            3.92   \n",
       "654   0.01           3.59               7.12            4.95   \n",
       "1628  0.00           2.57               4.78            3.69   \n",
       "686   1.33           1.25               2.06            2.39   \n",
       "\n",
       "      wind_speed_10m_max  surface_soil_wetness_5cm_below  \\\n",
       "366                 3.93                            0.39   \n",
       "1332                6.30                            0.55   \n",
       "654                 9.43                            0.25   \n",
       "1628                5.89                            0.08   \n",
       "686                 4.10                            0.48   \n",
       "\n",
       "      surface_soil_wetness_to_bedrock  total_acres  predicted  \\\n",
       "366                              0.46          5.1  32.714156   \n",
       "1332                             0.54         67.8  42.938169   \n",
       "654                              0.38          1.7  44.196623   \n",
       "1628                             0.38          6.0  59.756276   \n",
       "686                              0.50          7.3  27.462806   \n",
       "\n",
       "      predicted_minus_true  \n",
       "366              27.614156  \n",
       "1332            -24.861831  \n",
       "654              42.496623  \n",
       "1628             53.756276  \n",
       "686              20.162806  "
      ]
     },
     "execution_count": 126,
     "metadata": {},
     "output_type": "execute_result"
    }
   ],
   "source": [
    "test_df.head()"
   ]
  },
  {
   "cell_type": "code",
   "execution_count": 144,
   "id": "5e697038-972c-4f2a-835a-b32bbab213e9",
   "metadata": {},
   "outputs": [
    {
     "data": {
      "text/plain": [
       "count    431.000000\n",
       "mean      42.233695\n",
       "std       23.061547\n",
       "min       16.648080\n",
       "25%       33.056652\n",
       "50%       38.081341\n",
       "75%       45.122031\n",
       "max      270.499501\n",
       "Name: predicted, dtype: float64"
      ]
     },
     "execution_count": 144,
     "metadata": {},
     "output_type": "execute_result"
    }
   ],
   "source": [
    "# Investigating the values generated by the predictions\n",
    "test_df['predicted'].describe()"
   ]
  },
  {
   "cell_type": "code",
   "execution_count": 143,
   "id": "1c1ce606-4c00-4160-adf5-59d8fba9f302",
   "metadata": {},
   "outputs": [
    {
     "data": {
      "text/plain": [
       "count    431.000000\n",
       "mean       1.957131\n",
       "std       62.130712\n",
       "min     -338.195401\n",
       "25%        0.718873\n",
       "50%       25.304543\n",
       "75%       33.464158\n",
       "max       64.239538\n",
       "Name: predicted_minus_true, dtype: float64"
      ]
     },
     "execution_count": 143,
     "metadata": {},
     "output_type": "execute_result"
    }
   ],
   "source": [
    "# Looking at the values the predictions were off by\n",
    "test_df['predicted_minus_true'].describe()"
   ]
  },
  {
   "cell_type": "code",
   "execution_count": 148,
   "id": "cac91af1-2af2-4a16-abc2-c5405ee312e6",
   "metadata": {},
   "outputs": [
    {
     "data": {
      "text/plain": [
       "count    431.000000\n",
       "mean      40.276564\n",
       "std       69.696780\n",
       "min        1.170000\n",
       "25%        4.000000\n",
       "50%       10.600000\n",
       "75%       40.550000\n",
       "max      382.000000\n",
       "Name: total_acres, dtype: float64"
      ]
     },
     "execution_count": 148,
     "metadata": {},
     "output_type": "execute_result"
    }
   ],
   "source": [
    "# Looking to see the distribution of the true values\n",
    "test_df['total_acres'].describe()"
   ]
  },
  {
   "cell_type": "code",
   "execution_count": 146,
   "id": "c990d054-c8d0-478b-bb7d-6b6f49a945f0",
   "metadata": {},
   "outputs": [
    {
     "data": {
      "text/html": [
       "<div>\n",
       "<style scoped>\n",
       "    .dataframe tbody tr th:only-of-type {\n",
       "        vertical-align: middle;\n",
       "    }\n",
       "\n",
       "    .dataframe tbody tr th {\n",
       "        vertical-align: top;\n",
       "    }\n",
       "\n",
       "    .dataframe thead th {\n",
       "        text-align: right;\n",
       "    }\n",
       "</style>\n",
       "<table border=\"1\" class=\"dataframe\">\n",
       "  <thead>\n",
       "    <tr style=\"text-align: right;\">\n",
       "      <th></th>\n",
       "      <th>sum_rain</th>\n",
       "      <th>sum_snow</th>\n",
       "      <th>DiscoveryAcres</th>\n",
       "      <th>temp_2m</th>\n",
       "      <th>temp_2m_max</th>\n",
       "      <th>humidity</th>\n",
       "      <th>rain</th>\n",
       "      <th>wind_speed_2m</th>\n",
       "      <th>wind_speed_2m_max</th>\n",
       "      <th>wind_speed_10m</th>\n",
       "      <th>wind_speed_10m_max</th>\n",
       "      <th>surface_soil_wetness_5cm_below</th>\n",
       "      <th>surface_soil_wetness_to_bedrock</th>\n",
       "      <th>total_acres</th>\n",
       "      <th>predicted</th>\n",
       "      <th>predicted_minus_true</th>\n",
       "    </tr>\n",
       "  </thead>\n",
       "  <tbody>\n",
       "    <tr>\n",
       "      <th>366</th>\n",
       "      <td>184.57</td>\n",
       "      <td>4.62</td>\n",
       "      <td>0.1</td>\n",
       "      <td>25.02</td>\n",
       "      <td>31.21</td>\n",
       "      <td>5.92</td>\n",
       "      <td>0.00</td>\n",
       "      <td>1.21</td>\n",
       "      <td>1.95</td>\n",
       "      <td>2.21</td>\n",
       "      <td>3.93</td>\n",
       "      <td>0.39</td>\n",
       "      <td>0.46</td>\n",
       "      <td>5.10</td>\n",
       "      <td>32.714156</td>\n",
       "      <td>27.614156</td>\n",
       "    </tr>\n",
       "    <tr>\n",
       "      <th>654</th>\n",
       "      <td>52.73</td>\n",
       "      <td>3.96</td>\n",
       "      <td>0.1</td>\n",
       "      <td>21.37</td>\n",
       "      <td>29.69</td>\n",
       "      <td>5.68</td>\n",
       "      <td>0.01</td>\n",
       "      <td>3.59</td>\n",
       "      <td>7.12</td>\n",
       "      <td>4.95</td>\n",
       "      <td>9.43</td>\n",
       "      <td>0.25</td>\n",
       "      <td>0.38</td>\n",
       "      <td>1.70</td>\n",
       "      <td>44.196623</td>\n",
       "      <td>42.496623</td>\n",
       "    </tr>\n",
       "    <tr>\n",
       "      <th>1628</th>\n",
       "      <td>14.87</td>\n",
       "      <td>0.15</td>\n",
       "      <td>1.0</td>\n",
       "      <td>36.62</td>\n",
       "      <td>44.65</td>\n",
       "      <td>5.19</td>\n",
       "      <td>0.00</td>\n",
       "      <td>2.57</td>\n",
       "      <td>4.78</td>\n",
       "      <td>3.69</td>\n",
       "      <td>5.89</td>\n",
       "      <td>0.08</td>\n",
       "      <td>0.38</td>\n",
       "      <td>6.00</td>\n",
       "      <td>59.756276</td>\n",
       "      <td>53.756276</td>\n",
       "    </tr>\n",
       "    <tr>\n",
       "      <th>686</th>\n",
       "      <td>305.86</td>\n",
       "      <td>10.56</td>\n",
       "      <td>1.0</td>\n",
       "      <td>19.23</td>\n",
       "      <td>28.55</td>\n",
       "      <td>6.96</td>\n",
       "      <td>1.33</td>\n",
       "      <td>1.25</td>\n",
       "      <td>2.06</td>\n",
       "      <td>2.39</td>\n",
       "      <td>4.10</td>\n",
       "      <td>0.48</td>\n",
       "      <td>0.50</td>\n",
       "      <td>7.30</td>\n",
       "      <td>27.462806</td>\n",
       "      <td>20.162806</td>\n",
       "    </tr>\n",
       "    <tr>\n",
       "      <th>494</th>\n",
       "      <td>116.01</td>\n",
       "      <td>0.00</td>\n",
       "      <td>0.1</td>\n",
       "      <td>26.50</td>\n",
       "      <td>34.62</td>\n",
       "      <td>5.00</td>\n",
       "      <td>0.00</td>\n",
       "      <td>3.17</td>\n",
       "      <td>5.93</td>\n",
       "      <td>4.53</td>\n",
       "      <td>7.82</td>\n",
       "      <td>0.12</td>\n",
       "      <td>0.38</td>\n",
       "      <td>3.10</td>\n",
       "      <td>48.618505</td>\n",
       "      <td>45.518505</td>\n",
       "    </tr>\n",
       "    <tr>\n",
       "      <th>2004</th>\n",
       "      <td>251.46</td>\n",
       "      <td>1.83</td>\n",
       "      <td>1.0</td>\n",
       "      <td>24.40</td>\n",
       "      <td>31.48</td>\n",
       "      <td>4.52</td>\n",
       "      <td>0.02</td>\n",
       "      <td>1.66</td>\n",
       "      <td>3.24</td>\n",
       "      <td>2.30</td>\n",
       "      <td>4.34</td>\n",
       "      <td>0.35</td>\n",
       "      <td>0.40</td>\n",
       "      <td>2.70</td>\n",
       "      <td>34.172101</td>\n",
       "      <td>31.472101</td>\n",
       "    </tr>\n",
       "    <tr>\n",
       "      <th>998</th>\n",
       "      <td>131.83</td>\n",
       "      <td>6.60</td>\n",
       "      <td>2.0</td>\n",
       "      <td>19.69</td>\n",
       "      <td>27.51</td>\n",
       "      <td>4.46</td>\n",
       "      <td>0.00</td>\n",
       "      <td>1.87</td>\n",
       "      <td>3.37</td>\n",
       "      <td>3.86</td>\n",
       "      <td>6.50</td>\n",
       "      <td>0.36</td>\n",
       "      <td>0.43</td>\n",
       "      <td>4.00</td>\n",
       "      <td>35.779690</td>\n",
       "      <td>31.779690</td>\n",
       "    </tr>\n",
       "    <tr>\n",
       "      <th>1681</th>\n",
       "      <td>94.13</td>\n",
       "      <td>2.66</td>\n",
       "      <td>0.1</td>\n",
       "      <td>28.40</td>\n",
       "      <td>37.37</td>\n",
       "      <td>5.86</td>\n",
       "      <td>0.14</td>\n",
       "      <td>1.22</td>\n",
       "      <td>2.52</td>\n",
       "      <td>2.52</td>\n",
       "      <td>4.41</td>\n",
       "      <td>0.17</td>\n",
       "      <td>0.47</td>\n",
       "      <td>5.10</td>\n",
       "      <td>40.435349</td>\n",
       "      <td>35.335349</td>\n",
       "    </tr>\n",
       "    <tr>\n",
       "      <th>665</th>\n",
       "      <td>406.06</td>\n",
       "      <td>7.26</td>\n",
       "      <td>0.1</td>\n",
       "      <td>5.56</td>\n",
       "      <td>14.11</td>\n",
       "      <td>3.11</td>\n",
       "      <td>0.00</td>\n",
       "      <td>0.48</td>\n",
       "      <td>0.68</td>\n",
       "      <td>3.07</td>\n",
       "      <td>4.55</td>\n",
       "      <td>0.51</td>\n",
       "      <td>0.52</td>\n",
       "      <td>4.36</td>\n",
       "      <td>16.648080</td>\n",
       "      <td>12.288080</td>\n",
       "    </tr>\n",
       "    <tr>\n",
       "      <th>1965</th>\n",
       "      <td>278.10</td>\n",
       "      <td>6.06</td>\n",
       "      <td>0.1</td>\n",
       "      <td>16.69</td>\n",
       "      <td>25.23</td>\n",
       "      <td>6.71</td>\n",
       "      <td>0.01</td>\n",
       "      <td>2.05</td>\n",
       "      <td>3.38</td>\n",
       "      <td>4.00</td>\n",
       "      <td>5.62</td>\n",
       "      <td>0.38</td>\n",
       "      <td>0.40</td>\n",
       "      <td>4.13</td>\n",
       "      <td>29.541939</td>\n",
       "      <td>25.411939</td>\n",
       "    </tr>\n",
       "    <tr>\n",
       "      <th>640</th>\n",
       "      <td>110.73</td>\n",
       "      <td>3.30</td>\n",
       "      <td>0.3</td>\n",
       "      <td>20.14</td>\n",
       "      <td>30.51</td>\n",
       "      <td>2.99</td>\n",
       "      <td>0.01</td>\n",
       "      <td>1.51</td>\n",
       "      <td>2.50</td>\n",
       "      <td>3.86</td>\n",
       "      <td>5.67</td>\n",
       "      <td>0.30</td>\n",
       "      <td>0.38</td>\n",
       "      <td>5.02</td>\n",
       "      <td>33.846673</td>\n",
       "      <td>28.826673</td>\n",
       "    </tr>\n",
       "    <tr>\n",
       "      <th>1158</th>\n",
       "      <td>31.63</td>\n",
       "      <td>0.00</td>\n",
       "      <td>2.0</td>\n",
       "      <td>9.58</td>\n",
       "      <td>17.50</td>\n",
       "      <td>2.20</td>\n",
       "      <td>0.00</td>\n",
       "      <td>1.69</td>\n",
       "      <td>3.91</td>\n",
       "      <td>2.53</td>\n",
       "      <td>5.27</td>\n",
       "      <td>0.27</td>\n",
       "      <td>0.47</td>\n",
       "      <td>4.00</td>\n",
       "      <td>31.796377</td>\n",
       "      <td>27.796377</td>\n",
       "    </tr>\n",
       "    <tr>\n",
       "      <th>1042</th>\n",
       "      <td>105.46</td>\n",
       "      <td>1.32</td>\n",
       "      <td>0.1</td>\n",
       "      <td>25.43</td>\n",
       "      <td>33.38</td>\n",
       "      <td>4.64</td>\n",
       "      <td>0.13</td>\n",
       "      <td>1.39</td>\n",
       "      <td>2.73</td>\n",
       "      <td>2.27</td>\n",
       "      <td>4.04</td>\n",
       "      <td>0.20</td>\n",
       "      <td>0.38</td>\n",
       "      <td>3.80</td>\n",
       "      <td>37.204862</td>\n",
       "      <td>33.404862</td>\n",
       "    </tr>\n",
       "    <tr>\n",
       "      <th>1954</th>\n",
       "      <td>188.15</td>\n",
       "      <td>3.49</td>\n",
       "      <td>0.1</td>\n",
       "      <td>21.09</td>\n",
       "      <td>28.24</td>\n",
       "      <td>12.02</td>\n",
       "      <td>2.70</td>\n",
       "      <td>2.29</td>\n",
       "      <td>4.07</td>\n",
       "      <td>3.03</td>\n",
       "      <td>5.76</td>\n",
       "      <td>0.30</td>\n",
       "      <td>0.37</td>\n",
       "      <td>8.90</td>\n",
       "      <td>33.990916</td>\n",
       "      <td>25.090916</td>\n",
       "    </tr>\n",
       "    <tr>\n",
       "      <th>670</th>\n",
       "      <td>52.72</td>\n",
       "      <td>0.00</td>\n",
       "      <td>1.0</td>\n",
       "      <td>20.55</td>\n",
       "      <td>31.23</td>\n",
       "      <td>1.65</td>\n",
       "      <td>0.00</td>\n",
       "      <td>1.30</td>\n",
       "      <td>2.06</td>\n",
       "      <td>2.81</td>\n",
       "      <td>4.16</td>\n",
       "      <td>0.20</td>\n",
       "      <td>0.47</td>\n",
       "      <td>3.00</td>\n",
       "      <td>33.894697</td>\n",
       "      <td>30.894697</td>\n",
       "    </tr>\n",
       "    <tr>\n",
       "      <th>732</th>\n",
       "      <td>26.36</td>\n",
       "      <td>0.00</td>\n",
       "      <td>2.0</td>\n",
       "      <td>12.01</td>\n",
       "      <td>19.74</td>\n",
       "      <td>4.82</td>\n",
       "      <td>0.02</td>\n",
       "      <td>1.29</td>\n",
       "      <td>2.44</td>\n",
       "      <td>2.10</td>\n",
       "      <td>3.24</td>\n",
       "      <td>0.29</td>\n",
       "      <td>0.36</td>\n",
       "      <td>4.00</td>\n",
       "      <td>31.013498</td>\n",
       "      <td>27.013498</td>\n",
       "    </tr>\n",
       "    <tr>\n",
       "      <th>810</th>\n",
       "      <td>168.74</td>\n",
       "      <td>1.32</td>\n",
       "      <td>2.0</td>\n",
       "      <td>23.30</td>\n",
       "      <td>32.77</td>\n",
       "      <td>9.77</td>\n",
       "      <td>0.10</td>\n",
       "      <td>1.14</td>\n",
       "      <td>1.78</td>\n",
       "      <td>2.90</td>\n",
       "      <td>4.59</td>\n",
       "      <td>0.48</td>\n",
       "      <td>0.52</td>\n",
       "      <td>6.61</td>\n",
       "      <td>34.392863</td>\n",
       "      <td>27.782863</td>\n",
       "    </tr>\n",
       "    <tr>\n",
       "      <th>1762</th>\n",
       "      <td>64.64</td>\n",
       "      <td>0.30</td>\n",
       "      <td>3.0</td>\n",
       "      <td>30.69</td>\n",
       "      <td>38.26</td>\n",
       "      <td>10.01</td>\n",
       "      <td>0.75</td>\n",
       "      <td>2.77</td>\n",
       "      <td>5.53</td>\n",
       "      <td>3.80</td>\n",
       "      <td>7.84</td>\n",
       "      <td>0.13</td>\n",
       "      <td>0.43</td>\n",
       "      <td>6.40</td>\n",
       "      <td>52.976366</td>\n",
       "      <td>46.576366</td>\n",
       "    </tr>\n",
       "    <tr>\n",
       "      <th>868</th>\n",
       "      <td>195.11</td>\n",
       "      <td>5.28</td>\n",
       "      <td>1.0</td>\n",
       "      <td>23.11</td>\n",
       "      <td>32.46</td>\n",
       "      <td>7.81</td>\n",
       "      <td>1.07</td>\n",
       "      <td>3.84</td>\n",
       "      <td>6.15</td>\n",
       "      <td>5.65</td>\n",
       "      <td>8.50</td>\n",
       "      <td>0.45</td>\n",
       "      <td>0.48</td>\n",
       "      <td>5.36</td>\n",
       "      <td>40.877495</td>\n",
       "      <td>35.517495</td>\n",
       "    </tr>\n",
       "    <tr>\n",
       "      <th>527</th>\n",
       "      <td>290.04</td>\n",
       "      <td>0.00</td>\n",
       "      <td>0.1</td>\n",
       "      <td>21.23</td>\n",
       "      <td>30.76</td>\n",
       "      <td>3.48</td>\n",
       "      <td>0.00</td>\n",
       "      <td>1.73</td>\n",
       "      <td>3.27</td>\n",
       "      <td>2.66</td>\n",
       "      <td>4.59</td>\n",
       "      <td>0.36</td>\n",
       "      <td>0.48</td>\n",
       "      <td>2.60</td>\n",
       "      <td>29.710111</td>\n",
       "      <td>27.110111</td>\n",
       "    </tr>\n",
       "  </tbody>\n",
       "</table>\n",
       "</div>"
      ],
      "text/plain": [
       "      sum_rain  sum_snow  DiscoveryAcres  temp_2m  temp_2m_max  humidity  \\\n",
       "366     184.57      4.62             0.1    25.02        31.21      5.92   \n",
       "654      52.73      3.96             0.1    21.37        29.69      5.68   \n",
       "1628     14.87      0.15             1.0    36.62        44.65      5.19   \n",
       "686     305.86     10.56             1.0    19.23        28.55      6.96   \n",
       "494     116.01      0.00             0.1    26.50        34.62      5.00   \n",
       "2004    251.46      1.83             1.0    24.40        31.48      4.52   \n",
       "998     131.83      6.60             2.0    19.69        27.51      4.46   \n",
       "1681     94.13      2.66             0.1    28.40        37.37      5.86   \n",
       "665     406.06      7.26             0.1     5.56        14.11      3.11   \n",
       "1965    278.10      6.06             0.1    16.69        25.23      6.71   \n",
       "640     110.73      3.30             0.3    20.14        30.51      2.99   \n",
       "1158     31.63      0.00             2.0     9.58        17.50      2.20   \n",
       "1042    105.46      1.32             0.1    25.43        33.38      4.64   \n",
       "1954    188.15      3.49             0.1    21.09        28.24     12.02   \n",
       "670      52.72      0.00             1.0    20.55        31.23      1.65   \n",
       "732      26.36      0.00             2.0    12.01        19.74      4.82   \n",
       "810     168.74      1.32             2.0    23.30        32.77      9.77   \n",
       "1762     64.64      0.30             3.0    30.69        38.26     10.01   \n",
       "868     195.11      5.28             1.0    23.11        32.46      7.81   \n",
       "527     290.04      0.00             0.1    21.23        30.76      3.48   \n",
       "\n",
       "      rain  wind_speed_2m  wind_speed_2m_max  wind_speed_10m  \\\n",
       "366   0.00           1.21               1.95            2.21   \n",
       "654   0.01           3.59               7.12            4.95   \n",
       "1628  0.00           2.57               4.78            3.69   \n",
       "686   1.33           1.25               2.06            2.39   \n",
       "494   0.00           3.17               5.93            4.53   \n",
       "2004  0.02           1.66               3.24            2.30   \n",
       "998   0.00           1.87               3.37            3.86   \n",
       "1681  0.14           1.22               2.52            2.52   \n",
       "665   0.00           0.48               0.68            3.07   \n",
       "1965  0.01           2.05               3.38            4.00   \n",
       "640   0.01           1.51               2.50            3.86   \n",
       "1158  0.00           1.69               3.91            2.53   \n",
       "1042  0.13           1.39               2.73            2.27   \n",
       "1954  2.70           2.29               4.07            3.03   \n",
       "670   0.00           1.30               2.06            2.81   \n",
       "732   0.02           1.29               2.44            2.10   \n",
       "810   0.10           1.14               1.78            2.90   \n",
       "1762  0.75           2.77               5.53            3.80   \n",
       "868   1.07           3.84               6.15            5.65   \n",
       "527   0.00           1.73               3.27            2.66   \n",
       "\n",
       "      wind_speed_10m_max  surface_soil_wetness_5cm_below  \\\n",
       "366                 3.93                            0.39   \n",
       "654                 9.43                            0.25   \n",
       "1628                5.89                            0.08   \n",
       "686                 4.10                            0.48   \n",
       "494                 7.82                            0.12   \n",
       "2004                4.34                            0.35   \n",
       "998                 6.50                            0.36   \n",
       "1681                4.41                            0.17   \n",
       "665                 4.55                            0.51   \n",
       "1965                5.62                            0.38   \n",
       "640                 5.67                            0.30   \n",
       "1158                5.27                            0.27   \n",
       "1042                4.04                            0.20   \n",
       "1954                5.76                            0.30   \n",
       "670                 4.16                            0.20   \n",
       "732                 3.24                            0.29   \n",
       "810                 4.59                            0.48   \n",
       "1762                7.84                            0.13   \n",
       "868                 8.50                            0.45   \n",
       "527                 4.59                            0.36   \n",
       "\n",
       "      surface_soil_wetness_to_bedrock  total_acres  predicted  \\\n",
       "366                              0.46         5.10  32.714156   \n",
       "654                              0.38         1.70  44.196623   \n",
       "1628                             0.38         6.00  59.756276   \n",
       "686                              0.50         7.30  27.462806   \n",
       "494                              0.38         3.10  48.618505   \n",
       "2004                             0.40         2.70  34.172101   \n",
       "998                              0.43         4.00  35.779690   \n",
       "1681                             0.47         5.10  40.435349   \n",
       "665                              0.52         4.36  16.648080   \n",
       "1965                             0.40         4.13  29.541939   \n",
       "640                              0.38         5.02  33.846673   \n",
       "1158                             0.47         4.00  31.796377   \n",
       "1042                             0.38         3.80  37.204862   \n",
       "1954                             0.37         8.90  33.990916   \n",
       "670                              0.47         3.00  33.894697   \n",
       "732                              0.36         4.00  31.013498   \n",
       "810                              0.52         6.61  34.392863   \n",
       "1762                             0.43         6.40  52.976366   \n",
       "868                              0.48         5.36  40.877495   \n",
       "527                              0.48         2.60  29.710111   \n",
       "\n",
       "      predicted_minus_true  \n",
       "366              27.614156  \n",
       "654              42.496623  \n",
       "1628             53.756276  \n",
       "686              20.162806  \n",
       "494              45.518505  \n",
       "2004             31.472101  \n",
       "998              31.779690  \n",
       "1681             35.335349  \n",
       "665              12.288080  \n",
       "1965             25.411939  \n",
       "640              28.826673  \n",
       "1158             27.796377  \n",
       "1042             33.404862  \n",
       "1954             25.090916  \n",
       "670              30.894697  \n",
       "732              27.013498  \n",
       "810              27.782863  \n",
       "1762             46.576366  \n",
       "868              35.517495  \n",
       "527              27.110111  "
      ]
     },
     "execution_count": 146,
     "metadata": {},
     "output_type": "execute_result"
    }
   ],
   "source": [
    "# Investigating the predicted acres for true total_acres less than 10\n",
    "test_df[test_df['total_acres']<10].head(20)"
   ]
  },
  {
   "cell_type": "code",
   "execution_count": 196,
   "id": "9cad4ecb-ffe7-4a60-95a1-2399b6680edb",
   "metadata": {},
   "outputs": [
    {
     "data": {
      "text/html": [
       "<div>\n",
       "<style scoped>\n",
       "    .dataframe tbody tr th:only-of-type {\n",
       "        vertical-align: middle;\n",
       "    }\n",
       "\n",
       "    .dataframe tbody tr th {\n",
       "        vertical-align: top;\n",
       "    }\n",
       "\n",
       "    .dataframe thead th {\n",
       "        text-align: right;\n",
       "    }\n",
       "</style>\n",
       "<table border=\"1\" class=\"dataframe\">\n",
       "  <thead>\n",
       "    <tr style=\"text-align: right;\">\n",
       "      <th></th>\n",
       "      <th>Coefficient</th>\n",
       "    </tr>\n",
       "  </thead>\n",
       "  <tbody>\n",
       "    <tr>\n",
       "      <th>wind_speed_2m_max</th>\n",
       "      <td>25.131269</td>\n",
       "    </tr>\n",
       "    <tr>\n",
       "      <th>wind_speed_10m</th>\n",
       "      <td>23.760358</td>\n",
       "    </tr>\n",
       "    <tr>\n",
       "      <th>surface_soil_wetness_to_bedrock</th>\n",
       "      <td>2.494384</td>\n",
       "    </tr>\n",
       "    <tr>\n",
       "      <th>temp_2m</th>\n",
       "      <td>2.367230</td>\n",
       "    </tr>\n",
       "    <tr>\n",
       "      <th>DiscoveryAcres</th>\n",
       "      <td>1.592272</td>\n",
       "    </tr>\n",
       "    <tr>\n",
       "      <th>rain</th>\n",
       "      <td>1.299634</td>\n",
       "    </tr>\n",
       "    <tr>\n",
       "      <th>sum_snow</th>\n",
       "      <td>0.509858</td>\n",
       "    </tr>\n",
       "    <tr>\n",
       "      <th>humidity</th>\n",
       "      <td>0.333696</td>\n",
       "    </tr>\n",
       "    <tr>\n",
       "      <th>sum_rain</th>\n",
       "      <td>-0.024284</td>\n",
       "    </tr>\n",
       "    <tr>\n",
       "      <th>temp_2m_max</th>\n",
       "      <td>-1.318652</td>\n",
       "    </tr>\n",
       "    <tr>\n",
       "      <th>wind_speed_10m_max</th>\n",
       "      <td>-12.463318</td>\n",
       "    </tr>\n",
       "    <tr>\n",
       "      <th>surface_soil_wetness_5cm_below</th>\n",
       "      <td>-14.805358</td>\n",
       "    </tr>\n",
       "    <tr>\n",
       "      <th>wind_speed_2m</th>\n",
       "      <td>-41.718141</td>\n",
       "    </tr>\n",
       "  </tbody>\n",
       "</table>\n",
       "</div>"
      ],
      "text/plain": [
       "                                 Coefficient\n",
       "wind_speed_2m_max                  25.131269\n",
       "wind_speed_10m                     23.760358\n",
       "surface_soil_wetness_to_bedrock     2.494384\n",
       "temp_2m                             2.367230\n",
       "DiscoveryAcres                      1.592272\n",
       "rain                                1.299634\n",
       "sum_snow                            0.509858\n",
       "humidity                            0.333696\n",
       "sum_rain                           -0.024284\n",
       "temp_2m_max                        -1.318652\n",
       "wind_speed_10m_max                -12.463318\n",
       "surface_soil_wetness_5cm_below    -14.805358\n",
       "wind_speed_2m                     -41.718141"
      ]
     },
     "execution_count": 196,
     "metadata": {},
     "output_type": "execute_result"
    }
   ],
   "source": [
    "coefs.sort_values(by = 'Coefficient', ascending=False)"
   ]
  },
  {
   "cell_type": "code",
   "execution_count": 190,
   "id": "f4ed7f7d-fa1d-4611-9c2a-ebc5e405e15e",
   "metadata": {},
   "outputs": [
    {
     "data": {
      "image/png": "[encoded data removed]",
      "text/plain": [
       "<Figure size 1200x800 with 1 Axes>"
      ]
     },
     "metadata": {},
     "output_type": "display_data"
    }
   ],
   "source": [
    "plt.figure(figsize = (12,8))\n",
    "sns.histplot(data = test_df[['total_acres', 'predicted']])\n",
    "plt.title('Distribution of True and Predicted Values', fontsize = 30)\n",
    "plt.xlabel('Acres Burned', fontsize = 25)\n",
    "plt.xticks(fontsize = 18)\n",
    "plt.ylabel('Count', fontsize = 25)\n",
    "plt.yticks(fontsize = 18)\n",
    "plt.legend(['True', 'Predicted'], fontsize = 25)\n",
    "plt.tight_layout();\n",
    "plt.savefig('../../public/visuals/True_vs_Preds.png')"
   ]
  },
  {
   "cell_type": "code",
   "execution_count": 166,
   "id": "380d49c1-b6ce-408a-a321-804b0c282810",
   "metadata": {},
   "outputs": [
    {
     "data": {
      "image/png": "[encoded data removed]",
      "text/plain": [
       "<Figure size 640x480 with 1 Axes>"
      ]
     },
     "metadata": {},
     "output_type": "display_data"
    }
   ],
   "source": [
    "# Visualizing the log of the target to see if that was worth investigating\n",
    "\n",
    "sns.histplot(data = np.log(df['total_acres']), bins = 20);"
   ]
  },
  {
   "cell_type": "markdown",
   "id": "41a88f6c-150a-4f09-adb0-eb46519ec1f2",
   "metadata": {},
   "source": [
    "## The post-model analysis shows the best model (stack1) cannot predict low values, resulting in the RMSE not being as low as we had hoped. Moreover, the log of the target isn't normally distributed, but would be worth further investigatino in the future"
   ]
  },
  {
   "cell_type": "code",
   "execution_count": null,
   "id": "341abfbd-cd42-4abf-ae06-477c447a9473",
   "metadata": {},
   "outputs": [],
   "source": []
  }
 ],
 "metadata": {
  "kernelspec": {
   "display_name": "Python 3 (ipykernel)",
   "language": "python",
   "name": "python3"
  },
  "language_info": {
   "codemirror_mode": {
    "name": "ipython",
    "version": 3
   },
   "file_extension": ".py",
   "mimetype": "text/x-python",
   "name": "python",
   "nbconvert_exporter": "python",
   "pygments_lexer": "ipython3",
   "version": "3.9.13"
  }
 },
 "nbformat": 4,
 "nbformat_minor": 5
}
